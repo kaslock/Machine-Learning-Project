{
 "cells": [
  {
   "cell_type": "markdown",
   "metadata": {},
   "source": [
    "　"
   ]
  },
  {
   "cell_type": "markdown",
   "metadata": {},
   "source": [
    "$$\\ \\ \\ \\ \\ \\ \\ \\ \\ \\ \\ \\ \\ \\ \\ \\ \\ \\ \\ \\ \\ \\ \\ \\ \\ \\ \\ \\ \\ \\ \\ \\ \\ \\ \\ \\ \\ \\ \\ \\ \\ \\ \\ \\ \\ \\ \\ \\ \\ \\ \\ \\ \\ \\ \\ \\ \\ \\ \\ \\ \\ \\ \\ \\ \\ \\ \\ \\ \\ \\ \\ \\ \\ \\ \\ \\ \\ \\ \\ \\ \\ \\ \\ \\ \\ \\ \\ \\ \\ \\ \\ \\ \\ \\ \\ \\ \\ \\ \\ \\ \\ \\ \\ \\ \\ \\ \\ \\ \\ \\ \\ \\ \\ \\ \\ \\ \\ \\ \\ \\ \\ 20165549\\ \\ JANG\\ \\ JAE\\ \\ YONG$$"
   ]
  },
  {
   "cell_type": "markdown",
   "metadata": {},
   "source": [
    "　"
   ]
  },
  {
   "cell_type": "markdown",
   "metadata": {},
   "source": [
    "Build a binary classifier for human versus horse based on logistic regression using the dataset that consists of human and horse images"
   ]
  },
  {
   "cell_type": "markdown",
   "metadata": {},
   "source": [
    "　"
   ]
  },
  {
   "cell_type": "markdown",
   "metadata": {},
   "source": [
    " "
   ]
  },
  {
   "cell_type": "code",
   "execution_count": 24,
   "metadata": {},
   "outputs": [],
   "source": [
    "import matplotlib.pyplot as plt\n",
    "import numpy as np\n",
    "\n",
    "import torch\n",
    "from torch.utils.data import Dataset, DataLoader\n",
    "import torchvision.transforms as transforms\n",
    "import torchvision\n",
    "import os\n",
    "\n",
    "transform = transforms.Compose([#transforms.Resize((256,256)),  \n",
    "                                transforms.Grayscale(),\n",
    "    # the code transforms.Graysclae() is for changing the size [3,100,100] to [1, 100, 100] (notice : [channel, height, width] )\n",
    "                                transforms.ToTensor(),])\n",
    "\n",
    "#train_data_path = 'relative path of training data set'\n",
    "train_data_path = 'horse-or-human/horse-or-human/train'\n",
    "trainset = torchvision.datasets.ImageFolder(root=train_data_path, transform=transform)\n",
    "# change the valuse of batch_size, num_workers for your program\n",
    "# if shuffle=True, the data reshuffled at every epoch \n",
    "trainloader = torch.utils.data.DataLoader(trainset, batch_size=1, shuffle=False, num_workers=1)  \n",
    "\n",
    "validation_data_path = 'horse-or-human/horse-or-human/validation'\n",
    "valset = torchvision.datasets.ImageFolder(root=validation_data_path, transform=transform)\n",
    "# change the valuse of batch_size, num_workers for your program\n",
    "valloader = torch.utils.data.DataLoader(valset, batch_size=1, shuffle=False, num_workers=1)  \n",
    "\n",
    "NUM_EPOCH = range(1) # my code\n",
    "\n",
    "#\n",
    "# Image size and number of data\n",
    "#\n",
    "image_size = 10000\n",
    "train_count = 1027\n",
    "validation_count = 256\n",
    "\n",
    "train_label = np.empty(train_count, dtype=float)\n",
    "train_data = np.ones((train_count, image_size + 1), dtype=float)\n",
    "\n",
    "validation_label = np.empty(validation_count, dtype=float)\n",
    "validation_data = np.ones((validation_count, image_size + 1), dtype=float)\n",
    "\n",
    "for epoch in (NUM_EPOCH):\n",
    "    # load training images of the batch size for every iteration\n",
    "    for i, data in enumerate(trainloader):\n",
    "\n",
    "        # inputs is the image\n",
    "        # labels is the class of the image\n",
    "        inputs, labels = data\n",
    "\n",
    "        # if you don't change the image size, it will be [batch_size, 1, 100, 100]\n",
    "        #print(inputs.shape)\n",
    "\n",
    "        # if labels is horse it returns tensor[0,0,0] else it returns tensor[1,1,1]\n",
    "        #print(labels)\n",
    "        \n",
    "        train_label[i] = int(labels)\n",
    "        train_tmp = np.asfarray(inputs)\n",
    "        train_data[i, :10000] = train_tmp[0, 0, :, :].reshape(10000)\n",
    "        \n",
    "    # load validation images of the batch size for every iteration\n",
    "    for i, data in enumerate(valloader):\n",
    "        \n",
    "        # inputs is the image\n",
    "        # labels is the class of the image\n",
    "        inputs, labels = data\n",
    "\n",
    "        # if you don't change the image size, it will be [batch_size, 1, 100, 100]\n",
    "        #print(inputs.shape)\n",
    "\n",
    "        # if labels is horse it returns tensor[0,0,0] else it returns tensor[1,1,1]\n",
    "        #print(labels)\n",
    "        \n",
    "        validation_label[i] = int(labels)\n",
    "        validation_tmp = np.asfarray(inputs)\n",
    "        validation_data[i, :10000] = validation_tmp[0, 0, :, :].reshape(10000)"
   ]
  },
  {
   "cell_type": "code",
   "execution_count": 25,
   "metadata": {},
   "outputs": [],
   "source": [
    "#np.random.seed(1)\n",
    "\n",
    "learningRate = 10**(-3)\n",
    "delta = 10**(-9)\n",
    "\n",
    "def sigmoid(x):\n",
    "    return 1/(1 + np.exp(-x))\n",
    "\n",
    "def loss_function(t, y):\n",
    "    return -np.sum(t*np.log(y+delta) + (1-t)*np.log(1-y+delta)) \n",
    "\n",
    "iteration = 5000\n",
    "\n",
    "uc = 10   # u count\n",
    "vc = 10   # v count\n",
    "wc = 1    # w count\n",
    "\n",
    "u = np.ones((image_size + 1, uc + 1), dtype=float)\n",
    "v = np.ones((uc + 1, vc + 1), dtype=float)\n",
    "w = np.ones((vc + 1, wc + 1), dtype=float)\n",
    "\n",
    "a = np.ones((train_count, uc + 1), dtype=float)\n",
    "b = np.ones((train_count, vc + 1), dtype=float)\n",
    "c = np.ones((train_count, wc), dtype=float)\n",
    "h = np.ones((train_count, wc), dtype=float)\n",
    "\n",
    "t_a = np.empty((train_count, uc + 1), dtype=float)\n",
    "t_b = np.empty((train_count, vc + 1), dtype=float)\n",
    "t_c = np.empty((train_count, wc), dtype=float)\n",
    "t_h = np.empty((train_count, wc), dtype=float)\n",
    "\n",
    "loss_arr = np.zeros(iteration, dtype=float)\n",
    "t_loss_arr = np.zeros(iteration, dtype=float)\n",
    "loss_value_arr = np.zeros(iteration, dtype=float)\n",
    "t_loss_value_arr = np.zeros(iteration, dtype=float)\n",
    "\n",
    "u = np.random.randn(image_size+1, uc)\n",
    "v = np.random.randn(uc+1, vc)\n",
    "w = np.random.randn(vc+1, wc)"
   ]
  },
  {
   "cell_type": "code",
   "execution_count": 26,
   "metadata": {},
   "outputs": [
    {
     "name": "stdout",
     "output_type": "stream",
     "text": [
      "iter = 0\n",
      "train loss count = 500\n",
      "train loss value = 0.7592620740454596\n",
      "validation loss count = 138\n",
      "validation loss value = 0.7646493282610958\n",
      "iter = 100\n",
      "train loss count = 422\n",
      "train loss value = 0.683317143894352\n",
      "validation loss count = 100\n",
      "validation loss value = 0.6580542551443479\n",
      "iter = 200\n",
      "train loss count = 408\n",
      "train loss value = 0.6751429655720689\n",
      "validation loss count = 97\n",
      "validation loss value = 0.6427548680771124\n",
      "iter = 300\n",
      "train loss count = 410\n",
      "train loss value = 0.6703811179007195\n",
      "validation loss count = 92\n",
      "validation loss value = 0.6346951302338194\n",
      "iter = 400\n",
      "train loss count = 413\n",
      "train loss value = 0.6671983498638431\n",
      "validation loss count = 92\n",
      "validation loss value = 0.6293317742239395\n",
      "iter = 500\n",
      "train loss count = 413\n",
      "train loss value = 0.6649425557419477\n",
      "validation loss count = 90\n",
      "validation loss value = 0.6252248172889722\n",
      "iter = 600\n",
      "train loss count = 409\n",
      "train loss value = 0.6633235590100514\n",
      "validation loss count = 93\n",
      "validation loss value = 0.6220103135189003\n",
      "iter = 700\n",
      "train loss count = 403\n",
      "train loss value = 0.6622009184235126\n",
      "validation loss count = 93\n",
      "validation loss value = 0.6197329635957884\n",
      "iter = 800\n",
      "train loss count = 405\n",
      "train loss value = 0.6614711096245431\n",
      "validation loss count = 98\n",
      "validation loss value = 0.6182370773714047\n",
      "iter = 900\n",
      "train loss count = 412\n",
      "train loss value = 0.6610381094929614\n",
      "validation loss count = 98\n",
      "validation loss value = 0.6171493800878692\n",
      "iter = 1000\n",
      "train loss count = 420\n",
      "train loss value = 0.660812753440879\n",
      "validation loss count = 90\n",
      "validation loss value = 0.6159746833219109\n",
      "iter = 1100\n",
      "train loss count = 420\n",
      "train loss value = 0.6607109796514585\n",
      "validation loss count = 93\n",
      "validation loss value = 0.6144374470556198\n",
      "iter = 1200\n",
      "train loss count = 415\n",
      "train loss value = 0.6606611908538291\n",
      "validation loss count = 90\n",
      "validation loss value = 0.6127484650062729\n",
      "iter = 1300\n",
      "train loss count = 423\n",
      "train loss value = 0.6606179911325106\n",
      "validation loss count = 87\n",
      "validation loss value = 0.6112974333600495\n",
      "iter = 1400\n",
      "train loss count = 410\n",
      "train loss value = 0.6605704012159254\n",
      "validation loss count = 69\n",
      "validation loss value = 0.610273421803973\n",
      "iter = 1500\n",
      "train loss count = 410\n",
      "train loss value = 0.6605327432656845\n",
      "validation loss count = 68\n",
      "validation loss value = 0.6096333629438113\n",
      "iter = 1600\n",
      "train loss count = 407\n",
      "train loss value = 0.660519746118575\n",
      "validation loss count = 67\n",
      "validation loss value = 0.6091628861682731\n",
      "iter = 1700\n",
      "train loss count = 392\n",
      "train loss value = 0.6605289245914605\n",
      "validation loss count = 69\n",
      "validation loss value = 0.6086207493185266\n",
      "iter = 1800\n",
      "train loss count = 391\n",
      "train loss value = 0.6605418961682877\n",
      "validation loss count = 69\n",
      "validation loss value = 0.6079272859233301\n",
      "iter = 1900\n",
      "train loss count = 388\n",
      "train loss value = 0.6605334333546088\n",
      "validation loss count = 69\n",
      "validation loss value = 0.6071807492272687\n",
      "iter = 2000\n",
      "train loss count = 386\n",
      "train loss value = 0.6604801428639666\n",
      "validation loss count = 66\n",
      "validation loss value = 0.6065145549545197\n",
      "iter = 2100\n",
      "train loss count = 386\n",
      "train loss value = 0.6603670991946239\n",
      "validation loss count = 64\n",
      "validation loss value = 0.6060071587332745\n",
      "iter = 2200\n",
      "train loss count = 386\n",
      "train loss value = 0.6601958822574294\n",
      "validation loss count = 66\n",
      "validation loss value = 0.6057112818924814\n",
      "iter = 2300\n",
      "train loss count = 391\n",
      "train loss value = 0.6599903889422313\n",
      "validation loss count = 70\n",
      "validation loss value = 0.6056558626895123\n",
      "iter = 2400\n",
      "train loss count = 395\n",
      "train loss value = 0.6597853467348306\n",
      "validation loss count = 74\n",
      "validation loss value = 0.6057808144268809\n",
      "iter = 2500\n",
      "train loss count = 400\n",
      "train loss value = 0.6596053174103442\n",
      "validation loss count = 71\n",
      "validation loss value = 0.6059610217010943\n",
      "iter = 2600\n",
      "train loss count = 400\n",
      "train loss value = 0.6594599624461458\n",
      "validation loss count = 72\n",
      "validation loss value = 0.6060702192971229\n",
      "iter = 2700\n",
      "train loss count = 406\n",
      "train loss value = 0.6593548120325602\n",
      "validation loss count = 73\n",
      "validation loss value = 0.6060343838490692\n",
      "iter = 2800\n",
      "train loss count = 404\n",
      "train loss value = 0.6592993739753217\n",
      "validation loss count = 76\n",
      "validation loss value = 0.6058660631692775\n",
      "iter = 2900\n",
      "train loss count = 401\n",
      "train loss value = 0.659306678377233\n",
      "validation loss count = 75\n",
      "validation loss value = 0.6056578205544056\n",
      "iter = 3000\n",
      "train loss count = 405\n",
      "train loss value = 0.6593883792123466\n",
      "validation loss count = 76\n",
      "validation loss value = 0.605597399419445\n",
      "iter = 3100\n",
      "train loss count = 407\n",
      "train loss value = 0.6595531740531555\n",
      "validation loss count = 76\n",
      "validation loss value = 0.6059250362430275\n",
      "iter = 3200\n",
      "train loss count = 405\n",
      "train loss value = 0.6598106634317658\n",
      "validation loss count = 75\n",
      "validation loss value = 0.6067895356291622\n",
      "iter = 3300\n",
      "train loss count = 411\n",
      "train loss value = 0.6601708382368903\n",
      "validation loss count = 75\n",
      "validation loss value = 0.6081670095949504\n",
      "iter = 3400\n",
      "train loss count = 416\n",
      "train loss value = 0.6606340972429249\n",
      "validation loss count = 76\n",
      "validation loss value = 0.6099018850865079\n",
      "iter = 3500\n",
      "train loss count = 413\n",
      "train loss value = 0.6611814507265118\n",
      "validation loss count = 75\n",
      "validation loss value = 0.6117692359642881\n",
      "iter = 3600\n",
      "train loss count = 414\n",
      "train loss value = 0.6617756972147736\n",
      "validation loss count = 76\n",
      "validation loss value = 0.6135379282001091\n",
      "iter = 3700\n",
      "train loss count = 413\n",
      "train loss value = 0.662374179790829\n",
      "validation loss count = 77\n",
      "validation loss value = 0.615008397185759\n",
      "iter = 3800\n",
      "train loss count = 415\n",
      "train loss value = 0.6629455093833025\n",
      "validation loss count = 73\n",
      "validation loss value = 0.6160264171993691\n",
      "iter = 3900\n",
      "train loss count = 422\n",
      "train loss value = 0.6634810889727194\n",
      "validation loss count = 73\n",
      "validation loss value = 0.6165326351006124\n",
      "iter = 4000\n",
      "train loss count = 418\n",
      "train loss value = 0.6639953400837706\n",
      "validation loss count = 73\n",
      "validation loss value = 0.6166035827527845\n",
      "iter = 4100\n",
      "train loss count = 407\n",
      "train loss value = 0.6645146777621885\n",
      "validation loss count = 75\n",
      "validation loss value = 0.6164148706213669\n",
      "iter = 4200\n",
      "train loss count = 410\n",
      "train loss value = 0.6650628732432559\n",
      "validation loss count = 74\n",
      "validation loss value = 0.6161640998212106\n",
      "iter = 4300\n",
      "train loss count = 409\n",
      "train loss value = 0.6656525180636069\n",
      "validation loss count = 75\n",
      "validation loss value = 0.6159959469633173\n",
      "iter = 4400\n",
      "train loss count = 413\n",
      "train loss value = 0.6662857473584385\n",
      "validation loss count = 76\n",
      "validation loss value = 0.6159519687279037\n",
      "iter = 4500\n",
      "train loss count = 415\n",
      "train loss value = 0.6669594949425237\n",
      "validation loss count = 77\n",
      "validation loss value = 0.6159918750584692\n",
      "iter = 4600\n",
      "train loss count = 421\n",
      "train loss value = 0.6676690756827295\n",
      "validation loss count = 77\n",
      "validation loss value = 0.6160510360532069\n",
      "iter = 4700\n",
      "train loss count = 423\n",
      "train loss value = 0.6684076154340342\n",
      "validation loss count = 76\n",
      "validation loss value = 0.6160566742574812\n",
      "iter = 4800\n",
      "train loss count = 423\n",
      "train loss value = 0.6691629345528826\n",
      "validation loss count = 76\n",
      "validation loss value = 0.6159278992749567\n",
      "iter = 4900\n",
      "train loss count = 424\n",
      "train loss value = 0.6699156805144042\n",
      "validation loss count = 78\n",
      "validation loss value = 0.615610875785245\n"
     ]
    }
   ],
   "source": [
    "d_lc = np.empty(train_count, dtype=float)\n",
    "d_cb = np.empty(train_count, dtype=float)\n",
    "d_ba = np.empty(train_count, dtype=float)\n",
    "\n",
    "for iter in range(iteration):\n",
    "    \n",
    "    if loss_value < 0.1:\n",
    "        break\n",
    "    \n",
    "    #\n",
    "    # training matrix\n",
    "    for i in range(train_count): # u * X\n",
    "        for j in range(uc):\n",
    "            a[i, j] = (train_data[i, :]).dot(u[:, j])\n",
    "        \n",
    "    for i in range(train_count): # v * sigmoid(a)\n",
    "        for j in range(vc):\n",
    "            b[i, j] = (sigmoid(a[i, :])).dot(v[:, j])\n",
    "    \n",
    "    for i in range(train_count): # w * sigmoid(b)\n",
    "        for j in range(wc):\n",
    "            c[i, j] = (sigmoid(b[i, :])).dot(w[:, j])\n",
    "            \n",
    "    h[:, :] = sigmoid(c[:, :]) # sigmoid(c)\n",
    "    \n",
    "    #\n",
    "    # validation matrix for loss value calculation\n",
    "    #\n",
    "    for i in range(validation_count):\n",
    "        for j in range(uc):\n",
    "            t_a[i, j] = (validation_data[i, :]).dot(u[:, j])\n",
    "    \n",
    "    for i in range(validation_count):\n",
    "        for j in range(vc):\n",
    "            t_b[i, j] = (sigmoid(t_a[i, :])).dot(v[:, j])\n",
    "    \n",
    "    for i in range(validation_count):\n",
    "        for j in range(wc):\n",
    "            t_c[i] = sigmoid(t_b[i, :]).dot(w[:, j])\n",
    "    \n",
    "    t_h[:, :] = sigmoid(t_c[:, :])\n",
    "    \n",
    "    \n",
    "    for i in range(train_count):\n",
    "        d_lc[i] = np.mean(h[i, :]) - train_label[i]\n",
    "    \n",
    "    for i in range(train_count):\n",
    "        d_ba[i] = np.mean(sigmoid(a[i, :-1])) * (1 - np.mean(sigmoid(a[i, :-1])))\n",
    "    \n",
    "    for i in range(train_count):\n",
    "        d_cb[i] = np.mean(sigmoid(b[i, :-1])) * (1 - np.mean(sigmoid(b[i, :-1])))\n",
    "        \n",
    "    for i in range(image_size):\n",
    "        u[i, :-1] = u[i, :-1] - learningRate * np.mean(d_lc[:] * d_cb[:] * d_ba[:] * train_data[:, i])\n",
    "    u[image_size, :-1] = u[image_size, :-1] - learningRate * np.mean(d_lc[:] * d_cb[:] * d_ba[:])\n",
    "    \n",
    "    for i in range(uc):\n",
    "        v[i, :-1] = v[i, :-1] - learningRate * np.mean(d_lc[:] * d_cb[:] * sigmoid(a[:, i]))\n",
    "    v[uc, :-1] = v[uc, :-1] - learningRate * np.mean(d_lc[:] * d_cb[:])\n",
    "    \n",
    "    for i in range(vc):\n",
    "        w[i, :] = w[i, :] - learningRate * np.mean(d_lc[:].dot(sigmoid(b[:, i])))\n",
    "    w[vc, :] = w[vc, :] - learningRate * np.mean(d_lc[:])\n",
    "    \n",
    "    loss_value = 0\n",
    "    t_loss_value = 0\n",
    "    training_loss = 0\n",
    "    testing_loss = 0\n",
    "    \n",
    "    for i in range(train_count):\n",
    "        loss_value += loss_function(train_label[i], np.mean(h[i, :]))\n",
    "\n",
    "        if train_label[i] == 1:\n",
    "            if np.mean(h[i, :]) <= 0.5: # loss count\n",
    "                training_loss += 1\n",
    "\n",
    "        else:\n",
    "            if np.mean(h[i, :]) > 0.5: # loss count\n",
    "                training_loss += 1\n",
    "\n",
    "    for i in range(validation_count):\n",
    "        t_loss_value += loss_function(validation_label[i], np.mean(t_h[i, :]))\n",
    "        if validation_label[i] == 1:\n",
    "            if np.mean(t_h[i, :]) <= 0.5: # loss count\n",
    "                testing_loss += 1\n",
    "\n",
    "        else:\n",
    "            if np.mean(t_h[i]) > 0.5: # loss count\n",
    "                testing_loss += 1\n",
    "\n",
    "    if iter % 100 == 0 or iter == iteration:\n",
    "        print(\"iter =\", iter)\n",
    "        print(\"train loss count =\", training_loss)\n",
    "        print(\"train loss value =\", loss_value / train_count)\n",
    "        print(\"validation loss count =\", testing_loss)\n",
    "        print(\"validation loss value =\", t_loss_value / validation_count)\n",
    "        \n",
    "    loss_value_arr[iter] = loss_value\n",
    "    t_loss_value_arr[iter] = t_loss_value\n",
    "    loss_arr[iter] = training_loss\n",
    "    t_loss_arr[iter] = testing_loss\n",
    "    "
   ]
  },
  {
   "cell_type": "markdown",
   "metadata": {},
   "source": [
    "　"
   ]
  },
  {
   "cell_type": "markdown",
   "metadata": {},
   "source": [
    "Plot training Loss and Accuracy"
   ]
  },
  {
   "cell_type": "code",
   "execution_count": 27,
   "metadata": {},
   "outputs": [
    {
     "data": {
      "image/png": "[encoded data removed]",
      "text/plain": [
       "<Figure size 432x288 with 1 Axes>"
      ]
     },
     "metadata": {
      "needs_background": "light"
     },
     "output_type": "display_data"
    }
   ],
   "source": [
    "x = range(iteration)\n",
    "y = loss_value_arr[x] / train_count\n",
    "\n",
    "plt.plot(x, y, \"BLUE\")\n",
    "plt.title('Training Loss')\n",
    "plt.xlabel('Iteration')\n",
    "plt.ylabel('Loss')\n",
    "plt.show()"
   ]
  },
  {
   "cell_type": "code",
   "execution_count": 28,
   "metadata": {},
   "outputs": [
    {
     "data": {
      "image/png": "[encoded data removed]",
      "text/plain": [
       "<Figure size 432x288 with 1 Axes>"
      ]
     },
     "metadata": {
      "needs_background": "light"
     },
     "output_type": "display_data"
    }
   ],
   "source": [
    "x = range(iteration)\n",
    "y = (train_count - loss_arr[x]) / train_count\n",
    "\n",
    "plt.plot(x, y, \"BLUE\")\n",
    "plt.title('Training Accuracy')\n",
    "plt.xlabel('Iteration')\n",
    "plt.ylabel('Accuracy percent')\n",
    "plt.show()"
   ]
  },
  {
   "cell_type": "markdown",
   "metadata": {},
   "source": [
    "　"
   ]
  },
  {
   "cell_type": "markdown",
   "metadata": {},
   "source": [
    "Plot Validation Loss and Accuracy"
   ]
  },
  {
   "cell_type": "code",
   "execution_count": 29,
   "metadata": {},
   "outputs": [
    {
     "data": {
      "image/png": "[encoded data removed]",
      "text/plain": [
       "<Figure size 432x288 with 1 Axes>"
      ]
     },
     "metadata": {
      "needs_background": "light"
     },
     "output_type": "display_data"
    }
   ],
   "source": [
    "x = range(iteration)\n",
    "y = t_loss_value_arr[x] / validation_count\n",
    "\n",
    "plt.plot(x, y, \"RED\")\n",
    "plt.title('Validation Loss')\n",
    "plt.xlabel('Iteration')\n",
    "plt.ylabel('Loss')\n",
    "plt.show()"
   ]
  },
  {
   "cell_type": "code",
   "execution_count": 30,
   "metadata": {},
   "outputs": [
    {
     "data": {
      "image/png": "[encoded data removed]",
      "text/plain": [
       "<Figure size 432x288 with 1 Axes>"
      ]
     },
     "metadata": {
      "needs_background": "light"
     },
     "output_type": "display_data"
    }
   ],
   "source": [
    "x = range(iteration)\n",
    "y = (validation_count - t_loss_arr[x]) / validation_count\n",
    "\n",
    "plt.plot(x, y, \"RED\")\n",
    "plt.title('Validation Accuracy')\n",
    "plt.xlabel('Iteration')\n",
    "plt.ylabel('Accuracy percent')\n",
    "plt.show()"
   ]
  },
  {
   "cell_type": "markdown",
   "metadata": {},
   "source": [
    "　"
   ]
  },
  {
   "cell_type": "markdown",
   "metadata": {},
   "source": [
    "Plot Training and Validation at every iteration"
   ]
  },
  {
   "cell_type": "code",
   "execution_count": 31,
   "metadata": {},
   "outputs": [
    {
     "data": {
      "image/png": "[encoded data removed]",
      "text/plain": [
       "<Figure size 432x288 with 1 Axes>"
      ]
     },
     "metadata": {
      "needs_background": "light"
     },
     "output_type": "display_data"
    }
   ],
   "source": [
    "x = range(iteration)\n",
    "y1 = loss_value_arr[x] / train_count\n",
    "y2 = t_loss_value_arr[x] / validation_count\n",
    "\n",
    "plt.plot(x, y1, \"BLUE\")\n",
    "plt.plot(x, y2, \"RED\")\n",
    "plt.title('Training and Validation Loss')\n",
    "plt.xlabel('Iteration')\n",
    "plt.ylabel('Loss')\n",
    "plt.show()"
   ]
  },
  {
   "cell_type": "code",
   "execution_count": 32,
   "metadata": {},
   "outputs": [
    {
     "data": {
      "image/png": "[encoded data removed]",
      "text/plain": [
       "<Figure size 432x288 with 1 Axes>"
      ]
     },
     "metadata": {
      "needs_background": "light"
     },
     "output_type": "display_data"
    }
   ],
   "source": [
    "x = range(iteration)\n",
    "y1 = (train_count - loss_arr[x]) / train_count\n",
    "y2 = (validation_count - t_loss_arr[x]) / validation_count\n",
    "\n",
    "plt.plot(x, y1, \"BLUE\")\n",
    "plt.plot(x, y2, \"RED\")\n",
    "plt.title('Training and Validation Accuracy')\n",
    "plt.xlabel('Iteration')\n",
    "plt.ylabel('Accuracy percent')\n",
    "plt.show()"
   ]
  },
  {
   "cell_type": "markdown",
   "metadata": {},
   "source": [
    "　"
   ]
  },
  {
   "cell_type": "markdown",
   "metadata": {},
   "source": [
    "　"
   ]
  },
  {
   "cell_type": "markdown",
   "metadata": {},
   "source": [
    "Present the table for the final accuracy and loss with training and validation datasets as below:"
   ]
  },
  {
   "cell_type": "code",
   "execution_count": 33,
   "metadata": {},
   "outputs": [
    {
     "name": "stdout",
     "output_type": "stream",
     "text": [
      "Final Training Loss = 0.6706340215691236\n",
      "Final Training Accuracy = 58.714703018500494 %\n",
      "Final Validation Loss = 0.6151239202585809\n",
      "Final Validation Accuracy = 69.53125 %\n"
     ]
    }
   ],
   "source": [
    "print ('Final Training Loss =', loss_value_arr[iteration - 1] / train_count)\n",
    "print ('Final Training Accuracy =', (train_count - loss_arr[iteration - 1]) / train_count * 100, '%')\n",
    "print ('Final Validation Loss =', t_loss_value_arr[iteration - 1] / validation_count)\n",
    "print ('Final Validation Accuracy =', (validation_count - t_loss_arr[iteration - 1]) / validation_count * 100, '%')"
   ]
  },
  {
   "cell_type": "code",
   "execution_count": 34,
   "metadata": {},
   "outputs": [
    {
     "data": {
      "text/html": [
       "<div>\n",
       "<style scoped>\n",
       "    .dataframe tbody tr th:only-of-type {\n",
       "        vertical-align: middle;\n",
       "    }\n",
       "\n",
       "    .dataframe tbody tr th {\n",
       "        vertical-align: top;\n",
       "    }\n",
       "\n",
       "    .dataframe thead th {\n",
       "        text-align: right;\n",
       "    }\n",
       "</style>\n",
       "<table border=\"1\" class=\"dataframe\">\n",
       "  <thead>\n",
       "    <tr style=\"text-align: right;\">\n",
       "      <th></th>\n",
       "      <th>Loss</th>\n",
       "      <th>Accuracy</th>\n",
       "    </tr>\n",
       "  </thead>\n",
       "  <tbody>\n",
       "    <tr>\n",
       "      <th>Training</th>\n",
       "      <td>0.670634</td>\n",
       "      <td>58.71 %</td>\n",
       "    </tr>\n",
       "    <tr>\n",
       "      <th>Validation</th>\n",
       "      <td>0.615124</td>\n",
       "      <td>69.53 %</td>\n",
       "    </tr>\n",
       "  </tbody>\n",
       "</table>\n",
       "</div>"
      ],
      "text/plain": [
       "                Loss Accuracy\n",
       "Training    0.670634  58.71 %\n",
       "Validation  0.615124  69.53 %"
      ]
     },
     "metadata": {},
     "output_type": "display_data"
    }
   ],
   "source": [
    "import pandas as pd\n",
    "\n",
    "idx1 = round(loss_value_arr[iteration - 1] / train_count, 6)\n",
    "idx2 = str(round((train_count - loss_arr[iteration - 1]) / train_count * 100, 2)) + ' %'\n",
    "idx3 = round(t_loss_value_arr[iteration - 1] / validation_count, 6)\n",
    "idx4 = str(round((validation_count - t_loss_arr[iteration - 1]) / validation_count * 100, 2)) + ' %'\n",
    "\n",
    "df = pd.DataFrame(data=np.array([[idx1, idx2], [idx3, idx4]]), index= ['Training', 'Validation'], columns=['Loss', 'Accuracy'])\n",
    "display(df)"
   ]
  },
  {
   "cell_type": "markdown",
   "metadata": {},
   "source": [
    "MarkDown :"
   ]
  },
  {
   "cell_type": "markdown",
   "metadata": {},
   "source": [
    "| Dataset | Loss | Accuracy |\n",
    "|:--------|:--------:|--------:|\n",
    "| Training | 0.670634 | 58.71% |\n",
    "| Validation | 0.615124 | 69.53% |"
   ]
  },
  {
   "cell_type": "markdown",
   "metadata": {},
   "source": [
    "　"
   ]
  },
  {
   "cell_type": "markdown",
   "metadata": {},
   "source": [
    "　"
   ]
  }
 ],
 "metadata": {
  "kernelspec": {
   "display_name": "Python 3",
   "language": "python",
   "name": "python3"
  },
  "language_info": {
   "codemirror_mode": {
    "name": "ipython",
    "version": 3
   },
   "file_extension": ".py",
   "mimetype": "text/x-python",
   "name": "python",
   "nbconvert_exporter": "python",
   "pygments_lexer": "ipython3",
   "version": "3.7.1"
  }
 },
 "nbformat": 4,
 "nbformat_minor": 2
}
