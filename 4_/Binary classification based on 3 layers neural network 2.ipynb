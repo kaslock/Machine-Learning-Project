{
 "cells": [
  {
   "cell_type": "markdown",
   "metadata": {},
   "source": [
    "　"
   ]
  },
  {
   "cell_type": "markdown",
   "metadata": {},
   "source": [
    "　"
   ]
  },
  {
   "cell_type": "markdown",
   "metadata": {},
   "source": [
    "$$\\ \\ \\ \\ \\ \\ \\ \\ \\ \\ \\ \\ \\ \\ \\ \\ \\ \\ \\ \\ \\ \\ \\ \\ \\ \\ \\ \\ \\ \\ \\ \\ \\ \\ \\ \\ \\ \\ \\ \\ \\ \\ \\ \\ \\ \\ \\ \\ \\ \\ \\ \\ \\ \\ \\ \\ \\ \\ \\ \\ \\ \\ \\ \\ \\ \\ \\ \\ \\ \\ \\ \\ \\ \\ \\ \\ \\ \\ \\ \\ \\ \\ \\ \\ \\ \\ \\ \\ \\ \\ \\ \\ \\ \\ \\ \\ \\ \\ \\ \\ \\ \\ \\ \\ \\ \\ \\ \\ \\ \\ \\ \\ \\ \\ \\ \\ \\ \\ \\ \\ \\ 20165549\\ \\ JANG\\ \\ JAE\\ \\ YONG$$"
   ]
  },
  {
   "cell_type": "markdown",
   "metadata": {},
   "source": [
    "　"
   ]
  },
  {
   "cell_type": "markdown",
   "metadata": {},
   "source": [
    "Build a binary classifier based on 3 layers neural network using the human versus horse dataset"
   ]
  },
  {
   "cell_type": "markdown",
   "metadata": {},
   "source": [
    " "
   ]
  },
  {
   "cell_type": "code",
   "execution_count": 1,
   "metadata": {},
   "outputs": [],
   "source": [
    "import matplotlib.pyplot as plt\n",
    "import numpy as np\n",
    "\n",
    "import torch\n",
    "from torch.utils.data import Dataset, DataLoader\n",
    "import torchvision.transforms as transforms\n",
    "import torchvision\n",
    "import os\n",
    "import pandas as pd\n",
    "\n",
    "transform = transforms.Compose([#transforms.Resize((256,256)),  \n",
    "                                transforms.Grayscale(),\n",
    "    # the code transforms.Graysclae() is for changing the size [3,100,100] to [1, 100, 100] (notice : [channel, height, width] )\n",
    "                                transforms.ToTensor(),])\n",
    "\n",
    "#train_data_path = 'relative path of training data set'\n",
    "train_data_path = 'horse-or-human/horse-or-human/train'\n",
    "trainset = torchvision.datasets.ImageFolder(root=train_data_path, transform=transform)\n",
    "# change the valuse of batch_size, num_workers for your program\n",
    "# if shuffle=True, the data reshuffled at every epoch \n",
    "trainloader = torch.utils.data.DataLoader(trainset, batch_size=1, shuffle=False, num_workers=1)  \n",
    "\n",
    "validation_data_path = 'horse-or-human/horse-or-human/validation'\n",
    "valset = torchvision.datasets.ImageFolder(root=validation_data_path, transform=transform)\n",
    "# change the valuse of batch_size, num_workers for your program\n",
    "valloader = torch.utils.data.DataLoader(valset, batch_size=1, shuffle=False, num_workers=1)  \n",
    "\n",
    "NUM_EPOCH = range(1) # my code\n",
    "\n",
    "#\n",
    "# Image size and number of data\n",
    "#\n",
    "image_size = 10000\n",
    "train_count = 1027\n",
    "validation_count = 256\n",
    "\n",
    "train_label = np.empty(train_count, dtype=float)\n",
    "train_data = np.ones((train_count, image_size + 1), dtype=float)\n",
    "\n",
    "validation_label = np.empty(validation_count, dtype=float)\n",
    "validation_data = np.ones((validation_count, image_size + 1), dtype=float)\n",
    "\n",
    "for epoch in (NUM_EPOCH):\n",
    "    # load training images of the batch size for every iteration\n",
    "    for i, data in enumerate(trainloader):\n",
    "\n",
    "        # inputs is the image\n",
    "        # labels is the class of the image\n",
    "        inputs, labels = data\n",
    "\n",
    "        # if you don't change the image size, it will be [batch_size, 1, 100, 100]\n",
    "        #print(inputs.shape)\n",
    "\n",
    "        # if labels is horse it returns tensor[0,0,0] else it returns tensor[1,1,1]\n",
    "        #print(labels)\n",
    "        \n",
    "        train_label[i] = int(labels)\n",
    "        train_tmp = np.asfarray(inputs)\n",
    "        train_data[i, :10000] = train_tmp[0, 0, :, :].reshape(10000)\n",
    "        \n",
    "    # load validation images of the batch size for every iteration\n",
    "    for i, data in enumerate(valloader):\n",
    "        \n",
    "        # inputs is the image\n",
    "        # labels is the class of the image\n",
    "        inputs, labels = data\n",
    "\n",
    "        # if you don't change the image size, it will be [batch_size, 1, 100, 100]\n",
    "        #print(inputs.shape)\n",
    "\n",
    "        # if labels is horse it returns tensor[0,0,0] else it returns tensor[1,1,1]\n",
    "        #print(labels)\n",
    "        \n",
    "        validation_label[i] = int(labels)\n",
    "        validation_tmp = np.asfarray(inputs)\n",
    "        validation_data[i, :10000] = validation_tmp[0, 0, :, :].reshape(10000)"
   ]
  },
  {
   "cell_type": "code",
   "execution_count": 11,
   "metadata": {},
   "outputs": [],
   "source": [
    "delta = 10**(-9)\n",
    "\n",
    "def sigmoid(x):\n",
    "    return 1/(1 + np.exp(-x))\n",
    "\n",
    "def loss_function(t, y):\n",
    "    return -np.sum(t*np.log(y+delta) + (1-t)*np.log(1-y+delta)) "
   ]
  },
  {
   "cell_type": "code",
   "execution_count": 12,
   "metadata": {},
   "outputs": [],
   "source": [
    "def tanh(x):\n",
    "    return (np.exp(x) - np.exp(-x)) / (np.exp(x) + np.exp(-x))\n",
    "\n",
    "def ReLU(x):\n",
    "    return np.maximum(0, x)\n",
    "\n",
    "def LeakyReLU(x):\n",
    "    return np.maximum(0.1*x, x)"
   ]
  },
  {
   "cell_type": "code",
   "execution_count": 13,
   "metadata": {},
   "outputs": [],
   "source": [
    "def ActivationFunc(FunctionName, x):\n",
    "    \n",
    "    if FunctionName == 'sigmoid':\n",
    "        return sigmoid(x)\n",
    "    elif FunctionName == 'tanh':\n",
    "        return tanh(x)\n",
    "    elif FunctionName == 'ReLU':\n",
    "        return ReLU(x)\n",
    "    elif FunctionName == 'LeakyReLU':\n",
    "        return LeakyReLU(x)"
   ]
  },
  {
   "cell_type": "code",
   "execution_count": 14,
   "metadata": {},
   "outputs": [],
   "source": [
    "def d_ActivationFunc(FunctionName, x):\n",
    "    \n",
    "    if FunctionName == 'sigmoid':\n",
    "        return sigmoid(x) * (1 - sigmoid(x))\n",
    "    elif FunctionName == 'tanh':\n",
    "        return 1 - (tanh(x))**2\n",
    "    elif FunctionName == 'ReLU':\n",
    "        return 1. * (x > 0)\n",
    "    elif FunctionName == 'LeakyReLU':\n",
    "        return 1. * (xa > 0) + 0.1 * (xa < 0)"
   ]
  },
  {
   "cell_type": "code",
   "execution_count": 31,
   "metadata": {},
   "outputs": [],
   "source": [
    "def ThreeLayerNeuralNetwork(FuncName):\n",
    "    \n",
    "    learningRate = 10**(-3) # learningRate\n",
    "    \n",
    "    uc = 100   # u\n",
    "    vc = 10   # v\n",
    "    wc = 1    # w\n",
    "    \n",
    "    u = np.ones((image_size + 1, uc + 1), dtype=float)\n",
    "    v = np.ones((uc + 1, vc + 1), dtype=float)\n",
    "    w = np.ones((vc + 1, wc + 1), dtype=float)\n",
    "\n",
    "    a = np.ones((train_count, uc + 1), dtype=float)\n",
    "    b = np.ones((train_count, vc + 1), dtype=float)\n",
    "    c = np.ones((train_count, wc), dtype=float)\n",
    "    h = np.ones((train_count, wc), dtype=float)\n",
    "\n",
    "    t_a = np.ones((train_count, uc + 1), dtype=float)\n",
    "    t_b = np.ones((train_count, vc + 1), dtype=float)\n",
    "    t_c = np.ones((train_count, wc), dtype=float)\n",
    "    t_h = np.ones((train_count, wc), dtype=float)\n",
    "    \n",
    "    iteration = 2000 # Max Iteration\n",
    "    loss_arr = np.zeros(iteration, dtype=float)\n",
    "    t_loss_arr = np.zeros(iteration, dtype=float)\n",
    "    loss_value_arr = np.zeros(iteration, dtype=float)\n",
    "    t_loss_value_arr = np.zeros(iteration, dtype=float)\n",
    "\n",
    "    u[:-1, :-1] = np.random.randn(image_size, uc) / np.sqrt(image_size+1)\n",
    "    u[image_size, :-1] = np.random.rand(uc)\n",
    "    v[:-1, :-1] = np.random.randn(uc, vc) / np.sqrt(uc+1)\n",
    "    v[uc, :-1] = np.random.rand(vc)\n",
    "    w[:-1, :-1] = np.random.randn(vc, wc) / np.sqrt(vc+1)\n",
    "    w[vc, :-1] = np.random.rand(wc)\n",
    "    d_lc = np.empty(train_count, dtype=float)\n",
    "    d_cb = np.empty(train_count, dtype=float)\n",
    "    d_ba = np.empty(train_count, dtype=float)\n",
    "    \n",
    "    for iter in range(iteration):\n",
    "        #\n",
    "        # training matrix\n",
    "        for i in range(train_count): # u * X\n",
    "            for j in range(uc):\n",
    "                a[i, j] = (train_data[i, :]).dot(u[:, j])\n",
    "\n",
    "        for i in range(train_count): # v * ActivationFunc(a)\n",
    "            for j in range(vc):\n",
    "                b[i, j] = (ActivationFunc(FuncName, a[i, :])).dot(v[:, j])\n",
    "\n",
    "        for i in range(train_count): # w * ActivationFunc(b)\n",
    "            for j in range(wc):\n",
    "                c[i, j] = (ActivationFunc(FuncName, b[i, :])).dot(w[:, j])\n",
    "\n",
    "        h[:, :] = sigmoid(c[:, :]) # sigmoid(c)\n",
    "\n",
    "        #\n",
    "        # validation matrix for loss value calculation\n",
    "        for i in range(validation_count):\n",
    "            for j in range(uc):\n",
    "                t_a[i, j] = (validation_data[i, :]).dot(u[:, j])\n",
    "\n",
    "        for i in range(validation_count):\n",
    "            for j in range(vc):\n",
    "                t_b[i, j] = (ActivationFunc(FuncName, t_a[i, :])).dot(v[:, j])\n",
    "\n",
    "        for i in range(validation_count):\n",
    "            for j in range(wc):\n",
    "                t_c[i] = (ActivationFunc(FuncName, t_b[i, :])).dot(w[:, j])\n",
    "\n",
    "        t_h[:, :] = sigmoid(t_c[:, :])\n",
    "\n",
    "        for i in range(train_count):\n",
    "            d_lc[i] = np.mean(h[i, :]) - train_label[i]\n",
    "\n",
    "        for i in range(train_count):\n",
    "            d_ba[i] = np.mean(ActivationFunc(FuncName, a[i, :-1]))\n",
    "\n",
    "        for i in range(train_count):\n",
    "            d_cb[i] = np.mean(ActivationFunc(FuncName, b[i, :-1]))\n",
    "\n",
    "        for i in range(image_size):\n",
    "            u[i, :-1] = u[i, :-1] - learningRate * np.mean(d_lc[:] * d_cb[:] * d_ba[:] * train_data[:, i])\n",
    "        u[image_size, :-1] = u[image_size, :-1] - learningRate * np.mean(d_lc[:] * d_cb[:] * d_ba[:])\n",
    "\n",
    "        for i in range(uc):\n",
    "            v[i, :-1] = v[i, :-1] - learningRate * np.mean(d_lc[:] * d_cb[:] * ActivationFunc(FuncName, a[:, i]))\n",
    "        v[uc, :-1] = v[uc, :-1] - learningRate * np.mean(d_lc[:] * d_cb[:])\n",
    "\n",
    "        for i in range(vc):\n",
    "            w[i, :] = w[i, :] - learningRate * np.mean(d_lc[:].dot(ActivationFunc(FuncName, b[:, i])))\n",
    "        w[vc, :] = w[vc, :] - learningRate * np.mean(d_lc[:])\n",
    "\n",
    "        loss_value = 0\n",
    "        t_loss_value = 0\n",
    "        training_loss = 0\n",
    "        testing_loss = 0\n",
    "\n",
    "        for i in range(train_count):\n",
    "            loss_value += loss_function(train_label[i], np.mean(h[i, :]))\n",
    "\n",
    "            if train_label[i] == 1:\n",
    "                if np.mean(h[i, :]) <= 0.5: # loss count\n",
    "                    training_loss += 1\n",
    "            else:\n",
    "                if np.mean(h[i, :]) > 0.5: # loss count\n",
    "                    training_loss += 1\n",
    "        \n",
    "        if loss_value < 0.1:\n",
    "            break\n",
    "        \n",
    "        for i in range(validation_count):\n",
    "            t_loss_value += loss_function(validation_label[i], np.mean(t_h[i, :]))\n",
    "            if validation_label[i] == 1:\n",
    "                if np.mean(t_h[i, :]) <= 0.5: # loss count\n",
    "                    testing_loss += 1\n",
    "            else:\n",
    "                if np.mean(t_h[i]) > 0.5: # loss count\n",
    "                    testing_loss += 1\n",
    "\n",
    "        if iter % 100 == 0 or iter+1 == iteration:                           ###\n",
    "            print(\"iter =\", iter)                                               ##\n",
    "            print(\"train loss count =\", training_loss)                           ##\n",
    "            print(\"train loss value =\", loss_value / train_count)                ##\n",
    "            print(\"validation loss count =\", testing_loss)                       ##\n",
    "            print(\"validation loss value =\", t_loss_value / validation_count)   ##\n",
    "\n",
    "        loss_value_arr[iter] = loss_value\n",
    "        t_loss_value_arr[iter] = t_loss_value\n",
    "        loss_arr[iter] = training_loss\n",
    "        t_loss_arr[iter] = testing_loss\n",
    "        \n",
    "        \n",
    "    return loss_value_arr, loss_arr, t_loss_value_arr, t_loss_arr"
   ]
  },
  {
   "cell_type": "code",
   "execution_count": 32,
   "metadata": {},
   "outputs": [],
   "source": [
    "def LossPlot(FuncName):\n",
    "    x = range(iteration)\n",
    "    y1 = loss_value_arr[x] / train_count\n",
    "    y2 = t_loss_value_arr[x] / validation_count\n",
    "\n",
    "    plt.plot(x, y1, \"BLUE\")\n",
    "    plt.plot(x, y2, \"RED\")\n",
    "    plt.title(FuncName + ' Training and Validation Loss')\n",
    "    plt.xlabel('Iteration')\n",
    "    plt.ylabel('Loss')\n",
    "    plt.show()"
   ]
  },
  {
   "cell_type": "code",
   "execution_count": 33,
   "metadata": {},
   "outputs": [],
   "source": [
    "def AccuracyPlot(FuncName):\n",
    "    x = range(iteration)\n",
    "    y1 = (train_count - loss_arr[x]) / train_count\n",
    "    y2 = (validation_count - t_loss_arr[x]) / validation_count\n",
    "\n",
    "    plt.plot(x, y1, \"BLUE\")\n",
    "    plt.plot(x, y2, \"RED\")\n",
    "    plt.title(FuncName + ' Training and Validation Accuracy')\n",
    "    plt.xlabel('Iteration')\n",
    "    plt.ylabel('Accuracy percent')\n",
    "    plt.show()"
   ]
  },
  {
   "cell_type": "code",
   "execution_count": 34,
   "metadata": {},
   "outputs": [],
   "source": [
    "def Loss_And_Accuracy_Table(FuncName):\n",
    "    print(FuncName + ' Loss and Accuracy Table')\n",
    "    idx1 = round(loss_value_arr[iteration - 1] / train_count, 6)\n",
    "    idx2 = str(round((train_count - loss_arr[iteration - 1]) / train_count * 100, 2)) + ' %'\n",
    "    idx3 = round(t_loss_value_arr[iteration - 1] / validation_count, 6)\n",
    "    idx4 = str(round((validation_count - t_loss_arr[iteration - 1]) / validation_count * 100, 2)) + ' %'\n",
    "\n",
    "    df = pd.DataFrame(data=np.array([[idx1, idx2], [idx3, idx4]]), index= ['Training', 'Validation'], columns=['Loss', 'Accuracy'])\n",
    "    display(df)"
   ]
  },
  {
   "cell_type": "code",
   "execution_count": null,
   "metadata": {},
   "outputs": [
    {
     "name": "stdout",
     "output_type": "stream",
     "text": [
      "iter = 0\n",
      "train loss count = 500\n",
      "train loss value = 0.8198964457355868\n",
      "validation loss count = 128\n",
      "validation loss value = 0.8312344440604057\n",
      "iter = 100\n",
      "train loss count = 500\n",
      "train loss value = 0.6920504611754736\n",
      "validation loss count = 128\n",
      "validation loss value = 0.6935252578325926\n"
     ]
    }
   ],
   "source": [
    "ThreeLayerNeuralNetwork('sigmoid')\n",
    "LossPlot('sigmoid')\n",
    "AccuracyPlot('sigmoid')\n",
    "Loss_And_Accuracy_Table('sigmoid')"
   ]
  },
  {
   "cell_type": "code",
   "execution_count": null,
   "metadata": {},
   "outputs": [],
   "source": [
    "ThreeLayerNeuralNetwork('tanh')\n",
    "LossPlot('tanh')\n",
    "AccuracyPlot('tanh')\n",
    "Loss_And_Accuracy_Table('tanh')"
   ]
  },
  {
   "cell_type": "code",
   "execution_count": null,
   "metadata": {},
   "outputs": [],
   "source": [
    "ThreeLayerNeuralNetwork('ReLU')\n",
    "LossPlot('ReLU')\n",
    "AccuracyPlot('ReLU')\n",
    "Loss_And_Accuracy_Table('ReLU')"
   ]
  },
  {
   "cell_type": "code",
   "execution_count": null,
   "metadata": {},
   "outputs": [],
   "source": [
    "ThreeLayerNeuralNetwork('LeakyReLU')\n",
    "LossPlot('LeakyReLU')\n",
    "AccuracyPlot('LeakyReLU')\n",
    "Loss_And_Accuracy_Table('LeakyReLU')"
   ]
  },
  {
   "cell_type": "code",
   "execution_count": 54,
   "metadata": {},
   "outputs": [
    {
     "data": {
      "image/png": "[encoded data removed]",
      "text/plain": [
       "<Figure size 432x288 with 1 Axes>"
      ]
     },
     "metadata": {
      "needs_background": "light"
     },
     "output_type": "display_data"
    },
    {
     "data": {
      "image/png": "[encoded data removed]",
      "text/plain": [
       "<Figure size 432x288 with 1 Axes>"
      ]
     },
     "metadata": {
      "needs_background": "light"
     },
     "output_type": "display_data"
    },
    {
     "name": "stdout",
     "output_type": "stream",
     "text": [
      "sigmoidLoss and Accuracy Table\n"
     ]
    },
    {
     "data": {
      "text/html": [
       "<div>\n",
       "<style scoped>\n",
       "    .dataframe tbody tr th:only-of-type {\n",
       "        vertical-align: middle;\n",
       "    }\n",
       "\n",
       "    .dataframe tbody tr th {\n",
       "        vertical-align: top;\n",
       "    }\n",
       "\n",
       "    .dataframe thead th {\n",
       "        text-align: right;\n",
       "    }\n",
       "</style>\n",
       "<table border=\"1\" class=\"dataframe\">\n",
       "  <thead>\n",
       "    <tr style=\"text-align: right;\">\n",
       "      <th></th>\n",
       "      <th>Loss</th>\n",
       "      <th>Accuracy</th>\n",
       "    </tr>\n",
       "  </thead>\n",
       "  <tbody>\n",
       "    <tr>\n",
       "      <th>Training</th>\n",
       "      <td>0.670634</td>\n",
       "      <td>58.71 %</td>\n",
       "    </tr>\n",
       "    <tr>\n",
       "      <th>Validation</th>\n",
       "      <td>0.615124</td>\n",
       "      <td>69.53 %</td>\n",
       "    </tr>\n",
       "  </tbody>\n",
       "</table>\n",
       "</div>"
      ],
      "text/plain": [
       "                Loss Accuracy\n",
       "Training    0.670634  58.71 %\n",
       "Validation  0.615124  69.53 %"
      ]
     },
     "metadata": {},
     "output_type": "display_data"
    }
   ],
   "source": [
    "LossPlot('sigmoid')\n",
    "AccuracyPlot('sigmoid')\n",
    "Loss_And_Accuracy_Table('sigmoid')"
   ]
  },
  {
   "cell_type": "markdown",
   "metadata": {},
   "source": [
    "MarkDown :"
   ]
  },
  {
   "cell_type": "markdown",
   "metadata": {},
   "source": [
    "| Dataset | Loss | Accuracy |\n",
    "|:--------|:--------:|--------:|\n",
    "| Training | 0.670634 | 58.71% |\n",
    "| Validation | 0.615124 | 69.53% |"
   ]
  },
  {
   "cell_type": "markdown",
   "metadata": {},
   "source": [
    "　"
   ]
  },
  {
   "cell_type": "markdown",
   "metadata": {},
   "source": [
    "　"
   ]
  }
 ],
 "metadata": {
  "kernelspec": {
   "display_name": "Python 3",
   "language": "python",
   "name": "python3"
  },
  "language_info": {
   "codemirror_mode": {
    "name": "ipython",
    "version": 3
   },
   "file_extension": ".py",
   "mimetype": "text/x-python",
   "name": "python",
   "nbconvert_exporter": "python",
   "pygments_lexer": "ipython3",
   "version": "3.7.1"
  }
 },
 "nbformat": 4,
 "nbformat_minor": 2
}
