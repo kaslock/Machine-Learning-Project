{
 "cells": [
  {
   "cell_type": "markdown",
   "metadata": {},
   "source": [
    "　"
   ]
  },
  {
   "cell_type": "markdown",
   "metadata": {},
   "source": [
    "$$\\ \\ \\ \\ \\ \\ \\ \\ \\ \\ \\ \\ \\ \\ \\ \\ \\ \\ \\ \\ \\ \\ \\ \\ \\ \\ \\ \\ \\ \\ \\ \\ \\ \\ \\ \\ \\ \\ \\ \\ \\ \\ \\ \\ \\ \\ \\ \\ \\ \\ \\ \\ \\ \\ \\ \\ \\ \\ \\ \\ \\ \\ \\ \\ \\ \\ \\ \\ \\ \\ \\ \\ \\ \\ \\ \\ \\ \\ \\ \\ \\ \\ \\ \\ \\ \\ \\ \\ \\ \\ \\ \\ \\ \\ \\ \\ \\ \\ \\ \\ \\ \\ \\ \\ \\ \\ \\ \\ \\ \\ \\ \\ \\ \\ \\ \\ \\ \\ \\ \\ \\ 20165549\\ \\ JANG\\ \\ JAE\\ \\ YONG$$"
   ]
  },
  {
   "cell_type": "markdown",
   "metadata": {},
   "source": [
    "　"
   ]
  },
  {
   "cell_type": "markdown",
   "metadata": {},
   "source": [
    "Build a binary classifier for human versus horse based on logistic regression using the dataset that consists of human and horse images"
   ]
  },
  {
   "cell_type": "markdown",
   "metadata": {},
   "source": [
    "　"
   ]
  },
  {
   "cell_type": "markdown",
   "metadata": {},
   "source": [
    " "
   ]
  },
  {
   "cell_type": "code",
   "execution_count": 35,
   "metadata": {},
   "outputs": [],
   "source": [
    "import matplotlib.pyplot as plt\n",
    "import numpy as np\n",
    "\n",
    "import torch\n",
    "from torch.utils.data import Dataset, DataLoader\n",
    "import torchvision.transforms as transforms\n",
    "import torchvision\n",
    "import os\n",
    "import pandas as pd\n",
    "\n",
    "transform = transforms.Compose([#transforms.Resize((256,256)),  \n",
    "                                transforms.Grayscale(),\n",
    "    # the code transforms.Graysclae() is for changing the size [3,100,100] to [1, 100, 100] (notice : [channel, height, width] )\n",
    "                                transforms.ToTensor(),])\n",
    "\n",
    "#train_data_path = 'relative path of training data set'\n",
    "train_data_path = 'horse-or-human/horse-or-human/train'\n",
    "trainset = torchvision.datasets.ImageFolder(root=train_data_path, transform=transform)\n",
    "# change the valuse of batch_size, num_workers for your program\n",
    "# if shuffle=True, the data reshuffled at every epoch \n",
    "trainloader = torch.utils.data.DataLoader(trainset, batch_size=1, shuffle=False, num_workers=1)  \n",
    "\n",
    "validation_data_path = 'horse-or-human/horse-or-human/validation'\n",
    "valset = torchvision.datasets.ImageFolder(root=validation_data_path, transform=transform)\n",
    "# change the valuse of batch_size, num_workers for your program\n",
    "valloader = torch.utils.data.DataLoader(valset, batch_size=1, shuffle=False, num_workers=1)  \n",
    "\n",
    "NUM_EPOCH = range(1) # my code\n",
    "\n",
    "#\n",
    "# Image size and number of data\n",
    "#\n",
    "image_size = 10000\n",
    "train_count = 1027\n",
    "validation_count = 256\n",
    "\n",
    "train_label = np.empty(train_count, dtype=float)\n",
    "train_data = np.ones((train_count, image_size + 1), dtype=float)\n",
    "\n",
    "validation_label = np.empty(validation_count, dtype=float)\n",
    "validation_data = np.ones((validation_count, image_size + 1), dtype=float)\n",
    "\n",
    "for epoch in (NUM_EPOCH):\n",
    "    # load training images of the batch size for every iteration\n",
    "    for i, data in enumerate(trainloader):\n",
    "\n",
    "        # inputs is the image\n",
    "        # labels is the class of the image\n",
    "        inputs, labels = data\n",
    "\n",
    "        # if you don't change the image size, it will be [batch_size, 1, 100, 100]\n",
    "        #print(inputs.shape)\n",
    "\n",
    "        # if labels is horse it returns tensor[0,0,0] else it returns tensor[1,1,1]\n",
    "        #print(labels)\n",
    "        \n",
    "        train_label[i] = int(labels)\n",
    "        train_tmp = np.asfarray(inputs)\n",
    "        train_data[i, :10000] = train_tmp[0, 0, :, :].reshape(10000)\n",
    "        \n",
    "    # load validation images of the batch size for every iteration\n",
    "    for i, data in enumerate(valloader):\n",
    "        \n",
    "        # inputs is the image\n",
    "        # labels is the class of the image\n",
    "        inputs, labels = data\n",
    "\n",
    "        # if you don't change the image size, it will be [batch_size, 1, 100, 100]\n",
    "        #print(inputs.shape)\n",
    "\n",
    "        # if labels is horse it returns tensor[0,0,0] else it returns tensor[1,1,1]\n",
    "        #print(labels)\n",
    "        \n",
    "        validation_label[i] = int(labels)\n",
    "        validation_tmp = np.asfarray(inputs)\n",
    "        validation_data[i, :10000] = validation_tmp[0, 0, :, :].reshape(10000)"
   ]
  },
  {
   "cell_type": "code",
   "execution_count": 36,
   "metadata": {},
   "outputs": [],
   "source": [
    "#np.random.seed(1)\n",
    "\n",
    "learningRate = 10**(-3)\n",
    "delta = 10**(-9)\n",
    "\n",
    "def sigmoid(x):\n",
    "    return 1/(1 + np.exp(-x))\n",
    "\n",
    "def loss_function(t, y):\n",
    "    return -np.sum(t*np.log(y+delta) + (1-t)*np.log(1-y+delta)) "
   ]
  },
  {
   "cell_type": "code",
   "execution_count": 37,
   "metadata": {},
   "outputs": [],
   "source": [
    "def tanh(x):\n",
    "    return (np.exp(x) - np.exp(-x)) / (np.exp(x) + np.exp(-x))\n",
    "\n",
    "def ReLU(x):\n",
    "    return x * (x > 0)\n",
    "\n",
    "def LeakyReLU(x):\n",
    "    return"
   ]
  },
  {
   "cell_type": "code",
   "execution_count": 38,
   "metadata": {},
   "outputs": [],
   "source": [
    "def ActivationFunc(FunctionName, x):\n",
    "    \n",
    "    if FunctionName == 'sigmoid':\n",
    "        return sigmoid(x)\n",
    "    elif FunctionName == 'tanh':\n",
    "        return tanh(x)\n",
    "    elif FunctionName == 'ReLU':\n",
    "        return ReLU(x)\n",
    "    elif FunctionName == 'LeakyReLU':\n",
    "        return LeakyReLU(x)"
   ]
  },
  {
   "cell_type": "code",
   "execution_count": 39,
   "metadata": {},
   "outputs": [],
   "source": [
    "def d_ActivationFunc(FunctionName, x):\n",
    "    \n",
    "    if FunctionName == 'sigmoid':\n",
    "        return sigmoid(x) * (1 - sigmoid(x))\n",
    "    elif FunctionName == 'tanh':\n",
    "        return 1 - (tanh(x))**2\n",
    "    elif FunctionName == 'ReLU':\n",
    "        return 1. * (x > 0)\n",
    "    elif FunctionName == 'LeakyReLU':\n",
    "        return LeakyReLU(x)"
   ]
  },
  {
   "cell_type": "code",
   "execution_count": 48,
   "metadata": {},
   "outputs": [],
   "source": [
    "def ThreeLayerNeuralNetwork(FuncName):\n",
    "    \n",
    "    uc = 10   # u\n",
    "    vc = 10   # v\n",
    "    wc = 1    # w\n",
    "    \n",
    "    u = np.ones((image_size + 1, uc + 1), dtype=float)\n",
    "    v = np.ones((uc + 1, vc + 1), dtype=float)\n",
    "    w = np.ones((vc + 1, wc + 1), dtype=float)\n",
    "\n",
    "    a = np.ones((train_count, uc + 1), dtype=float)\n",
    "    b = np.ones((train_count, vc + 1), dtype=float)\n",
    "    c = np.ones((train_count, wc), dtype=float)\n",
    "    h = np.ones((train_count, wc), dtype=float)\n",
    "\n",
    "    t_a = np.ones((train_count, uc + 1), dtype=float)\n",
    "    t_b = np.ones((train_count, vc + 1), dtype=float)\n",
    "    t_c = np.ones((train_count, wc), dtype=float)\n",
    "    t_h = np.ones((train_count, wc), dtype=float)\n",
    "    \n",
    "    iteration = 5000 # Max Iteration\n",
    "    loss_arr = np.zeros(iteration, dtype=float)\n",
    "    t_loss_arr = np.zeros(iteration, dtype=float)\n",
    "    loss_value_arr = np.zeros(iteration, dtype=float)\n",
    "    t_loss_value_arr = np.zeros(iteration, dtype=float)\n",
    "\n",
    "    u = np.random.randn(image_size+1, uc)\n",
    "    v = np.random.randn(uc+1, vc)\n",
    "    w = np.random.randn(vc+1, wc)\n",
    "\n",
    "    d_lc = np.empty(train_count, dtype=float)\n",
    "    d_cb = np.empty(train_count, dtype=float)\n",
    "    d_ba = np.empty(train_count, dtype=float)\n",
    "    \n",
    "    for iter in range(iteration):\n",
    "        #\n",
    "        # training matrix\n",
    "        for i in range(train_count): # u * X\n",
    "            for j in range(uc):\n",
    "                a[i, j] = (train_data[i, :]).dot(u[:, j])\n",
    "\n",
    "        for i in range(train_count): # v * ActivationFunc(a)\n",
    "            for j in range(vc):\n",
    "                b[i, j] = (ActivationFunc(FuncName, a[i, :])).dot(v[:, j])\n",
    "\n",
    "        for i in range(train_count): # w * ActivationFunc(b)\n",
    "            for j in range(wc):\n",
    "                c[i, j] = (ActivationFunc(FuncName, b[i, :])).dot(w[:, j])\n",
    "\n",
    "        h[:, :] = sigmoid(c[:, :]) # sigmoid(c)\n",
    "\n",
    "        #\n",
    "        # validation matrix for loss value calculation\n",
    "        for i in range(validation_count):\n",
    "            for j in range(uc):\n",
    "                t_a[i, j] = (validation_data[i, :]).dot(u[:, j])\n",
    "\n",
    "        for i in range(validation_count):\n",
    "            for j in range(vc):\n",
    "                t_b[i, j] = (ActivationFunc(FuncName, t_a[i, :])).dot(v[:, j])\n",
    "\n",
    "        for i in range(validation_count):\n",
    "            for j in range(wc):\n",
    "                t_c[i] = (ActivationFunc(FuncName, t_b[i, :])).dot(w[:, j])\n",
    "\n",
    "        t_h[:, :] = sigmoid(t_c[:, :])\n",
    "\n",
    "        for i in range(train_count):\n",
    "            d_lc[i] = np.mean(h[i, :]) - train_label[i]\n",
    "\n",
    "        for i in range(train_count):\n",
    "            d_ba[i] = np.mean(ActivationFunc(FuncName, a[i, :-1]))\n",
    "\n",
    "        for i in range(train_count):\n",
    "            d_cb[i] = np.mean(ActivationFunc(FuncName, b[i, :-1]))\n",
    "\n",
    "        for i in range(image_size):\n",
    "            u[i, :-1] = u[i, :-1] - learningRate * np.mean(d_lc[:] * d_cb[:] * d_ba[:] * train_data[:, i])\n",
    "        u[image_size, :-1] = u[image_size, :-1] - learningRate * np.mean(d_lc[:] * d_cb[:] * d_ba[:])\n",
    "\n",
    "        for i in range(uc):\n",
    "            v[i, :-1] = v[i, :-1] - learningRate * np.mean(d_lc[:] * d_cb[:] * ActivationFunc(FuncName, a[:, i]))\n",
    "        v[uc, :-1] = v[uc, :-1] - learningRate * np.mean(d_lc[:] * d_cb[:])\n",
    "\n",
    "        for i in range(vc):\n",
    "            w[i, :] = w[i, :] - learningRate * np.mean(d_lc[:].dot(ActivationFunc(FuncName, b[:, i])))\n",
    "        w[vc, :] = w[vc, :] - learningRate * np.mean(d_lc[:])\n",
    "\n",
    "        loss_value = 0\n",
    "        t_loss_value = 0\n",
    "        training_loss = 0\n",
    "        testing_loss = 0\n",
    "\n",
    "        for i in range(train_count):\n",
    "            loss_value += loss_function(train_label[i], np.mean(h[i, :]))\n",
    "\n",
    "            if train_label[i] == 1:\n",
    "                if np.mean(h[i, :]) <= 0.5: # loss count\n",
    "                    training_loss += 1\n",
    "            else:\n",
    "                if np.mean(h[i, :]) > 0.5: # loss count\n",
    "                    training_loss += 1\n",
    "        \n",
    "        if loss_value < 0.1:\n",
    "            break\n",
    "        \n",
    "        for i in range(validation_count):\n",
    "            t_loss_value += loss_function(validation_label[i], np.mean(t_h[i, :]))\n",
    "            if validation_label[i] == 1:\n",
    "                if np.mean(t_h[i, :]) <= 0.5: # loss count\n",
    "                    testing_loss += 1\n",
    "            else:\n",
    "                if np.mean(t_h[i]) > 0.5: # loss count\n",
    "                    testing_loss += 1\n",
    "\n",
    "        if iter % 100 == 0 or iter+1 == iteration:\n",
    "            print(\"iter =\", iter)\n",
    "            print(\"train loss count =\", training_loss)\n",
    "            print(\"train loss value =\", loss_value / train_count)\n",
    "            print(\"validation loss count =\", testing_loss)\n",
    "            print(\"validation loss value =\", t_loss_value / validation_count)\n",
    "\n",
    "        loss_value_arr[iter] = loss_value\n",
    "        t_loss_value_arr[iter] = t_loss_value\n",
    "        loss_arr[iter] = training_loss\n",
    "        t_loss_arr[iter] = testing_loss\n",
    "        \n",
    "        \n",
    "    return loss_value_arr, loss_arr, t_loss_value_arr, t_loss_arr"
   ]
  },
  {
   "cell_type": "code",
   "execution_count": 51,
   "metadata": {},
   "outputs": [],
   "source": [
    "def LossPlot(FuncName):\n",
    "    x = range(iteration)\n",
    "    y1 = loss_value_arr[x] / train_count\n",
    "    y2 = t_loss_value_arr[x] / validation_count\n",
    "\n",
    "    plt.plot(x, y1, \"BLUE\")\n",
    "    plt.plot(x, y2, \"RED\")\n",
    "    plt.title(FuncName + 'Training and Validation Loss')\n",
    "    plt.xlabel('Iteration')\n",
    "    plt.ylabel('Loss')\n",
    "    plt.show()"
   ]
  },
  {
   "cell_type": "code",
   "execution_count": 52,
   "metadata": {},
   "outputs": [],
   "source": [
    "def AccuracyPlot(FuncName):\n",
    "    x = range(iteration)\n",
    "    y1 = (train_count - loss_arr[x]) / train_count\n",
    "    y2 = (validation_count - t_loss_arr[x]) / validation_count\n",
    "\n",
    "    plt.plot(x, y1, \"BLUE\")\n",
    "    plt.plot(x, y2, \"RED\")\n",
    "    plt.title(FuncName + 'Training and Validation Accuracy')\n",
    "    plt.xlabel('Iteration')\n",
    "    plt.ylabel('Accuracy percent')\n",
    "    plt.show()"
   ]
  },
  {
   "cell_type": "code",
   "execution_count": 53,
   "metadata": {},
   "outputs": [],
   "source": [
    "def Loss_And_Accuracy_Table(FuncName):\n",
    "    print(FuncName + 'Loss and Accuracy Table')\n",
    "    idx1 = round(loss_value_arr[iteration - 1] / train_count, 6)\n",
    "    idx2 = str(round((train_count - loss_arr[iteration - 1]) / train_count * 100, 2)) + ' %'\n",
    "    idx3 = round(t_loss_value_arr[iteration - 1] / validation_count, 6)\n",
    "    idx4 = str(round((validation_count - t_loss_arr[iteration - 1]) / validation_count * 100, 2)) + ' %'\n",
    "\n",
    "    df = pd.DataFrame(data=np.array([[idx1, idx2], [idx3, idx4]]), index= ['Training', 'Validation'], columns=['Loss', 'Accuracy'])\n",
    "    display(df)"
   ]
  },
  {
   "cell_type": "code",
   "execution_count": 49,
   "metadata": {},
   "outputs": [
    {
     "name": "stdout",
     "output_type": "stream",
     "text": [
      "iter = 0\n",
      "train loss count = 529\n",
      "train loss value = 0.7604899396397667\n",
      "validation loss count = 129\n",
      "validation loss value = 0.7933694982573536\n",
      "iter = 100\n",
      "train loss count = 418\n",
      "train loss value = 0.676105766431536\n",
      "validation loss count = 62\n",
      "validation loss value = 0.6249225751736976\n",
      "iter = 200\n",
      "train loss count = 416\n",
      "train loss value = 0.6716433100890292\n",
      "validation loss count = 61\n",
      "validation loss value = 0.6152732424454747\n",
      "iter = 300\n",
      "train loss count = 417\n",
      "train loss value = 0.6685371879853566\n",
      "validation loss count = 63\n",
      "validation loss value = 0.6108567870256061\n",
      "iter = 400\n",
      "train loss count = 412\n",
      "train loss value = 0.6662991670285463\n",
      "validation loss count = 63\n",
      "validation loss value = 0.6073927648817745\n",
      "iter = 500\n",
      "train loss count = 410\n",
      "train loss value = 0.6646981434559212\n",
      "validation loss count = 64\n",
      "validation loss value = 0.6046164148512349\n",
      "iter = 600\n",
      "train loss count = 409\n",
      "train loss value = 0.663554265283723\n",
      "validation loss count = 64\n",
      "validation loss value = 0.6026226034656181\n",
      "iter = 700\n",
      "train loss count = 407\n",
      "train loss value = 0.662704228962136\n",
      "validation loss count = 64\n",
      "validation loss value = 0.6015102091394923\n",
      "iter = 800\n",
      "train loss count = 410\n",
      "train loss value = 0.6620968249044505\n",
      "validation loss count = 65\n",
      "validation loss value = 0.6009072232419743\n",
      "iter = 900\n",
      "train loss count = 408\n",
      "train loss value = 0.6618077981665368\n",
      "validation loss count = 65\n",
      "validation loss value = 0.6005849256263879\n",
      "iter = 1000\n",
      "train loss count = 406\n",
      "train loss value = 0.6619183330104713\n",
      "validation loss count = 65\n",
      "validation loss value = 0.6007286255266836\n",
      "iter = 1100\n",
      "train loss count = 407\n",
      "train loss value = 0.6623085290075937\n",
      "validation loss count = 65\n",
      "validation loss value = 0.6009512325104768\n",
      "iter = 1200\n",
      "train loss count = 409\n",
      "train loss value = 0.662800784432056\n",
      "validation loss count = 65\n",
      "validation loss value = 0.6006533623599775\n",
      "iter = 1300\n",
      "train loss count = 409\n",
      "train loss value = 0.6632347055160521\n",
      "validation loss count = 63\n",
      "validation loss value = 0.6001165085179464\n",
      "iter = 1400\n",
      "train loss count = 409\n",
      "train loss value = 0.6636928231898607\n",
      "validation loss count = 63\n",
      "validation loss value = 0.5997744112384912\n",
      "iter = 1500\n",
      "train loss count = 407\n",
      "train loss value = 0.6644230671123906\n",
      "validation loss count = 63\n",
      "validation loss value = 0.5995222991656913\n",
      "iter = 1600\n",
      "train loss count = 404\n",
      "train loss value = 0.6652554879793524\n",
      "validation loss count = 68\n",
      "validation loss value = 0.600151419504886\n",
      "iter = 1700\n",
      "train loss count = 410\n",
      "train loss value = 0.6662231630206028\n",
      "validation loss count = 68\n",
      "validation loss value = 0.6007508265101942\n",
      "iter = 1800\n",
      "train loss count = 403\n",
      "train loss value = 0.6670285399520562\n",
      "validation loss count = 66\n",
      "validation loss value = 0.6017359089629656\n",
      "iter = 1900\n",
      "train loss count = 407\n",
      "train loss value = 0.6673098349375713\n",
      "validation loss count = 65\n",
      "validation loss value = 0.6034349560887802\n",
      "iter = 2000\n",
      "train loss count = 408\n",
      "train loss value = 0.6678117669991617\n",
      "validation loss count = 66\n",
      "validation loss value = 0.6061438733453154\n",
      "iter = 2100\n",
      "train loss count = 407\n",
      "train loss value = 0.6681616382690817\n",
      "validation loss count = 64\n",
      "validation loss value = 0.6090855404977156\n",
      "iter = 2200\n",
      "train loss count = 408\n",
      "train loss value = 0.6687259254618144\n",
      "validation loss count = 62\n",
      "validation loss value = 0.6106599140254101\n",
      "iter = 2300\n",
      "train loss count = 410\n",
      "train loss value = 0.6707310462363685\n",
      "validation loss count = 62\n",
      "validation loss value = 0.617001826564143\n",
      "iter = 2400\n",
      "train loss count = 419\n",
      "train loss value = 0.6734876478196685\n",
      "validation loss count = 63\n",
      "validation loss value = 0.6188295245506042\n",
      "iter = 2500\n",
      "train loss count = 424\n",
      "train loss value = 0.6736731017650217\n",
      "validation loss count = 61\n",
      "validation loss value = 0.6152368693988521\n",
      "iter = 2600\n",
      "train loss count = 434\n",
      "train loss value = 0.6731221427169749\n",
      "validation loss count = 60\n",
      "validation loss value = 0.608378909587984\n",
      "iter = 2700\n",
      "train loss count = 413\n",
      "train loss value = 0.6693726304364906\n",
      "validation loss count = 61\n",
      "validation loss value = 0.6013001035751673\n",
      "iter = 2800\n",
      "train loss count = 402\n",
      "train loss value = 0.6652992987138371\n",
      "validation loss count = 59\n",
      "validation loss value = 0.5931710825228595\n",
      "iter = 2900\n",
      "train loss count = 380\n",
      "train loss value = 0.6593874283659978\n",
      "validation loss count = 57\n",
      "validation loss value = 0.5785071422065926\n",
      "iter = 3000\n",
      "train loss count = 374\n",
      "train loss value = 0.6505231226190913\n",
      "validation loss count = 57\n",
      "validation loss value = 0.5612883086572134\n",
      "iter = 3100\n",
      "train loss count = 379\n",
      "train loss value = 0.6449290120490586\n",
      "validation loss count = 59\n",
      "validation loss value = 0.544835014276944\n",
      "iter = 3200\n",
      "train loss count = 361\n",
      "train loss value = 0.6391415563627426\n",
      "validation loss count = 50\n",
      "validation loss value = 0.5310543501265372\n",
      "iter = 3300\n",
      "train loss count = 348\n",
      "train loss value = 0.6285602763448708\n",
      "validation loss count = 53\n",
      "validation loss value = 0.5224171372816758\n",
      "iter = 3400\n",
      "train loss count = 353\n",
      "train loss value = 0.6211598515549375\n",
      "validation loss count = 51\n",
      "validation loss value = 0.5092397104047875\n",
      "iter = 3500\n",
      "train loss count = 336\n",
      "train loss value = 0.6118903881384437\n",
      "validation loss count = 48\n",
      "validation loss value = 0.49908781895108584\n",
      "iter = 3600\n",
      "train loss count = 320\n",
      "train loss value = 0.6048082585541981\n",
      "validation loss count = 49\n",
      "validation loss value = 0.48565278413595014\n",
      "iter = 3700\n",
      "train loss count = 310\n",
      "train loss value = 0.6005161434064687\n",
      "validation loss count = 42\n",
      "validation loss value = 0.48290103350449903\n",
      "iter = 3800\n",
      "train loss count = 305\n",
      "train loss value = 0.5984690227134984\n",
      "validation loss count = 45\n",
      "validation loss value = 0.48862308900276474\n",
      "iter = 3900\n",
      "train loss count = 305\n",
      "train loss value = 0.5973903809059261\n",
      "validation loss count = 48\n",
      "validation loss value = 0.5029333137464873\n",
      "iter = 4000\n",
      "train loss count = 311\n",
      "train loss value = 0.5982944997645164\n",
      "validation loss count = 46\n",
      "validation loss value = 0.5157389038039445\n",
      "iter = 4100\n",
      "train loss count = 298\n",
      "train loss value = 0.5980550078358501\n",
      "validation loss count = 51\n",
      "validation loss value = 0.5275420570697319\n",
      "iter = 4200\n",
      "train loss count = 298\n",
      "train loss value = 0.5975361776583386\n",
      "validation loss count = 51\n",
      "validation loss value = 0.5312539002520479\n",
      "iter = 4300\n",
      "train loss count = 295\n",
      "train loss value = 0.5967104741278618\n",
      "validation loss count = 55\n",
      "validation loss value = 0.5295362187722373\n",
      "iter = 4400\n",
      "train loss count = 312\n",
      "train loss value = 0.5955563775727337\n",
      "validation loss count = 72\n",
      "validation loss value = 0.5356856854255241\n",
      "iter = 4500\n",
      "train loss count = 302\n",
      "train loss value = 0.5950935099613232\n",
      "validation loss count = 77\n",
      "validation loss value = 0.541004568211397\n",
      "iter = 4600\n",
      "train loss count = 300\n",
      "train loss value = 0.5963524772794669\n",
      "validation loss count = 75\n",
      "validation loss value = 0.5435110994365518\n",
      "iter = 4700\n",
      "train loss count = 302\n",
      "train loss value = 0.597803979793088\n",
      "validation loss count = 73\n",
      "validation loss value = 0.5455740933770333\n",
      "iter = 4800\n",
      "train loss count = 296\n",
      "train loss value = 0.5987610368946159\n",
      "validation loss count = 69\n",
      "validation loss value = 0.5464644463007666\n",
      "iter = 4900\n",
      "train loss count = 298\n",
      "train loss value = 0.599845105095656\n",
      "validation loss count = 70\n",
      "validation loss value = 0.5481961277818745\n"
     ]
    },
    {
     "data": {
      "text/plain": [
       "(array([781.02316801, 737.14786293, 732.87120656, ..., 616.7369384 ,\n",
       "        616.74378657, 616.75067926]),\n",
       " array([529., 516., 613., ..., 299., 299., 300.]),\n",
       " array([203.10259155, 192.61804448, 190.59431598, ..., 141.26524963,\n",
       "        141.27615478, 141.28708646]),\n",
       " array([129., 167., 193., ...,  68.,  69.,  70.]))"
      ]
     },
     "execution_count": 49,
     "metadata": {},
     "output_type": "execute_result"
    }
   ],
   "source": [
    "ThreeLayerNeuralNetwork('sigmoid')\n",
    "LossPlot('sigmoid')\n",
    "AccuracyPlot('sigmoid')\n",
    "Loss_And_Accuracy_Table('sigmoid')"
   ]
  },
  {
   "cell_type": "code",
   "execution_count": 54,
   "metadata": {},
   "outputs": [
    {
     "data": {
      "image/png": "[encoded data removed]",
      "text/plain": [
       "<Figure size 432x288 with 1 Axes>"
      ]
     },
     "metadata": {
      "needs_background": "light"
     },
     "output_type": "display_data"
    },
    {
     "data": {
      "image/png": "[encoded data removed]",
      "text/plain": [
       "<Figure size 432x288 with 1 Axes>"
      ]
     },
     "metadata": {
      "needs_background": "light"
     },
     "output_type": "display_data"
    },
    {
     "name": "stdout",
     "output_type": "stream",
     "text": [
      "sigmoidLoss and Accuracy Table\n"
     ]
    },
    {
     "data": {
      "text/html": [
       "<div>\n",
       "<style scoped>\n",
       "    .dataframe tbody tr th:only-of-type {\n",
       "        vertical-align: middle;\n",
       "    }\n",
       "\n",
       "    .dataframe tbody tr th {\n",
       "        vertical-align: top;\n",
       "    }\n",
       "\n",
       "    .dataframe thead th {\n",
       "        text-align: right;\n",
       "    }\n",
       "</style>\n",
       "<table border=\"1\" class=\"dataframe\">\n",
       "  <thead>\n",
       "    <tr style=\"text-align: right;\">\n",
       "      <th></th>\n",
       "      <th>Loss</th>\n",
       "      <th>Accuracy</th>\n",
       "    </tr>\n",
       "  </thead>\n",
       "  <tbody>\n",
       "    <tr>\n",
       "      <th>Training</th>\n",
       "      <td>0.670634</td>\n",
       "      <td>58.71 %</td>\n",
       "    </tr>\n",
       "    <tr>\n",
       "      <th>Validation</th>\n",
       "      <td>0.615124</td>\n",
       "      <td>69.53 %</td>\n",
       "    </tr>\n",
       "  </tbody>\n",
       "</table>\n",
       "</div>"
      ],
      "text/plain": [
       "                Loss Accuracy\n",
       "Training    0.670634  58.71 %\n",
       "Validation  0.615124  69.53 %"
      ]
     },
     "metadata": {},
     "output_type": "display_data"
    }
   ],
   "source": [
    "LossPlot('sigmoid')\n",
    "AccuracyPlot('sigmoid')\n",
    "Loss_And_Accuracy_Table('sigmoid')"
   ]
  },
  {
   "cell_type": "markdown",
   "metadata": {},
   "source": [
    "　"
   ]
  },
  {
   "cell_type": "markdown",
   "metadata": {},
   "source": [
    "Plot Training and Validation at every iteration"
   ]
  },
  {
   "cell_type": "code",
   "execution_count": 31,
   "metadata": {},
   "outputs": [
    {
     "data": {
      "image/png": "[encoded data removed]",
      "text/plain": [
       "<Figure size 432x288 with 1 Axes>"
      ]
     },
     "metadata": {
      "needs_background": "light"
     },
     "output_type": "display_data"
    }
   ],
   "source": [
    "x = range(iteration)\n",
    "y1 = loss_value_arr[x] / train_count\n",
    "y2 = t_loss_value_arr[x] / validation_count\n",
    "\n",
    "plt.plot(x, y1, \"BLUE\")\n",
    "plt.plot(x, y2, \"RED\")\n",
    "plt.title('Training and Validation Loss')\n",
    "plt.xlabel('Iteration')\n",
    "plt.ylabel('Loss')\n",
    "plt.show()"
   ]
  },
  {
   "cell_type": "code",
   "execution_count": 32,
   "metadata": {},
   "outputs": [
    {
     "data": {
      "image/png": "[encoded data removed]",
      "text/plain": [
       "<Figure size 432x288 with 1 Axes>"
      ]
     },
     "metadata": {
      "needs_background": "light"
     },
     "output_type": "display_data"
    }
   ],
   "source": [
    "x = range(iteration)\n",
    "y1 = (train_count - loss_arr[x]) / train_count\n",
    "y2 = (validation_count - t_loss_arr[x]) / validation_count\n",
    "\n",
    "plt.plot(x, y1, \"BLUE\")\n",
    "plt.plot(x, y2, \"RED\")\n",
    "plt.title('Training and Validation Accuracy')\n",
    "plt.xlabel('Iteration')\n",
    "plt.ylabel('Accuracy percent')\n",
    "plt.show()"
   ]
  },
  {
   "cell_type": "markdown",
   "metadata": {},
   "source": [
    "　"
   ]
  },
  {
   "cell_type": "markdown",
   "metadata": {},
   "source": [
    "　"
   ]
  },
  {
   "cell_type": "markdown",
   "metadata": {},
   "source": [
    "Present the table for the final accuracy and loss with training and validation datasets as below:"
   ]
  },
  {
   "cell_type": "code",
   "execution_count": 33,
   "metadata": {},
   "outputs": [
    {
     "name": "stdout",
     "output_type": "stream",
     "text": [
      "Final Training Loss = 0.6706340215691236\n",
      "Final Training Accuracy = 58.714703018500494 %\n",
      "Final Validation Loss = 0.6151239202585809\n",
      "Final Validation Accuracy = 69.53125 %\n"
     ]
    }
   ],
   "source": [
    "print ('Final Training Loss =', loss_value_arr[iteration - 1] / train_count)\n",
    "print ('Final Training Accuracy =', (train_count - loss_arr[iteration - 1]) / train_count * 100, '%')\n",
    "print ('Final Validation Loss =', t_loss_value_arr[iteration - 1] / validation_count)\n",
    "print ('Final Validation Accuracy =', (validation_count - t_loss_arr[iteration - 1]) / validation_count * 100, '%')"
   ]
  },
  {
   "cell_type": "code",
   "execution_count": 34,
   "metadata": {},
   "outputs": [
    {
     "data": {
      "text/html": [
       "<div>\n",
       "<style scoped>\n",
       "    .dataframe tbody tr th:only-of-type {\n",
       "        vertical-align: middle;\n",
       "    }\n",
       "\n",
       "    .dataframe tbody tr th {\n",
       "        vertical-align: top;\n",
       "    }\n",
       "\n",
       "    .dataframe thead th {\n",
       "        text-align: right;\n",
       "    }\n",
       "</style>\n",
       "<table border=\"1\" class=\"dataframe\">\n",
       "  <thead>\n",
       "    <tr style=\"text-align: right;\">\n",
       "      <th></th>\n",
       "      <th>Loss</th>\n",
       "      <th>Accuracy</th>\n",
       "    </tr>\n",
       "  </thead>\n",
       "  <tbody>\n",
       "    <tr>\n",
       "      <th>Training</th>\n",
       "      <td>0.670634</td>\n",
       "      <td>58.71 %</td>\n",
       "    </tr>\n",
       "    <tr>\n",
       "      <th>Validation</th>\n",
       "      <td>0.615124</td>\n",
       "      <td>69.53 %</td>\n",
       "    </tr>\n",
       "  </tbody>\n",
       "</table>\n",
       "</div>"
      ],
      "text/plain": [
       "                Loss Accuracy\n",
       "Training    0.670634  58.71 %\n",
       "Validation  0.615124  69.53 %"
      ]
     },
     "metadata": {},
     "output_type": "display_data"
    }
   ],
   "source": [
    "import pandas as pd\n",
    "idx1 = round(loss_value_arr[iteration - 1] / train_count, 6)\n",
    "idx2 = str(round((train_count - loss_arr[iteration - 1]) / train_count * 100, 2)) + ' %'\n",
    "idx3 = round(t_loss_value_arr[iteration - 1] / validation_count, 6)\n",
    "idx4 = str(round((validation_count - t_loss_arr[iteration - 1]) / validation_count * 100, 2)) + ' %'\n",
    "\n",
    "df = pd.DataFrame(data=np.array([[idx1, idx2], [idx3, idx4]]), index= ['Training', 'Validation'], columns=['Loss', 'Accuracy'])\n",
    "display(df)"
   ]
  },
  {
   "cell_type": "markdown",
   "metadata": {},
   "source": [
    "MarkDown :"
   ]
  },
  {
   "cell_type": "markdown",
   "metadata": {},
   "source": [
    "| Dataset | Loss | Accuracy |\n",
    "|:--------|:--------:|--------:|\n",
    "| Training | 0.670634 | 58.71% |\n",
    "| Validation | 0.615124 | 69.53% |"
   ]
  },
  {
   "cell_type": "markdown",
   "metadata": {},
   "source": [
    "　"
   ]
  },
  {
   "cell_type": "markdown",
   "metadata": {},
   "source": [
    "　"
   ]
  }
 ],
 "metadata": {
  "kernelspec": {
   "display_name": "Python 3",
   "language": "python",
   "name": "python3"
  },
  "language_info": {
   "codemirror_mode": {
    "name": "ipython",
    "version": 3
   },
   "file_extension": ".py",
   "mimetype": "text/x-python",
   "name": "python",
   "nbconvert_exporter": "python",
   "pygments_lexer": "ipython3",
   "version": "3.7.1"
  }
 },
 "nbformat": 4,
 "nbformat_minor": 2
}
