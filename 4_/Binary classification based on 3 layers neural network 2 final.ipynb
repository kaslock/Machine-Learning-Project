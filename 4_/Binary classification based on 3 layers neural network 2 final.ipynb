{
 "cells": [
  {
   "cell_type": "markdown",
   "metadata": {
    "colab_type": "text",
    "id": "gtz7sUaBNmiH"
   },
   "source": [
    "　"
   ]
  },
  {
   "cell_type": "markdown",
   "metadata": {
    "colab_type": "text",
    "id": "Rz0E4T27NmiJ"
   },
   "source": [
    "　"
   ]
  },
  {
   "cell_type": "markdown",
   "metadata": {
    "colab_type": "text",
    "id": "yoKbDp5yNmiK"
   },
   "source": [
    "$$\\ \\ \\ \\ \\ \\ \\ \\ \\ \\ \\ \\ \\ \\ \\ \\ \\ \\ \\ \\ \\ \\ \\ \\ \\ \\ \\ \\ \\ \\ \\ \\ \\ \\ \\ \\ \\ \\ \\ \\ \\ \\ \\ \\ \\ \\ \\ \\ \\ \\ \\ \\ \\ \\ \\ \\ \\ \\ \\ \\ \\ \\ \\ \\ \\ \\ \\ \\ \\ \\ \\ \\ \\ \\ \\ \\ \\ \\ \\ \\ \\ \\ \\ \\ \\ \\ \\ \\ \\ \\ \\ \\ \\ \\ \\ \\ \\ \\ \\ \\ \\ \\ \\ \\ \\ \\ \\ \\ \\ \\ \\ \\ \\ \\ \\ \\ \\ \\ \\ \\ \\ 20165549\\ \\ JANG\\ \\ JAE\\ \\ YONG$$"
   ]
  },
  {
   "cell_type": "markdown",
   "metadata": {
    "colab_type": "text",
    "id": "4spZOuiYNmiM"
   },
   "source": [
    "　"
   ]
  },
  {
   "cell_type": "markdown",
   "metadata": {
    "colab_type": "text",
    "id": "fx568JtWNmiM"
   },
   "source": [
    "Build a binary classifier based on 3 layers neural network using the human versus horse dataset"
   ]
  },
  {
   "cell_type": "markdown",
   "metadata": {
    "colab_type": "text",
    "id": "4mwZhh5INmiN"
   },
   "source": [
    " "
   ]
  },
  {
   "cell_type": "code",
   "execution_count": 0,
   "metadata": {
    "colab": {
     "base_uri": "https://localhost:8080/",
     "height": 204
    },
    "colab_type": "code",
    "executionInfo": {
     "elapsed": 29,
     "status": "error",
     "timestamp": 1572702993219,
     "user": {
      "displayName": "장재용",
      "photoUrl": "",
      "userId": "12796898358202218662"
     },
     "user_tz": -540
    },
    "id": "_G1-ND47PPEK",
    "outputId": "540ed037-3433-448f-e7ed-57b74ed53290"
   },
   "outputs": [
    {
     "ename": "ModuleNotFoundError",
     "evalue": "ignored",
     "output_type": "error",
     "traceback": [
      "\u001b[1;31m---------------------------------------------------------------------------\u001b[0m",
      "\u001b[1;31mModuleNotFoundError\u001b[0m                       Traceback (most recent call last)",
      "\u001b[1;32m<ipython-input-6-3aeef50c6911>\u001b[0m in \u001b[0;36m<module>\u001b[1;34m\u001b[0m\n\u001b[1;32m----> 1\u001b[1;33m \u001b[1;32mfrom\u001b[0m \u001b[0mgoogle\u001b[0m\u001b[1;33m.\u001b[0m\u001b[0mcolab\u001b[0m \u001b[1;32mimport\u001b[0m \u001b[0mdrive\u001b[0m\u001b[1;33m\u001b[0m\u001b[1;33m\u001b[0m\u001b[0m\n\u001b[0m\u001b[0;32m      2\u001b[0m \u001b[1;33m\u001b[0m\u001b[0m\n\u001b[0;32m      3\u001b[0m \u001b[0mdrive\u001b[0m\u001b[1;33m.\u001b[0m\u001b[0mmount\u001b[0m\u001b[1;33m(\u001b[0m\u001b[1;34m'/content/gdrive'\u001b[0m\u001b[1;33m)\u001b[0m\u001b[1;33m\u001b[0m\u001b[1;33m\u001b[0m\u001b[0m\n",
      "\u001b[1;31mModuleNotFoundError\u001b[0m: No module named 'google'"
     ]
    }
   ],
   "source": [
    "from google.colab import drive\n",
    "\n",
    "drive.mount('/content/gdrive')"
   ]
  },
  {
   "cell_type": "code",
   "execution_count": 0,
   "metadata": {
    "colab": {},
    "colab_type": "code",
    "id": "zK6j6ZsJNmiO"
   },
   "outputs": [],
   "source": [
    "import matplotlib.pyplot as plt\n",
    "import numpy as np\n",
    "\n",
    "import torch\n",
    "from torch.utils.data import Dataset, DataLoader\n",
    "import torchvision.transforms as transforms\n",
    "import torchvision\n",
    "import os\n",
    "import pandas as pd\n",
    "\n",
    "transform = transforms.Compose([#transforms.Resize((256,256)),  \n",
    "                                transforms.Grayscale(),\n",
    "    # the code transforms.Graysclae() is for changing the size [3,100,100] to [1, 100, 100] (notice : [channel, height, width] )\n",
    "                                transforms.ToTensor(),])\n",
    "\n",
    "#train_data_path = 'relative path of training data set'\n",
    "train_data_path = '/Users/JJy/Machine-Learning-Project/4_/horse-or-human/horse-or-human/train'\n",
    "trainset = torchvision.datasets.ImageFolder(root=train_data_path, transform=transform)\n",
    "# change the valuse of batch_size, num_workers for your program\n",
    "# if shuffle=True, the data reshuffled at every epoch \n",
    "trainloader = torch.utils.data.DataLoader(trainset, batch_size=1, shuffle=False, num_workers=1)  \n",
    "\n",
    "validation_data_path = '/Users/JJy/Machine-Learning-Project/4_/horse-or-human/horse-or-human/validation'\n",
    "valset = torchvision.datasets.ImageFolder(root=validation_data_path, transform=transform)\n",
    "# change the valuse of batch_size, num_workers for your program\n",
    "valloader = torch.utils.data.DataLoader(valset, batch_size=1, shuffle=False, num_workers=1)  \n",
    "\n",
    "NUM_EPOCH = range(1) # my code\n",
    "\n",
    "#\n",
    "# Image size and number of data\n",
    "#\n",
    "image_size = 10000\n",
    "train_count = 1027\n",
    "validation_count = 256\n",
    "\n",
    "train_label = np.empty(train_count, dtype=float)\n",
    "train_data = np.ones((train_count, image_size), dtype=float)\n",
    "\n",
    "validation_label = np.empty(validation_count, dtype=float)\n",
    "validation_data = np.ones((validation_count, image_size), dtype=float)\n",
    "\n",
    "for epoch in (NUM_EPOCH):\n",
    "    # load training images of the batch size for every iteration\n",
    "    for i, data in enumerate(trainloader):\n",
    "\n",
    "        # inputs is the image\n",
    "        # labels is the class of the image\n",
    "        inputs, labels = data\n",
    "\n",
    "        # if you don't change the image size, it will be [batch_size, 1, 100, 100]\n",
    "        #print(inputs.shape)\n",
    "\n",
    "        # if labels is horse it returns tensor[0,0,0] else it returns tensor[1,1,1]\n",
    "        #print(labels)\n",
    "        \n",
    "        train_label[i] = int(labels)\n",
    "        train_tmp = np.asfarray(inputs)\n",
    "        train_data[i, :] = train_tmp[0, 0, :, :].reshape(10000)\n",
    "        \n",
    "    # load validation images of the batch size for every iteration\n",
    "    for i, data in enumerate(valloader):\n",
    "        \n",
    "        # inputs is the image\n",
    "        # labels is the class of the image\n",
    "        inputs, labels = data\n",
    "\n",
    "        # if you don't change the image size, it will be [batch_size, 1, 100, 100]\n",
    "        #print(inputs.shape)\n",
    "\n",
    "        # if labels is horse it returns tensor[0,0,0] else it returns tensor[1,1,1]\n",
    "        #print(labels)\n",
    "        \n",
    "        validation_label[i] = int(labels)\n",
    "        validation_tmp = np.asfarray(inputs)\n",
    "        validation_data[i, :] = validation_tmp[0, 0, :, :].reshape(10000)"
   ]
  },
  {
   "cell_type": "code",
   "execution_count": 0,
   "metadata": {
    "colab": {},
    "colab_type": "code",
    "id": "arZFuwa-NmiR"
   },
   "outputs": [],
   "source": [
    "iteration = 1000 # Max Iteration\n",
    "delta = 10**(-9)\n",
    "\n",
    "loss_arr = np.zeros(iteration, dtype=float)\n",
    "t_loss_arr = np.zeros(iteration, dtype=float)\n",
    "loss_value_arr = np.zeros(iteration, dtype=float)\n",
    "t_loss_value_arr = np.zeros(iteration, dtype=float)\n",
    "\n",
    "def sigmoid(x):\n",
    "    return 1/(1 + np.exp(-x))\n",
    "\n",
    "def loss_function(t, y):\n",
    "    return -np.sum(t*np.log(y+delta) + (1-t)*np.log(1-y+delta)) "
   ]
  },
  {
   "cell_type": "code",
   "execution_count": 0,
   "metadata": {
    "colab": {},
    "colab_type": "code",
    "id": "H-c3Azl3NmiT"
   },
   "outputs": [],
   "source": [
    "def tanh(x):\n",
    "    return (np.exp(x) - np.exp(-x)) / (np.exp(x) + np.exp(-x) + delta)\n",
    "\n",
    "def ReLU(x):\n",
    "    return np.maximum(0, x)\n",
    "\n",
    "def LeakyReLU(x):\n",
    "    return np.maximum(0.1*x, x)"
   ]
  },
  {
   "cell_type": "code",
   "execution_count": 0,
   "metadata": {
    "colab": {},
    "colab_type": "code",
    "id": "LnCs-PY1NmiV"
   },
   "outputs": [],
   "source": [
    "def ActivationFunc(FunctionName, x):\n",
    "    \n",
    "    if FunctionName == 'sigmoid':\n",
    "        return sigmoid(x)\n",
    "    elif FunctionName == 'tanh':\n",
    "        return tanh(x)\n",
    "    elif FunctionName == 'ReLU':\n",
    "        return ReLU(x)\n",
    "    elif FunctionName == 'LeakyReLU':\n",
    "        return LeakyReLU(x)"
   ]
  },
  {
   "cell_type": "code",
   "execution_count": 0,
   "metadata": {
    "colab": {},
    "colab_type": "code",
    "id": "nCPZs0feNmiX"
   },
   "outputs": [],
   "source": [
    "def d_ActivationFunc(FunctionName, x):\n",
    "    \n",
    "    if FunctionName == 'sigmoid':\n",
    "        return sigmoid(x) * (1 - sigmoid(x))\n",
    "    elif FunctionName == 'tanh':\n",
    "        return 1 - (tanh(x))**2\n",
    "    elif FunctionName == 'ReLU':\n",
    "        return 1. * (x > 0)\n",
    "    elif FunctionName == 'LeakyReLU':\n",
    "        return 1. * (x > 0) + 0.1 * (x < 0)"
   ]
  },
  {
   "cell_type": "code",
   "execution_count": 0,
   "metadata": {
    "colab": {},
    "colab_type": "code",
    "id": "PwB24bclNmiZ"
   },
   "outputs": [],
   "source": [
    "def ThreeLayerNeuralNetwork(FuncName):\n",
    "    \n",
    "    learningRate = 10**(-4) # learningRate\n",
    "    \n",
    "    uc = 100   # u\n",
    "    vc = 100   # v\n",
    "    wc = 1   # w\n",
    "\n",
    "    a = np.ones((train_count, uc), dtype=float)\n",
    "    b = np.ones((train_count, vc), dtype=float)\n",
    "    c = np.ones((train_count, wc), dtype=float)\n",
    "    h = np.ones((train_count, wc), dtype=float)\n",
    "    \n",
    "    t_a = np.ones((train_count, uc), dtype=float)\n",
    "    t_b = np.ones((train_count, vc), dtype=float)\n",
    "    t_c = np.ones((train_count, wc), dtype=float)\n",
    "    t_h = np.ones((train_count, wc), dtype=float)\n",
    "\n",
    "    u = np.random.randn(image_size, uc) / np.sqrt(image_size)\n",
    "    v = np.random.randn(uc, vc) / np.sqrt(uc)\n",
    "    w = np.random.randn(vc) / np.sqrt(vc)\n",
    "    \n",
    "    b1 = np.random.rand(uc)\n",
    "    b2 = np.random.rand(vc)\n",
    "    b3 = np.random.rand(wc)\n",
    "    \n",
    "    d_lc = np.empty(train_count, dtype=float)\n",
    "    \n",
    "    for iter in range(iteration):\n",
    "        \n",
    "        #\n",
    "        # training matrix\n",
    "        \n",
    "        a = (train_data).dot(u) + b1\n",
    "        b = (ActivationFunc(FuncName, a)).dot(v) + b2\n",
    "        c = (ActivationFunc(FuncName, b)).dot(w) + b3\n",
    "        h = sigmoid(c)\n",
    "\n",
    "        #\n",
    "        # validation matrix for loss value calculation\n",
    "        t_a = (validation_data).dot(u) #+ b1\n",
    "        t_b = (ActivationFunc(FuncName, t_a)).dot(v) #+ b2\n",
    "        t_c = (ActivationFunc(FuncName, t_b)).dot(w) #+ b3\n",
    "        t_h = sigmoid(t_c)\n",
    "\n",
    "        ## derivation\n",
    "        d_lc = h - train_label\n",
    "        \n",
    "        loss3 = d_lc * d_ActivationFunc(FuncName, c)\n",
    "        loss2 = ((loss3.reshape(train_count, 1)).dot(w.reshape(1, vc))) * (d_ActivationFunc(FuncName, b))\n",
    "        loss1 = loss2.dot(v.T) * d_ActivationFunc(FuncName, a)\n",
    "\n",
    "        w = w - learningRate * ((ActivationFunc(FuncName, b)).T).dot(loss3)\n",
    "        b3 = b3 - learningRate * loss3\n",
    "        v = v - learningRate * ((ActivationFunc(FuncName, a)).T).dot(loss2)\n",
    "        b2 = b2 - learningRate * loss2\n",
    "        u = u - learningRate * ((ActivationFunc(FuncName, train_data)).T).dot(loss1)\n",
    "        b1 = b1 - learningRate * loss1\n",
    "\n",
    "       \n",
    "        loss_value = np.sum(loss_function(train_label, h))\n",
    "        t_loss_value = np.sum(loss_function(validation_label, t_h))\n",
    "        training_loss = np.sum(np.abs(train_label- h) > 0.5)\n",
    "        testing_loss = np.sum(np.abs(validation_label- t_h) > 0.5)\n",
    "        \n",
    "        if iter % 50 == 0 or iter+1 == iteration:                           ###\n",
    "            print(\"iter =\", iter)                                               ##\n",
    "            print(\"train loss count =\", training_loss)                           ##\n",
    "            print(\"train loss value =\", loss_value / train_count)                ##\n",
    "            print(\"validation loss count =\", testing_loss)                       ##\n",
    "            print(\"validation loss value =\", t_loss_value / validation_count)   ##\n",
    "\n",
    "        loss_value_arr[iter] = loss_value\n",
    "        t_loss_value_arr[iter] = t_loss_value\n",
    "        loss_arr[iter] = training_loss\n",
    "        t_loss_arr[iter] = testing_loss\n",
    "        \n",
    "        if loss_value < 0.1:\n",
    "            break\n",
    "    \n",
    "    LossPlot(FuncName)\n",
    "    AccuracyPlot(FuncName)\n",
    "    Loss_And_Accuracy_Table(FuncName)\n",
    "            \n",
    "    return loss_value_arr, loss_arr, t_loss_value_arr, t_loss_arr"
   ]
  },
  {
   "cell_type": "code",
   "execution_count": 0,
   "metadata": {
    "colab": {},
    "colab_type": "code",
    "id": "R9L49wWCNmib"
   },
   "outputs": [],
   "source": [
    "def LossPlot(FuncName):\n",
    "    x = range(iteration)\n",
    "    y1 = loss_value_arr[x] / train_count\n",
    "    y2 = t_loss_value_arr[x] / validation_count\n",
    "\n",
    "    plt.plot(x, y1, \"BLUE\", label='$Train Data$')\n",
    "    plt.plot(x, y2, \"RED\", label='$Validation Data$')\n",
    "    plt.title(FuncName + ' Training and Validation Loss')\n",
    "    plt.xlabel('Iteration')\n",
    "    plt.ylabel('Loss')\n",
    "    plt.show()"
   ]
  },
  {
   "cell_type": "code",
   "execution_count": 0,
   "metadata": {
    "colab": {},
    "colab_type": "code",
    "id": "7QmZsFkNNmid"
   },
   "outputs": [],
   "source": [
    "def AccuracyPlot(FuncName):\n",
    "    x = range(iteration)\n",
    "    y1 = (train_count - loss_arr[x]) / train_count\n",
    "    y2 = (validation_count - t_loss_arr[x]) / validation_count\n",
    "\n",
    "    plt.plot(x, y1, \"BLUE\", label='$Train Data$')\n",
    "    plt.plot(x, y2, \"RED\", label='$Validation Data$')\n",
    "    plt.title(FuncName + ' Training and Validation Accuracy')\n",
    "    plt.xlabel('Iteration')\n",
    "    plt.ylabel('Accuracy percent')\n",
    "    plt.show()"
   ]
  },
  {
   "cell_type": "code",
   "execution_count": 0,
   "metadata": {
    "colab": {},
    "colab_type": "code",
    "id": "TVprb15sNmif"
   },
   "outputs": [],
   "source": [
    "def Loss_And_Accuracy_Table(FuncName):\n",
    "    print(FuncName + ' Loss and Accuracy Table')\n",
    "    idx1 = round(loss_value_arr[iteration - 1] / train_count, 6)\n",
    "    idx2 = str(round((train_count - loss_arr[iteration - 1]) / train_count * 100, 2)) + ' %'\n",
    "    idx3 = round(t_loss_value_arr[iteration - 1] / validation_count, 6)\n",
    "    idx4 = str(round((validation_count - t_loss_arr[iteration - 1]) / validation_count * 100, 2)) + ' %'\n",
    "\n",
    "    df = pd.DataFrame(data=np.array([[idx1, idx2], [idx3, idx4]]), index= ['Training', 'Validation'], columns=['Loss', 'Accuracy'])\n",
    "    display(df)"
   ]
  },
  {
   "cell_type": "code",
   "execution_count": 20,
   "metadata": {
    "colab": {
     "base_uri": "https://localhost:8080/",
     "height": 580
    },
    "colab_type": "code",
    "executionInfo": {
     "elapsed": 41371,
     "status": "error",
     "timestamp": 1572703600915,
     "user": {
      "displayName": "장재용",
      "photoUrl": "",
      "userId": "12796898358202218662"
     },
     "user_tz": -540
    },
    "id": "YdxLLoyONmih",
    "outputId": "0acb6802-ef53-4929-aa05-bc9d0da329b4"
   },
   "outputs": [
    {
     "name": "stdout",
     "output_type": "stream",
     "text": [
      "iter = 0\n",
      "train loss count = 500\n",
      "train loss value = 0.8369274393180413\n",
      "validation loss count = 128\n",
      "validation loss value = 0.7238207730166495\n",
      "iter = 50\n",
      "train loss count = 500\n",
      "train loss value = 0.6944833196131956\n",
      "validation loss count = 128\n",
      "validation loss value = 0.7197940306310864\n",
      "iter = 100\n",
      "train loss count = 500\n",
      "train loss value = 0.69069744845018\n",
      "validation loss count = 128\n",
      "validation loss value = 0.7118537550623294\n"
     ]
    },
    {
     "ename": "KeyboardInterrupt",
     "evalue": "ignored",
     "output_type": "error",
     "traceback": [
      "\u001b[1;31m---------------------------------------------------------------------------\u001b[0m",
      "\u001b[1;31mKeyboardInterrupt\u001b[0m                         Traceback (most recent call last)",
      "\u001b[1;32m<ipython-input-20-5ff1e6805716>\u001b[0m in \u001b[0;36m<module>\u001b[1;34m\u001b[0m\n\u001b[1;32m----> 1\u001b[1;33m \u001b[0mThreeLayerNeuralNetwork\u001b[0m\u001b[1;33m(\u001b[0m\u001b[1;34m'sigmoid'\u001b[0m\u001b[1;33m)\u001b[0m\u001b[1;33m\u001b[0m\u001b[1;33m\u001b[0m\u001b[0m\n\u001b[0m",
      "\u001b[1;32m<ipython-input-15-c0bb69ce4153>\u001b[0m in \u001b[0;36mThreeLayerNeuralNetwork\u001b[1;34m(FuncName)\u001b[0m\n\u001b[0;32m     48\u001b[0m \u001b[1;33m\u001b[0m\u001b[0m\n\u001b[0;32m     49\u001b[0m         \u001b[0mloss3\u001b[0m \u001b[1;33m=\u001b[0m \u001b[0md_lc\u001b[0m \u001b[1;33m*\u001b[0m \u001b[0md_ActivationFunc\u001b[0m\u001b[1;33m(\u001b[0m\u001b[0mFuncName\u001b[0m\u001b[1;33m,\u001b[0m \u001b[0mc\u001b[0m\u001b[1;33m)\u001b[0m\u001b[1;33m\u001b[0m\u001b[1;33m\u001b[0m\u001b[0m\n\u001b[1;32m---> 50\u001b[1;33m         \u001b[0mloss2\u001b[0m \u001b[1;33m=\u001b[0m \u001b[1;33m(\u001b[0m\u001b[1;33m(\u001b[0m\u001b[0mloss3\u001b[0m\u001b[1;33m.\u001b[0m\u001b[0mreshape\u001b[0m\u001b[1;33m(\u001b[0m\u001b[0mtrain_count\u001b[0m\u001b[1;33m,\u001b[0m \u001b[1;36m1\u001b[0m\u001b[1;33m)\u001b[0m\u001b[1;33m)\u001b[0m\u001b[1;33m.\u001b[0m\u001b[0mdot\u001b[0m\u001b[1;33m(\u001b[0m\u001b[0mw\u001b[0m\u001b[1;33m.\u001b[0m\u001b[0mreshape\u001b[0m\u001b[1;33m(\u001b[0m\u001b[1;36m1\u001b[0m\u001b[1;33m,\u001b[0m \u001b[0mvc\u001b[0m\u001b[1;33m)\u001b[0m\u001b[1;33m)\u001b[0m\u001b[1;33m)\u001b[0m \u001b[1;33m*\u001b[0m \u001b[1;33m(\u001b[0m\u001b[0md_ActivationFunc\u001b[0m\u001b[1;33m(\u001b[0m\u001b[0mFuncName\u001b[0m\u001b[1;33m,\u001b[0m \u001b[0mb\u001b[0m\u001b[1;33m)\u001b[0m\u001b[1;33m)\u001b[0m\u001b[1;33m\u001b[0m\u001b[1;33m\u001b[0m\u001b[0m\n\u001b[0m\u001b[0;32m     51\u001b[0m         \u001b[0mloss1\u001b[0m \u001b[1;33m=\u001b[0m \u001b[0mloss2\u001b[0m\u001b[1;33m.\u001b[0m\u001b[0mdot\u001b[0m\u001b[1;33m(\u001b[0m\u001b[0mv\u001b[0m\u001b[1;33m.\u001b[0m\u001b[0mT\u001b[0m\u001b[1;33m)\u001b[0m \u001b[1;33m*\u001b[0m \u001b[0md_ActivationFunc\u001b[0m\u001b[1;33m(\u001b[0m\u001b[0mFuncName\u001b[0m\u001b[1;33m,\u001b[0m \u001b[0ma\u001b[0m\u001b[1;33m)\u001b[0m\u001b[1;33m\u001b[0m\u001b[1;33m\u001b[0m\u001b[0m\n\u001b[0;32m     52\u001b[0m \u001b[1;33m\u001b[0m\u001b[0m\n",
      "\u001b[1;32m<ipython-input-14-fe4d745a9296>\u001b[0m in \u001b[0;36md_ActivationFunc\u001b[1;34m(FunctionName, x)\u001b[0m\n\u001b[0;32m      2\u001b[0m \u001b[1;33m\u001b[0m\u001b[0m\n\u001b[0;32m      3\u001b[0m     \u001b[1;32mif\u001b[0m \u001b[0mFunctionName\u001b[0m \u001b[1;33m==\u001b[0m \u001b[1;34m'sigmoid'\u001b[0m\u001b[1;33m:\u001b[0m\u001b[1;33m\u001b[0m\u001b[1;33m\u001b[0m\u001b[0m\n\u001b[1;32m----> 4\u001b[1;33m         \u001b[1;32mreturn\u001b[0m \u001b[0msigmoid\u001b[0m\u001b[1;33m(\u001b[0m\u001b[0mx\u001b[0m\u001b[1;33m)\u001b[0m \u001b[1;33m*\u001b[0m \u001b[1;33m(\u001b[0m\u001b[1;36m1\u001b[0m \u001b[1;33m-\u001b[0m \u001b[0msigmoid\u001b[0m\u001b[1;33m(\u001b[0m\u001b[0mx\u001b[0m\u001b[1;33m)\u001b[0m\u001b[1;33m)\u001b[0m\u001b[1;33m\u001b[0m\u001b[1;33m\u001b[0m\u001b[0m\n\u001b[0m\u001b[0;32m      5\u001b[0m     \u001b[1;32melif\u001b[0m \u001b[0mFunctionName\u001b[0m \u001b[1;33m==\u001b[0m \u001b[1;34m'tanh'\u001b[0m\u001b[1;33m:\u001b[0m\u001b[1;33m\u001b[0m\u001b[1;33m\u001b[0m\u001b[0m\n\u001b[0;32m      6\u001b[0m         \u001b[1;32mreturn\u001b[0m \u001b[1;36m1\u001b[0m \u001b[1;33m-\u001b[0m \u001b[1;33m(\u001b[0m\u001b[0mtanh\u001b[0m\u001b[1;33m(\u001b[0m\u001b[0mx\u001b[0m\u001b[1;33m)\u001b[0m\u001b[1;33m)\u001b[0m\u001b[1;33m**\u001b[0m\u001b[1;36m2\u001b[0m\u001b[1;33m\u001b[0m\u001b[1;33m\u001b[0m\u001b[0m\n",
      "\u001b[1;32m<ipython-input-11-588fbd517383>\u001b[0m in \u001b[0;36msigmoid\u001b[1;34m(x)\u001b[0m\n\u001b[0;32m      8\u001b[0m \u001b[1;33m\u001b[0m\u001b[0m\n\u001b[0;32m      9\u001b[0m \u001b[1;32mdef\u001b[0m \u001b[0msigmoid\u001b[0m\u001b[1;33m(\u001b[0m\u001b[0mx\u001b[0m\u001b[1;33m)\u001b[0m\u001b[1;33m:\u001b[0m\u001b[1;33m\u001b[0m\u001b[1;33m\u001b[0m\u001b[0m\n\u001b[1;32m---> 10\u001b[1;33m     \u001b[1;32mreturn\u001b[0m \u001b[1;36m1\u001b[0m\u001b[1;33m/\u001b[0m\u001b[1;33m(\u001b[0m\u001b[1;36m1\u001b[0m \u001b[1;33m+\u001b[0m \u001b[0mnp\u001b[0m\u001b[1;33m.\u001b[0m\u001b[0mexp\u001b[0m\u001b[1;33m(\u001b[0m\u001b[1;33m-\u001b[0m\u001b[0mx\u001b[0m\u001b[1;33m)\u001b[0m\u001b[1;33m)\u001b[0m\u001b[1;33m\u001b[0m\u001b[1;33m\u001b[0m\u001b[0m\n\u001b[0m\u001b[0;32m     11\u001b[0m \u001b[1;33m\u001b[0m\u001b[0m\n\u001b[0;32m     12\u001b[0m \u001b[1;32mdef\u001b[0m \u001b[0mloss_function\u001b[0m\u001b[1;33m(\u001b[0m\u001b[0mt\u001b[0m\u001b[1;33m,\u001b[0m \u001b[0my\u001b[0m\u001b[1;33m)\u001b[0m\u001b[1;33m:\u001b[0m\u001b[1;33m\u001b[0m\u001b[1;33m\u001b[0m\u001b[0m\n",
      "\u001b[1;31mKeyboardInterrupt\u001b[0m: "
     ]
    }
   ],
   "source": [
    "ThreeLayerNeuralNetwork('sigmoid')"
   ]
  },
  {
   "cell_type": "markdown",
   "metadata": {
    "colab_type": "text",
    "id": "jyf90yOKNmik"
   },
   "source": [
    "MarkDown :"
   ]
  },
  {
   "cell_type": "markdown",
   "metadata": {
    "colab_type": "text",
    "id": "7AdFe8KSNmil"
   },
   "source": [
    "| Dataset | Loss | Accuracy |\n",
    "|:--------|:--------:|--------:|\n",
    "| Training | 0.670634 | 58.71% |\n",
    "| Validation | 0.615124 | 69.53% |"
   ]
  },
  {
   "cell_type": "code",
   "execution_count": 21,
   "metadata": {
    "colab": {
     "base_uri": "https://localhost:8080/",
     "height": 457
    },
    "colab_type": "code",
    "executionInfo": {
     "elapsed": 30329,
     "status": "error",
     "timestamp": 1572703746429,
     "user": {
      "displayName": "장재용",
      "photoUrl": "",
      "userId": "12796898358202218662"
     },
     "user_tz": -540
    },
    "id": "cKhkRklINmil",
    "outputId": "88157305-e7ac-49bc-d020-e8fd97dc883a"
   },
   "outputs": [
    {
     "name": "stdout",
     "output_type": "stream",
     "text": [
      "iter = 0\n",
      "train loss count = 500\n",
      "train loss value = 0.7484239532789644\n",
      "validation loss count = 132\n",
      "validation loss value = 0.6958888468206578\n"
     ]
    },
    {
     "ename": "KeyboardInterrupt",
     "evalue": "ignored",
     "output_type": "error",
     "traceback": [
      "\u001b[1;31m---------------------------------------------------------------------------\u001b[0m",
      "\u001b[1;31mKeyboardInterrupt\u001b[0m                         Traceback (most recent call last)",
      "\u001b[1;32m<ipython-input-21-6a6fb90fd150>\u001b[0m in \u001b[0;36m<module>\u001b[1;34m\u001b[0m\n\u001b[1;32m----> 1\u001b[1;33m \u001b[0mThreeLayerNeuralNetwork\u001b[0m\u001b[1;33m(\u001b[0m\u001b[1;34m'tanh'\u001b[0m\u001b[1;33m)\u001b[0m\u001b[1;33m\u001b[0m\u001b[1;33m\u001b[0m\u001b[0m\n\u001b[0m\u001b[0;32m      2\u001b[0m \u001b[0mLossPlot\u001b[0m\u001b[1;33m(\u001b[0m\u001b[1;34m'tanh'\u001b[0m\u001b[1;33m)\u001b[0m\u001b[1;33m\u001b[0m\u001b[1;33m\u001b[0m\u001b[0m\n\u001b[0;32m      3\u001b[0m \u001b[0mAccuracyPlot\u001b[0m\u001b[1;33m(\u001b[0m\u001b[1;34m'tanh'\u001b[0m\u001b[1;33m)\u001b[0m\u001b[1;33m\u001b[0m\u001b[1;33m\u001b[0m\u001b[0m\n\u001b[0;32m      4\u001b[0m \u001b[0mLoss_And_Accuracy_Table\u001b[0m\u001b[1;33m(\u001b[0m\u001b[1;34m'tanh'\u001b[0m\u001b[1;33m)\u001b[0m\u001b[1;33m\u001b[0m\u001b[1;33m\u001b[0m\u001b[0m\n",
      "\u001b[1;32m<ipython-input-15-c0bb69ce4153>\u001b[0m in \u001b[0;36mThreeLayerNeuralNetwork\u001b[1;34m(FuncName)\u001b[0m\n\u001b[0;32m     55\u001b[0m         \u001b[0mv\u001b[0m \u001b[1;33m=\u001b[0m \u001b[0mv\u001b[0m \u001b[1;33m-\u001b[0m \u001b[0mlearningRate\u001b[0m \u001b[1;33m*\u001b[0m \u001b[1;33m(\u001b[0m\u001b[1;33m(\u001b[0m\u001b[0mActivationFunc\u001b[0m\u001b[1;33m(\u001b[0m\u001b[0mFuncName\u001b[0m\u001b[1;33m,\u001b[0m \u001b[0ma\u001b[0m\u001b[1;33m)\u001b[0m\u001b[1;33m)\u001b[0m\u001b[1;33m.\u001b[0m\u001b[0mT\u001b[0m\u001b[1;33m)\u001b[0m\u001b[1;33m.\u001b[0m\u001b[0mdot\u001b[0m\u001b[1;33m(\u001b[0m\u001b[0mloss2\u001b[0m\u001b[1;33m)\u001b[0m\u001b[1;33m\u001b[0m\u001b[1;33m\u001b[0m\u001b[0m\n\u001b[0;32m     56\u001b[0m         \u001b[0mb2\u001b[0m \u001b[1;33m=\u001b[0m \u001b[0mb2\u001b[0m \u001b[1;33m-\u001b[0m \u001b[0mlearningRate\u001b[0m \u001b[1;33m*\u001b[0m \u001b[0mloss2\u001b[0m\u001b[1;33m\u001b[0m\u001b[1;33m\u001b[0m\u001b[0m\n\u001b[1;32m---> 57\u001b[1;33m         \u001b[0mu\u001b[0m \u001b[1;33m=\u001b[0m \u001b[0mu\u001b[0m \u001b[1;33m-\u001b[0m \u001b[0mlearningRate\u001b[0m \u001b[1;33m*\u001b[0m \u001b[1;33m(\u001b[0m\u001b[1;33m(\u001b[0m\u001b[0mActivationFunc\u001b[0m\u001b[1;33m(\u001b[0m\u001b[0mFuncName\u001b[0m\u001b[1;33m,\u001b[0m \u001b[0mtrain_data\u001b[0m\u001b[1;33m)\u001b[0m\u001b[1;33m)\u001b[0m\u001b[1;33m.\u001b[0m\u001b[0mT\u001b[0m\u001b[1;33m)\u001b[0m\u001b[1;33m.\u001b[0m\u001b[0mdot\u001b[0m\u001b[1;33m(\u001b[0m\u001b[0mloss1\u001b[0m\u001b[1;33m)\u001b[0m\u001b[1;33m\u001b[0m\u001b[1;33m\u001b[0m\u001b[0m\n\u001b[0m\u001b[0;32m     58\u001b[0m         \u001b[0mb1\u001b[0m \u001b[1;33m=\u001b[0m \u001b[0mb1\u001b[0m \u001b[1;33m-\u001b[0m \u001b[0mlearningRate\u001b[0m \u001b[1;33m*\u001b[0m \u001b[0mloss1\u001b[0m\u001b[1;33m\u001b[0m\u001b[1;33m\u001b[0m\u001b[0m\n\u001b[0;32m     59\u001b[0m \u001b[1;33m\u001b[0m\u001b[0m\n",
      "\u001b[1;32m<ipython-input-13-51ec06645454>\u001b[0m in \u001b[0;36mActivationFunc\u001b[1;34m(FunctionName, x)\u001b[0m\n\u001b[0;32m      4\u001b[0m         \u001b[1;32mreturn\u001b[0m \u001b[0msigmoid\u001b[0m\u001b[1;33m(\u001b[0m\u001b[0mx\u001b[0m\u001b[1;33m)\u001b[0m\u001b[1;33m\u001b[0m\u001b[1;33m\u001b[0m\u001b[0m\n\u001b[0;32m      5\u001b[0m     \u001b[1;32melif\u001b[0m \u001b[0mFunctionName\u001b[0m \u001b[1;33m==\u001b[0m \u001b[1;34m'tanh'\u001b[0m\u001b[1;33m:\u001b[0m\u001b[1;33m\u001b[0m\u001b[1;33m\u001b[0m\u001b[0m\n\u001b[1;32m----> 6\u001b[1;33m         \u001b[1;32mreturn\u001b[0m \u001b[0mtanh\u001b[0m\u001b[1;33m(\u001b[0m\u001b[0mx\u001b[0m\u001b[1;33m)\u001b[0m\u001b[1;33m\u001b[0m\u001b[1;33m\u001b[0m\u001b[0m\n\u001b[0m\u001b[0;32m      7\u001b[0m     \u001b[1;32melif\u001b[0m \u001b[0mFunctionName\u001b[0m \u001b[1;33m==\u001b[0m \u001b[1;34m'ReLU'\u001b[0m\u001b[1;33m:\u001b[0m\u001b[1;33m\u001b[0m\u001b[1;33m\u001b[0m\u001b[0m\n\u001b[0;32m      8\u001b[0m         \u001b[1;32mreturn\u001b[0m \u001b[0mReLU\u001b[0m\u001b[1;33m(\u001b[0m\u001b[0mx\u001b[0m\u001b[1;33m)\u001b[0m\u001b[1;33m\u001b[0m\u001b[1;33m\u001b[0m\u001b[0m\n",
      "\u001b[1;32m<ipython-input-12-4c05810289f3>\u001b[0m in \u001b[0;36mtanh\u001b[1;34m(x)\u001b[0m\n\u001b[0;32m      1\u001b[0m \u001b[1;32mdef\u001b[0m \u001b[0mtanh\u001b[0m\u001b[1;33m(\u001b[0m\u001b[0mx\u001b[0m\u001b[1;33m)\u001b[0m\u001b[1;33m:\u001b[0m\u001b[1;33m\u001b[0m\u001b[1;33m\u001b[0m\u001b[0m\n\u001b[1;32m----> 2\u001b[1;33m     \u001b[1;32mreturn\u001b[0m \u001b[1;33m(\u001b[0m\u001b[0mnp\u001b[0m\u001b[1;33m.\u001b[0m\u001b[0mexp\u001b[0m\u001b[1;33m(\u001b[0m\u001b[0mx\u001b[0m\u001b[1;33m)\u001b[0m \u001b[1;33m-\u001b[0m \u001b[0mnp\u001b[0m\u001b[1;33m.\u001b[0m\u001b[0mexp\u001b[0m\u001b[1;33m(\u001b[0m\u001b[1;33m-\u001b[0m\u001b[0mx\u001b[0m\u001b[1;33m)\u001b[0m\u001b[1;33m)\u001b[0m \u001b[1;33m/\u001b[0m \u001b[1;33m(\u001b[0m\u001b[0mnp\u001b[0m\u001b[1;33m.\u001b[0m\u001b[0mexp\u001b[0m\u001b[1;33m(\u001b[0m\u001b[0mx\u001b[0m\u001b[1;33m)\u001b[0m \u001b[1;33m+\u001b[0m \u001b[0mnp\u001b[0m\u001b[1;33m.\u001b[0m\u001b[0mexp\u001b[0m\u001b[1;33m(\u001b[0m\u001b[1;33m-\u001b[0m\u001b[0mx\u001b[0m\u001b[1;33m)\u001b[0m \u001b[1;33m+\u001b[0m \u001b[0mdelta\u001b[0m\u001b[1;33m)\u001b[0m\u001b[1;33m\u001b[0m\u001b[1;33m\u001b[0m\u001b[0m\n\u001b[0m\u001b[0;32m      3\u001b[0m \u001b[1;33m\u001b[0m\u001b[0m\n\u001b[0;32m      4\u001b[0m \u001b[1;32mdef\u001b[0m \u001b[0mReLU\u001b[0m\u001b[1;33m(\u001b[0m\u001b[0mx\u001b[0m\u001b[1;33m)\u001b[0m\u001b[1;33m:\u001b[0m\u001b[1;33m\u001b[0m\u001b[1;33m\u001b[0m\u001b[0m\n\u001b[0;32m      5\u001b[0m     \u001b[1;32mreturn\u001b[0m \u001b[0mnp\u001b[0m\u001b[1;33m.\u001b[0m\u001b[0mmaximum\u001b[0m\u001b[1;33m(\u001b[0m\u001b[1;36m0\u001b[0m\u001b[1;33m,\u001b[0m \u001b[0mx\u001b[0m\u001b[1;33m)\u001b[0m\u001b[1;33m\u001b[0m\u001b[1;33m\u001b[0m\u001b[0m\n",
      "\u001b[1;31mKeyboardInterrupt\u001b[0m: "
     ]
    }
   ],
   "source": [
    "ThreeLayerNeuralNetwork('tanh')\n",
    "LossPlot('tanh')\n",
    "AccuracyPlot('tanh')\n",
    "Loss_And_Accuracy_Table('tanh')"
   ]
  },
  {
   "cell_type": "markdown",
   "metadata": {
    "colab_type": "text",
    "id": "vKQCFPqyNmin"
   },
   "source": [
    "| Dataset | Loss | Accuracy |\n",
    "|:--------|:--------:|--------:|\n",
    "| Training | 0.670634 | 58.71% |\n",
    "| Validation | 0.615124 | 69.53% |"
   ]
  },
  {
   "cell_type": "code",
   "execution_count": 0,
   "metadata": {
    "colab": {},
    "colab_type": "code",
    "id": "t0A2cHdfNmio",
    "outputId": "7f2ecaea-00b1-4e00-ae98-bed0ecc0bcee"
   },
   "outputs": [
    {
     "data": {
      "image/png": "[encoded data removed]",
      "text/plain": [
       "<Figure size 432x288 with 1 Axes>"
      ]
     },
     "metadata": {
      "needs_background": "light",
      "tags": []
     },
     "output_type": "display_data"
    },
    {
     "data": {
      "image/png": "[encoded data removed]",
      "text/plain": [
       "<Figure size 432x288 with 1 Axes>"
      ]
     },
     "metadata": {
      "needs_background": "light",
      "tags": []
     },
     "output_type": "display_data"
    },
    {
     "name": "stdout",
     "output_type": "stream",
     "text": [
      "ReLU Loss and Accuracy Table\n"
     ]
    },
    {
     "data": {
      "text/html": [
       "<div>\n",
       "<style scoped>\n",
       "    .dataframe tbody tr th:only-of-type {\n",
       "        vertical-align: middle;\n",
       "    }\n",
       "\n",
       "    .dataframe tbody tr th {\n",
       "        vertical-align: top;\n",
       "    }\n",
       "\n",
       "    .dataframe thead th {\n",
       "        text-align: right;\n",
       "    }\n",
       "</style>\n",
       "<table border=\"1\" class=\"dataframe\">\n",
       "  <thead>\n",
       "    <tr style=\"text-align: right;\">\n",
       "      <th></th>\n",
       "      <th>Loss</th>\n",
       "      <th>Accuracy</th>\n",
       "    </tr>\n",
       "  </thead>\n",
       "  <tbody>\n",
       "    <tr>\n",
       "      <th>Training</th>\n",
       "      <td>0.0</td>\n",
       "      <td>100.0 %</td>\n",
       "    </tr>\n",
       "    <tr>\n",
       "      <th>Validation</th>\n",
       "      <td>0.0</td>\n",
       "      <td>100.0 %</td>\n",
       "    </tr>\n",
       "  </tbody>\n",
       "</table>\n",
       "</div>"
      ],
      "text/plain": [
       "           Loss Accuracy\n",
       "Training    0.0  100.0 %\n",
       "Validation  0.0  100.0 %"
      ]
     },
     "metadata": {
      "tags": []
     },
     "output_type": "display_data"
    }
   ],
   "source": [
    "ThreeLayerNeuralNetwork('ReLU')\n",
    "LossPlot('ReLU')\n",
    "AccuracyPlot('ReLU')\n",
    "Loss_And_Accuracy_Table('ReLU')"
   ]
  },
  {
   "cell_type": "markdown",
   "metadata": {
    "colab_type": "text",
    "id": "9-fD2KrnNmiq"
   },
   "source": [
    "| Dataset | Loss | Accuracy |\n",
    "|:--------|:--------:|--------:|\n",
    "| Training | 0.670634 | 58.71% |\n",
    "| Validation | 0.615124 | 69.53% |"
   ]
  },
  {
   "cell_type": "code",
   "execution_count": 0,
   "metadata": {
    "colab": {},
    "colab_type": "code",
    "id": "Iv11TV_xNmir",
    "outputId": "e6e2778f-b4b1-4b1d-cf60-c4e2ab5ca8bd"
   },
   "outputs": [
    {
     "ename": "ValueError",
     "evalue": "shapes (10000,) and (10001,) not aligned: 10000 (dim 0) != 10001 (dim 0)",
     "output_type": "error",
     "traceback": [
      "\u001b[1;31m---------------------------------------------------------------------------\u001b[0m",
      "\u001b[1;31mValueError\u001b[0m                                Traceback (most recent call last)",
      "\u001b[1;32m<ipython-input-275-c4d1084ab40b>\u001b[0m in \u001b[0;36m<module>\u001b[1;34m\u001b[0m\n\u001b[1;32m----> 1\u001b[1;33m \u001b[0mThreeLayerNeuralNetwork\u001b[0m\u001b[1;33m(\u001b[0m\u001b[1;34m'LeakyReLU'\u001b[0m\u001b[1;33m)\u001b[0m\u001b[1;33m\u001b[0m\u001b[1;33m\u001b[0m\u001b[0m\n\u001b[0m\u001b[0;32m      2\u001b[0m \u001b[0mLossPlot\u001b[0m\u001b[1;33m(\u001b[0m\u001b[1;34m'LeakyReLU'\u001b[0m\u001b[1;33m)\u001b[0m\u001b[1;33m\u001b[0m\u001b[1;33m\u001b[0m\u001b[0m\n\u001b[0;32m      3\u001b[0m \u001b[0mAccuracyPlot\u001b[0m\u001b[1;33m(\u001b[0m\u001b[1;34m'LeakyReLU'\u001b[0m\u001b[1;33m)\u001b[0m\u001b[1;33m\u001b[0m\u001b[1;33m\u001b[0m\u001b[0m\n\u001b[0;32m      4\u001b[0m \u001b[0mLoss_And_Accuracy_Table\u001b[0m\u001b[1;33m(\u001b[0m\u001b[1;34m'LeakyReLU'\u001b[0m\u001b[1;33m)\u001b[0m\u001b[1;33m\u001b[0m\u001b[1;33m\u001b[0m\u001b[0m\n",
      "\u001b[1;32m<ipython-input-272-c97bfa66b5d6>\u001b[0m in \u001b[0;36mThreeLayerNeuralNetwork\u001b[1;34m(FuncName)\u001b[0m\n\u001b[0;32m     42\u001b[0m         \u001b[1;32mfor\u001b[0m \u001b[0mi\u001b[0m \u001b[1;32min\u001b[0m \u001b[0mrange\u001b[0m\u001b[1;33m(\u001b[0m\u001b[0mtrain_count\u001b[0m\u001b[1;33m)\u001b[0m\u001b[1;33m:\u001b[0m \u001b[1;31m# u * X\u001b[0m\u001b[1;33m\u001b[0m\u001b[1;33m\u001b[0m\u001b[0m\n\u001b[0;32m     43\u001b[0m             \u001b[1;32mfor\u001b[0m \u001b[0mj\u001b[0m \u001b[1;32min\u001b[0m \u001b[0mrange\u001b[0m\u001b[1;33m(\u001b[0m\u001b[0muc\u001b[0m\u001b[1;33m)\u001b[0m\u001b[1;33m:\u001b[0m\u001b[1;33m\u001b[0m\u001b[1;33m\u001b[0m\u001b[0m\n\u001b[1;32m---> 44\u001b[1;33m                 \u001b[0ma\u001b[0m\u001b[1;33m[\u001b[0m\u001b[0mi\u001b[0m\u001b[1;33m,\u001b[0m \u001b[0mj\u001b[0m\u001b[1;33m]\u001b[0m \u001b[1;33m=\u001b[0m \u001b[1;33m(\u001b[0m\u001b[0mtrain_data\u001b[0m\u001b[1;33m[\u001b[0m\u001b[0mi\u001b[0m\u001b[1;33m,\u001b[0m \u001b[1;33m:\u001b[0m\u001b[1;33m]\u001b[0m\u001b[1;33m)\u001b[0m\u001b[1;33m.\u001b[0m\u001b[0mdot\u001b[0m\u001b[1;33m(\u001b[0m\u001b[0mu\u001b[0m\u001b[1;33m[\u001b[0m\u001b[1;33m:\u001b[0m\u001b[1;33m,\u001b[0m \u001b[0mj\u001b[0m\u001b[1;33m]\u001b[0m\u001b[1;33m)\u001b[0m\u001b[1;33m\u001b[0m\u001b[1;33m\u001b[0m\u001b[0m\n\u001b[0m\u001b[0;32m     45\u001b[0m \u001b[1;33m\u001b[0m\u001b[0m\n\u001b[0;32m     46\u001b[0m         \u001b[1;32mfor\u001b[0m \u001b[0mi\u001b[0m \u001b[1;32min\u001b[0m \u001b[0mrange\u001b[0m\u001b[1;33m(\u001b[0m\u001b[0mtrain_count\u001b[0m\u001b[1;33m)\u001b[0m\u001b[1;33m:\u001b[0m \u001b[1;31m# v * ActivationFunc(a)\u001b[0m\u001b[1;33m\u001b[0m\u001b[1;33m\u001b[0m\u001b[0m\n",
      "\u001b[1;31mValueError\u001b[0m: shapes (10000,) and (10001,) not aligned: 10000 (dim 0) != 10001 (dim 0)"
     ]
    }
   ],
   "source": [
    "ThreeLayerNeuralNetwork('LeakyReLU')\n",
    "LossPlot('LeakyReLU')\n",
    "AccuracyPlot('LeakyReLU')\n",
    "Loss_And_Accuracy_Table('LeakyReLU')"
   ]
  },
  {
   "cell_type": "markdown",
   "metadata": {
    "colab_type": "text",
    "id": "uRaI8XZRNmit"
   },
   "source": [
    "| Dataset | Loss | Accuracy |\n",
    "|:--------|:--------:|--------:|\n",
    "| Training | 0.670634 | 58.71% |\n",
    "| Validation | 0.615124 | 69.53% |"
   ]
  },
  {
   "cell_type": "markdown",
   "metadata": {
    "colab_type": "text",
    "id": "K5r4RERKNmit"
   },
   "source": [
    "　"
   ]
  },
  {
   "cell_type": "markdown",
   "metadata": {
    "colab_type": "text",
    "id": "TT0ITGlwNmiu"
   },
   "source": [
    "　"
   ]
  }
 ],
 "metadata": {
  "accelerator": "GPU",
  "colab": {
   "collapsed_sections": [],
   "name": "Binary classification based on 3 layers neural network 2 final.ipynb",
   "provenance": []
  },
  "kernelspec": {
   "display_name": "Python 3",
   "language": "python",
   "name": "python3"
  },
  "language_info": {
   "codemirror_mode": {
    "name": "ipython",
    "version": 3
   },
   "file_extension": ".py",
   "mimetype": "text/x-python",
   "name": "python",
   "nbconvert_exporter": "python",
   "pygments_lexer": "ipython3",
   "version": "3.7.5"
  }
 },
 "nbformat": 4,
 "nbformat_minor": 1
}
