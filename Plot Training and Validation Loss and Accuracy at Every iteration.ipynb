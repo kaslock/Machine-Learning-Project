{
 "cells": [
  {
   "cell_type": "markdown",
   "metadata": {},
   "source": [
    "　"
   ]
  },
  {
   "cell_type": "markdown",
   "metadata": {},
   "source": [
    "$$\\ \\ \\ \\ \\ \\ \\ \\ \\ \\ \\ \\ \\ \\ \\ \\ \\ \\ \\ \\ \\ \\ \\ \\ \\ \\ \\ \\ \\ \\ \\ \\ \\ \\ \\ \\ \\ \\ \\ \\ \\ \\ \\ \\ \\ \\ \\ \\ \\ \\ \\ \\ \\ \\ \\ \\ \\ \\ \\ \\ \\ \\ \\ \\ \\ \\ \\ \\ \\ \\ \\ \\ \\ \\ \\ \\ \\ \\ \\ \\ \\ \\ \\ \\ \\ \\ \\ \\ \\ \\ \\ \\ \\ \\ \\ \\ \\ \\ \\ \\ \\ \\ \\ \\ \\ \\ \\ \\ \\ \\ \\ \\ \\ \\ \\ \\ \\ \\ \\ \\ \\ 20165549\\ \\ JANG\\ \\ JAE\\ \\ YONG$$"
   ]
  },
  {
   "cell_type": "markdown",
   "metadata": {},
   "source": [
    "　"
   ]
  },
  {
   "cell_type": "markdown",
   "metadata": {},
   "source": [
    "Build a binary classifier for human versus horse based on logistic regression using the dataset that consists of human and horse images"
   ]
  },
  {
   "cell_type": "markdown",
   "metadata": {},
   "source": [
    "　"
   ]
  },
  {
   "cell_type": "markdown",
   "metadata": {},
   "source": [
    "The dataset consists of human images and horse images for the training and the validation\n",
    "\n",
    "The classifier should be trained using the training set\n",
    "\n",
    "The classifier should be tested using the validation set"
   ]
  },
  {
   "cell_type": "code",
   "execution_count": 20,
   "metadata": {},
   "outputs": [],
   "source": [
    "import matplotlib.pyplot as plt\n",
    "import numpy as np\n",
    "\n",
    "import torch\n",
    "from torch.utils.data import Dataset, DataLoader\n",
    "import torchvision.transforms as transforms\n",
    "import torchvision\n",
    "import os\n",
    "\n",
    "import timeit\n",
    "\n",
    "transform = transforms.Compose([#transforms.Resize((256,256)),  \n",
    "                                transforms.Grayscale(),\n",
    "    # the code transforms.Graysclae() is for changing the size [3,100,100] to [1, 100, 100] (notice : [channel, height, width] )\n",
    "                                transforms.ToTensor(),])\n",
    "\n",
    "\n",
    "#train_data_path = 'relative path of training data set'\n",
    "train_data_path = 'horse-or-human/horse-or-human/train'\n",
    "trainset = torchvision.datasets.ImageFolder(root=train_data_path, transform=transform)\n",
    "# change the valuse of batch_size, num_workers for your program\n",
    "# if shuffle=True, the data reshuffled at every epoch \n",
    "trainloader = torch.utils.data.DataLoader(trainset, batch_size=1, shuffle=False, num_workers=1)  \n",
    "\n",
    "validation_data_path = 'horse-or-human/horse-or-human/validation'\n",
    "valset = torchvision.datasets.ImageFolder(root=validation_data_path, transform=transform)\n",
    "# change the valuse of batch_size, num_workers for your program\n",
    "valloader = torch.utils.data.DataLoader(valset, batch_size=1, shuffle=False, num_workers=1)  \n",
    "\n",
    "NUM_EPOCH = range(1) # my code\n",
    "\n",
    "#\n",
    "# Image size and number of data\n",
    "#\n",
    "image_size = 10000\n",
    "train_count = 1027\n",
    "validation_count = 256\n",
    "\n",
    "train_label = np.empty(train_count, dtype=float)\n",
    "train_data = np.ones((train_count, image_size + 1), dtype=float)\n",
    "\n",
    "validation_label = np.empty(validation_count, dtype=float)\n",
    "validation_data = np.ones((validation_count, image_size + 1), dtype=float)\n",
    "\n",
    "for epoch in (NUM_EPOCH):\n",
    "    # load training images of the batch size for every iteration\n",
    "    for i, data in enumerate(trainloader):\n",
    "\n",
    "        # inputs is the image\n",
    "        # labels is the class of the image\n",
    "        inputs, labels = data\n",
    "\n",
    "        # if you don't change the image size, it will be [batch_size, 1, 100, 100]\n",
    "        #print(inputs.shape)\n",
    "\n",
    "        # if labels is horse it returns tensor[0,0,0] else it returns tensor[1,1,1]\n",
    "        #print(labels)\n",
    "        \n",
    "        train_label[i] = int(labels)\n",
    "        train_tmp = np.asfarray(inputs)\n",
    "        train_data[i, :10000] = train_tmp[0, 0, :, :].reshape(10000)\n",
    "        \n",
    "    # load validation images of the batch size for every iteration\n",
    "    for i, data in enumerate(valloader):\n",
    "        \n",
    "        # inputs is the image\n",
    "        # labels is the class of the image\n",
    "        inputs, labels = data\n",
    "\n",
    "        # if you don't change the image size, it will be [batch_size, 1, 100, 100]\n",
    "        #print(inputs.shape)\n",
    "\n",
    "        # if labels is horse it returns tensor[0,0,0] else it returns tensor[1,1,1]\n",
    "        #print(labels)\n",
    "        \n",
    "        validation_label[i] = int(labels)\n",
    "        validation_tmp = np.asfarray(inputs)\n",
    "        validation_data[i, :10000] = validation_tmp[0, 0, :, :].reshape(10000)"
   ]
  },
  {
   "cell_type": "code",
   "execution_count": 21,
   "metadata": {},
   "outputs": [
    {
     "name": "stdout",
     "output_type": "stream",
     "text": [
      "iter = 0\n",
      "train loss count = 500\n",
      "train loss value = 10361.63291794603\n",
      "validation loss count = 128\n",
      "validation loss value = 2652.5780270011383\n",
      "0 iteration time = 0.2666936999994505\n",
      "iter = 1000\n",
      "train loss count = 185\n",
      "train loss value = 518.7647288721199\n",
      "validation loss count = 47\n",
      "validation loss value = 198.2042508926666\n",
      "1000 iteration time = 0.38927719999992405\n",
      "iter = 2000\n",
      "train loss count = 118\n",
      "train loss value = 283.0364509697672\n",
      "validation loss count = 53\n",
      "validation loss value = 223.15581058009266\n",
      "2000 iteration time = 0.3916592999994464\n",
      "iter = 3000\n",
      "train loss count = 73\n",
      "train loss value = 187.55118940919184\n",
      "validation loss count = 59\n",
      "validation loss value = 234.6191590434003\n",
      "3000 iteration time = 0.3475811000007525\n",
      "iter = 4000\n",
      "train loss count = 47\n",
      "train loss value = 136.4186774541487\n",
      "validation loss count = 61\n",
      "validation loss value = 243.94728923705716\n",
      "4000 iteration time = 0.4340486000000965\n"
     ]
    }
   ],
   "source": [
    "np.random.seed(1)\n",
    "\n",
    "learningRate = 10**(-5)\n",
    "delta = 10**(-9)\n",
    "\n",
    "def sigmoid(x):\n",
    "    return 1/(1 + np.exp(-x))\n",
    "\n",
    "def loss_function(t, y):\n",
    "    return -np.sum(t*np.log(y+delta) + (1-t)*np.log(1-y+delta)) \n",
    "\n",
    "iteration = 5000\n",
    "\n",
    "d = np.empty(train_count, dtype=float)\n",
    "w = np.empty(image_size + 1, dtype=float)\n",
    "\n",
    "loss_arr = np.zeros(iteration, dtype=float)\n",
    "t_loss_arr = np.zeros(iteration, dtype=float)\n",
    "loss_value_arr = np.zeros(iteration, dtype=float)\n",
    "t_loss_value_arr = np.zeros(iteration, dtype=float)\n",
    "iteration_time = np.zeros(iteration, dtype=float)\n",
    "\n",
    "for i in range(image_size + 1):\n",
    "    w[i] = np.random.rand(1)\n",
    "\n",
    "for iter in range(iteration):\n",
    "    \n",
    "    start = timeit.default_timer()\n",
    "\n",
    "    \n",
    "    for i in range(train_count):\n",
    "        d[i] = sigmoid(w[:].dot(train_data[i, :])) - train_label[i]\n",
    "\n",
    "    for i in range(image_size + 1):\n",
    "        w[i] = w[i] - learningRate * np.sum(d[:].dot(train_data[:, i]))\n",
    "   \n",
    "    loss_value = 0\n",
    "    t_loss_value = 0\n",
    "    training_loss = 0\n",
    "    testing_loss = 0\n",
    "    \n",
    "    for i in range(train_count):\n",
    "        loss_value += loss_function(train_label[i], sigmoid(w[:].dot(train_data[i, :])))\n",
    "\n",
    "        if train_label[i] == 1:\n",
    "            if sigmoid(w[:].dot(train_data[i, :])) <= 0.5: # loss count\n",
    "                training_loss += 1\n",
    "\n",
    "        else:\n",
    "            if sigmoid(w[:].dot(train_data[i, :])) > 0.5: # loss count\n",
    "                training_loss += 1\n",
    "\n",
    "    for i in range(validation_count):\n",
    "        t_loss_value += loss_function(validation_label[i], sigmoid(w[:].dot(validation_data[i, :])))\n",
    "        if validation_label[i] == 1:\n",
    "            if sigmoid(w[:].dot(validation_data[i, :])) <= 0.5: # loss count\n",
    "                testing_loss += 1\n",
    "\n",
    "        else:\n",
    "            if sigmoid(w[:].dot(validation_data[i, :])) > 0.5: # loss count\n",
    "                testing_loss += 1\n",
    "\n",
    "    if iter % 1000 == 0:\n",
    "        print(\"iter =\", iter)\n",
    "        print(\"train loss count =\", training_loss)\n",
    "        print(\"train loss value =\", loss_value)\n",
    "        print(\"validation loss count =\", testing_loss)\n",
    "        print(\"validation loss value =\", t_loss_value)\n",
    "        \n",
    "    \n",
    "    loss_value_arr[iter] = loss_value\n",
    "    t_loss_value_arr[iter] = t_loss_value\n",
    "    loss_arr[iter] = training_loss\n",
    "    t_loss_arr[iter] = testing_loss\n",
    "    \n",
    "    stop = timeit.default_timer()\n",
    "    \n",
    "    iteration_time[iter] = stop - start\n",
    "    \n",
    "    if iter % 1000 == 0:\n",
    "        print(iter, 'iteration time =', iteration_time[iter])"
   ]
  },
  {
   "cell_type": "markdown",
   "metadata": {},
   "source": [
    "　"
   ]
  },
  {
   "cell_type": "markdown",
   "metadata": {},
   "source": [
    "Plot training Loss and Accuracy"
   ]
  },
  {
   "cell_type": "code",
   "execution_count": 41,
   "metadata": {},
   "outputs": [
    {
     "data": {
      "image/png": "[encoded data removed]",
      "text/plain": [
       "<Figure size 432x288 with 1 Axes>"
      ]
     },
     "metadata": {
      "needs_background": "light"
     },
     "output_type": "display_data"
    }
   ],
   "source": [
    "x = range(iteration)\n",
    "y = loss_value_arr[x] / train_count\n",
    "\n",
    "plt.plot(x, y, \"BLUE\")\n",
    "plt.title('Training Loss')\n",
    "plt.xlabel('Iteration')\n",
    "plt.ylabel('Loss')\n",
    "plt.show()"
   ]
  },
  {
   "cell_type": "code",
   "execution_count": 34,
   "metadata": {},
   "outputs": [
    {
     "data": {
      "image/png": "[encoded data removed]",
      "text/plain": [
       "<Figure size 432x288 with 1 Axes>"
      ]
     },
     "metadata": {
      "needs_background": "light"
     },
     "output_type": "display_data"
    }
   ],
   "source": [
    "x = range(iteration)\n",
    "y = (train_count - loss_arr[x]) / train_count\n",
    "\n",
    "plt.plot(x, y, \"BLUE\")\n",
    "plt.title('Training Accuracy')\n",
    "plt.xlabel('Iteration')\n",
    "plt.ylabel('Accuracy percent')\n",
    "plt.show()"
   ]
  },
  {
   "cell_type": "markdown",
   "metadata": {},
   "source": [
    "　"
   ]
  },
  {
   "cell_type": "markdown",
   "metadata": {},
   "source": [
    "Plot Validation Loss and Accuracy"
   ]
  },
  {
   "cell_type": "code",
   "execution_count": 42,
   "metadata": {},
   "outputs": [
    {
     "data": {
      "image/png": "[encoded data removed]",
      "text/plain": [
       "<Figure size 432x288 with 1 Axes>"
      ]
     },
     "metadata": {
      "needs_background": "light"
     },
     "output_type": "display_data"
    }
   ],
   "source": [
    "x = range(iteration)\n",
    "y = t_loss_value_arr[x] / validation_count\n",
    "\n",
    "plt.plot(x, y, \"RED\")\n",
    "plt.title('Validation Loss')\n",
    "plt.xlabel('Iteration')\n",
    "plt.ylabel('Loss')\n",
    "plt.show()"
   ]
  },
  {
   "cell_type": "code",
   "execution_count": 36,
   "metadata": {},
   "outputs": [
    {
     "data": {
      "image/png": "[encoded data removed]",
      "text/plain": [
       "<Figure size 432x288 with 1 Axes>"
      ]
     },
     "metadata": {
      "needs_background": "light"
     },
     "output_type": "display_data"
    }
   ],
   "source": [
    "x = range(iteration)\n",
    "y = (validation_count - t_loss_arr[x]) / validation_count\n",
    "\n",
    "plt.plot(x, y, \"RED\")\n",
    "plt.title('Validation Accuracy')\n",
    "plt.xlabel('Iteration')\n",
    "plt.ylabel('Accuracy percent')\n",
    "plt.show()"
   ]
  },
  {
   "cell_type": "markdown",
   "metadata": {},
   "source": [
    "　"
   ]
  },
  {
   "cell_type": "markdown",
   "metadata": {},
   "source": [
    "Plot Training and Validation at every iteration"
   ]
  },
  {
   "cell_type": "code",
   "execution_count": 40,
   "metadata": {},
   "outputs": [
    {
     "data": {
      "image/png": "[encoded data removed]",
      "text/plain": [
       "<Figure size 432x288 with 1 Axes>"
      ]
     },
     "metadata": {
      "needs_background": "light"
     },
     "output_type": "display_data"
    }
   ],
   "source": [
    "x = range(iteration)\n",
    "y1 = loss_value_arr[x] / train_count\n",
    "y2 = t_loss_value_arr[x] / validation_count\n",
    "\n",
    "plt.plot(x, y1, \"BLUE\")\n",
    "plt.plot(x, y2, \"RED\")\n",
    "plt.title('Training and Validation Loss')\n",
    "plt.xlabel('Iteration')\n",
    "plt.ylabel('Loss')\n",
    "plt.show()"
   ]
  },
  {
   "cell_type": "code",
   "execution_count": 39,
   "metadata": {},
   "outputs": [
    {
     "data": {
      "image/png": "[encoded data removed]",
      "text/plain": [
       "<Figure size 432x288 with 1 Axes>"
      ]
     },
     "metadata": {
      "needs_background": "light"
     },
     "output_type": "display_data"
    }
   ],
   "source": [
    "x = range(iteration)\n",
    "y1 = (train_count - loss_arr[x]) / train_count\n",
    "y2 = (validation_count - t_loss_arr[x]) / validation_count\n",
    "\n",
    "plt.plot(x, y1, \"BLUE\")\n",
    "plt.plot(x, y2, \"RED\")\n",
    "plt.title('Training and Validation Accuracy')\n",
    "plt.xlabel('Iteration')\n",
    "plt.ylabel('Accuracy percent')\n",
    "plt.show()"
   ]
  },
  {
   "cell_type": "markdown",
   "metadata": {},
   "source": [
    "　"
   ]
  },
  {
   "cell_type": "markdown",
   "metadata": {},
   "source": [
    "Present the table for the final accuracy and loss with training and validation datasets as below:"
   ]
  },
  {
   "cell_type": "code",
   "execution_count": null,
   "metadata": {},
   "outputs": [],
   "source": []
  }
 ],
 "metadata": {
  "kernelspec": {
   "display_name": "Python 3",
   "language": "python",
   "name": "python3"
  },
  "language_info": {
   "codemirror_mode": {
    "name": "ipython",
    "version": 3
   },
   "file_extension": ".py",
   "mimetype": "text/x-python",
   "name": "python",
   "nbconvert_exporter": "python",
   "pygments_lexer": "ipython3",
   "version": "3.7.1"
  }
 },
 "nbformat": 4,
 "nbformat_minor": 2
}
