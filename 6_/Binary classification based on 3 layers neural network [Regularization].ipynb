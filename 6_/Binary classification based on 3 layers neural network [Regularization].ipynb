{
 "cells": [
  {
   "cell_type": "markdown",
   "metadata": {
    "colab_type": "text",
    "id": "gtz7sUaBNmiH"
   },
   "source": [
    "　"
   ]
  },
  {
   "cell_type": "markdown",
   "metadata": {
    "colab_type": "text",
    "id": "Rz0E4T27NmiJ"
   },
   "source": [
    "　"
   ]
  },
  {
   "cell_type": "markdown",
   "metadata": {
    "colab_type": "text",
    "id": "yoKbDp5yNmiK"
   },
   "source": [
    "$$\\ \\ \\ \\ \\ \\ \\ \\ \\ \\ \\ \\ \\ \\ \\ \\ \\ \\ \\ \\ \\ \\ \\ \\ \\ \\ \\ \\ \\ \\ \\ \\ \\ \\ \\ \\ \\ \\ \\ \\ \\ \\ \\ \\ \\ \\ \\ \\ \\ \\ \\ \\ \\ \\ \\ \\ \\ \\ \\ \\ \\ \\ \\ \\ \\ \\ \\ \\ \\ \\ \\ \\ \\ \\ \\ \\ \\ \\ \\ \\ \\ \\ \\ \\ \\ \\ \\ \\ \\ \\ \\ \\ \\ \\ \\ \\ \\ \\ \\ \\ \\ \\ \\ \\ \\ \\ \\ \\ \\ \\ \\ \\ \\ \\ \\ \\ \\ \\ \\ \\ \\ 20165549\\ \\ JANG\\ \\ JAE\\ \\ YONG$$"
   ]
  },
  {
   "cell_type": "markdown",
   "metadata": {
    "colab_type": "text",
    "id": "4spZOuiYNmiM"
   },
   "source": [
    "　"
   ]
  },
  {
   "cell_type": "markdown",
   "metadata": {
    "colab_type": "text",
    "id": "fx568JtWNmiM"
   },
   "source": [
    "Build a binary classifier based on 3 layers neural network using the human versus horse dataset"
   ]
  },
  {
   "cell_type": "markdown",
   "metadata": {
    "colab_type": "text",
    "id": "4mwZhh5INmiN"
   },
   "source": [
    " "
   ]
  },
  {
   "cell_type": "code",
   "execution_count": 1,
   "metadata": {
    "colab": {},
    "colab_type": "code",
    "id": "zK6j6ZsJNmiO"
   },
   "outputs": [],
   "source": [
    "import matplotlib.pyplot as plt\n",
    "import numpy as np\n",
    "import torch\n",
    "from torch.utils.data import Dataset, DataLoader\n",
    "import torchvision.transforms as transforms\n",
    "import torchvision\n",
    "import os\n",
    "import pandas as pd\n",
    "\n",
    "transform = transforms.Compose([#transforms.Resize((256,256)),  \n",
    "                                transforms.Grayscale(),\n",
    "    # the code transforms.Graysclae() is for changing the size [3,100,100] to [1, 100, 100]\n",
    "    # (notice : [channel, height, width] )\n",
    "                                transforms.ToTensor(),])\n",
    "\n",
    "#train_data_path = 'relative path of training data set'\n",
    "train_data_path = 'horse-or-human/horse-or-human/train'\n",
    "trainset = torchvision.datasets.ImageFolder(root=train_data_path, transform=transform)\n",
    "# change the valuse of batch_size, num_workers for your program\n",
    "# if shuffle=True, the data reshuffled at every epoch \n",
    "trainloader = torch.utils.data.DataLoader(trainset, batch_size=1, shuffle=False, num_workers=1)  \n",
    "\n",
    "validation_data_path = 'horse-or-human/horse-or-human/validation'\n",
    "valset = torchvision.datasets.ImageFolder(root=validation_data_path, transform=transform)\n",
    "# change the valuse of batch_size, num_workers for your program\n",
    "valloader = torch.utils.data.DataLoader(valset, batch_size=1, shuffle=False, num_workers=1)  \n",
    "\n",
    "NUM_EPOCH = range(1) # my code\n",
    "\n",
    "#\n",
    "# Image size and number of data\n",
    "#\n",
    "image_size = 10000\n",
    "train_count = 1027\n",
    "validation_count = 256\n",
    "\n",
    "train_label = np.empty(train_count, dtype=float)\n",
    "train_data = np.ones((train_count, image_size), dtype=float)\n",
    "\n",
    "validation_label = np.empty(validation_count, dtype=float)\n",
    "validation_data = np.ones((validation_count, image_size), dtype=float)\n",
    "\n",
    "for epoch in (NUM_EPOCH):\n",
    "    # load training images of the batch size for every iteration\n",
    "    for i, data in enumerate(trainloader):\n",
    "\n",
    "        # inputs is the image\n",
    "        # labels is the class of the image\n",
    "        inputs, labels = data\n",
    "\n",
    "        # if you don't change the image size, it will be [batch_size, 1, 100, 100]\n",
    "        #print(inputs.shape)\n",
    "\n",
    "        # if labels is horse it returns tensor[0,0,0] else it returns tensor[1,1,1]\n",
    "        #print(labels)\n",
    "        \n",
    "        train_label[i] = int(labels)\n",
    "        train_tmp = np.asfarray(inputs)\n",
    "        train_data[i, :] = train_tmp[0, 0, :, :].reshape(10000)\n",
    "        \n",
    "    # load validation images of the batch size for every iteration\n",
    "    for i, data in enumerate(valloader):\n",
    "        \n",
    "        # inputs is the image\n",
    "        # labels is the class of the image\n",
    "        inputs, labels = data\n",
    "\n",
    "        # if you don't change the image size, it will be [batch_size, 1, 100, 100]\n",
    "        #print(inputs.shape)\n",
    "\n",
    "        # if labels is horse it returns tensor[0,0,0] else it returns tensor[1,1,1]\n",
    "        #print(labels)\n",
    "        \n",
    "        validation_label[i] = int(labels)\n",
    "        validation_tmp = np.asfarray(inputs)\n",
    "        validation_data[i, :] = validation_tmp[0, 0, :, :].reshape(10000)"
   ]
  },
  {
   "cell_type": "code",
   "execution_count": 167,
   "metadata": {
    "colab": {},
    "colab_type": "code",
    "id": "arZFuwa-NmiR"
   },
   "outputs": [],
   "source": [
    "delta = 10**(-9)\n",
    "iteration = 10000 # Max Iteration\n",
    "\n",
    "tr_label = train_label.reshape(train_count, 1)\n",
    "va_label = validation_label.reshape(validation_count, 1)\n",
    "loss_arr = np.zeros(iteration, dtype=float)\n",
    "t_loss_arr = np.zeros(iteration, dtype=float)\n",
    "loss_value_arr = np.zeros(iteration, dtype=float)\n",
    "t_loss_value_arr = np.zeros(iteration, dtype=float)\n",
    "\n",
    "def sigmoid(x):\n",
    "    return 1/(1 + np.exp(-x))\n",
    "\n",
    "def loss_function(t, y):\n",
    "    return -np.mean(t*np.log(y+delta) + (1-t)*np.log(1-y+delta)) "
   ]
  },
  {
   "cell_type": "code",
   "execution_count": 158,
   "metadata": {
    "colab": {},
    "colab_type": "code",
    "id": "H-c3Azl3NmiT"
   },
   "outputs": [],
   "source": [
    "def tanh(x):\n",
    "    return (np.exp(x) - np.exp(-x)) / (np.exp(x) + np.exp(-x) + delta)\n",
    "\n",
    "def ReLU(x):\n",
    "    return np.maximum(0, x)\n",
    "\n",
    "def LeakyReLU(x):\n",
    "    return np.maximum(0.1*x, x)"
   ]
  },
  {
   "cell_type": "code",
   "execution_count": 159,
   "metadata": {
    "colab": {},
    "colab_type": "code",
    "id": "LnCs-PY1NmiV"
   },
   "outputs": [],
   "source": [
    "def ActivationFunc(FunctionName, x):\n",
    "    \n",
    "    if FunctionName == 'sigmoid':\n",
    "        return sigmoid(x)\n",
    "    elif FunctionName == 'tanh':\n",
    "        return tanh(x)\n",
    "    elif FunctionName == 'ReLU':\n",
    "        return ReLU(x)\n",
    "    elif FunctionName == 'LeakyReLU':\n",
    "        return LeakyReLU(x)"
   ]
  },
  {
   "cell_type": "code",
   "execution_count": 160,
   "metadata": {
    "colab": {},
    "colab_type": "code",
    "id": "nCPZs0feNmiX"
   },
   "outputs": [],
   "source": [
    "def d_ActivationFunc(FunctionName, x):\n",
    "    \n",
    "    if FunctionName == 'sigmoid':\n",
    "        return sigmoid(x) * (1 - sigmoid(x))\n",
    "    elif FunctionName == 'tanh':\n",
    "        return 1 - (tanh(x))**2\n",
    "    elif FunctionName == 'ReLU':\n",
    "        return 1. * (x > 0)\n",
    "    elif FunctionName == 'LeakyReLU':\n",
    "        return 1. * (x > 0) + 0.1 * (x < 0)"
   ]
  },
  {
   "cell_type": "code",
   "execution_count": 165,
   "metadata": {
    "colab": {},
    "colab_type": "code",
    "id": "PwB24bclNmiZ"
   },
   "outputs": [],
   "source": [
    "def ThreeLayerNeuralNetwork(FuncName, lambda_):\n",
    "    \n",
    "    learningRate = 8 * 10**(-4) # learningRate\n",
    "    prev_loss = 0\n",
    "    \n",
    "    uc = 50   # u\n",
    "    vc = 5   # v\n",
    "    wc = 1   # w\n",
    "    \n",
    "    a = np.ones((train_count, uc), dtype=float)\n",
    "    b = np.ones((train_count, vc), dtype=float)\n",
    "    c = np.ones((train_count, wc), dtype=float)\n",
    "    h = np.ones((train_count, wc), dtype=float)\n",
    "    \n",
    "    t_a = np.ones((validation_count, uc), dtype=float)\n",
    "    t_b = np.ones((validation_count, vc), dtype=float)\n",
    "    t_c = np.ones((validation_count, wc), dtype=float)\n",
    "    t_h = np.ones((validation_count, wc), dtype=float)\n",
    "\n",
    "    u = np.random.randn(image_size, uc) #/ np.sqrt(image_size)\n",
    "    v = np.random.randn(uc, vc) #/ np.sqrt(uc)\n",
    "    w = np.random.randn(vc, wc) #/ np.sqrt(vc)\n",
    "    \n",
    "    b1 = np.random.rand(uc)\n",
    "    b2 = np.random.rand(vc)\n",
    "    b3 = np.random.rand(wc)\n",
    "    \n",
    "    b1 *= 0.1\n",
    "    b2 *= 0.1\n",
    "    b3 *= 0.1\n",
    "    \n",
    "    d_lc = np.empty(train_count, dtype=float)\n",
    "   \n",
    "    for iter in range(iteration): # Max Iteration = 10000\n",
    "        \n",
    "        #\n",
    "        # training matrix\n",
    "        \n",
    "        a = (train_data).dot(u) + b1\n",
    "        b = (ActivationFunc(FuncName, a)).dot(v) + b2\n",
    "        c = (ActivationFunc(FuncName, b)).dot(w) + b3\n",
    "        h = sigmoid(c)\n",
    "\n",
    "        #\n",
    "        # validation matrix for loss value calculation\n",
    "        t_a = (validation_data).dot(u) + b1\n",
    "        t_b = (ActivationFunc(FuncName, t_a)).dot(v) + b2\n",
    "        t_c = (ActivationFunc(FuncName, t_b)).dot(w) + b3\n",
    "        t_h = sigmoid(t_c)\n",
    "\n",
    "        loss_value = loss_function(tr_label, h) + (1/2)*(lambda_)*(np.sum(u**2) + np.sum(v**2) + np.sum(w**2))\n",
    "        t_loss_value = loss_function(va_label, t_h) + (1/2)*(lambda_)*(np.sum(u**2) + np.sum(v**2) + np.sum(w**2))\n",
    "        training_loss = np.sum(np.abs(tr_label- h) > 0.5)\n",
    "        testing_loss = np.sum(np.abs(va_label- t_h) > 0.5)\n",
    "        \n",
    "        loss_value_arr[iter] = loss_value\n",
    "        t_loss_value_arr[iter] = t_loss_value\n",
    "        loss_arr[iter] = training_loss\n",
    "        t_loss_arr[iter] = testing_loss\n",
    "        \n",
    "        ## derivation\n",
    "        d_lc = h - tr_label\n",
    "        loss3 = d_lc * d_ActivationFunc(FuncName, c)\n",
    "        loss2 = loss3.dot(w.T) * d_ActivationFunc(FuncName, b)\n",
    "        loss1 = loss2.dot(v.T) * d_ActivationFunc(FuncName, a)\n",
    "\n",
    "        w = (1 - learningRate*lambda_) * w - learningRate * ((ActivationFunc(FuncName, b)).T).dot(loss3)\n",
    "        b3 = b3 - learningRate * np.mean(loss3, axis=0)\n",
    "        v = (1 - learningRate*lambda_) * v - learningRate * ((ActivationFunc(FuncName, a)).T).dot(loss2)\n",
    "        b2 = b2 - learningRate * np.mean(loss2, axis=0)\n",
    "        u = (1 - learningRate*lambda_) * u - learningRate * ((ActivationFunc(FuncName, train_data)).T).dot(loss1)\n",
    "        b1 = b1 - learningRate * np.mean(loss1, axis=0)\n",
    "                \n",
    "        if round(loss_value, 6) == round(prev_loss, 6): # Terminate to Iteration\n",
    "            break\n",
    "        \n",
    "        prev_loss = loss_value\n",
    "    \n",
    "    LossPlot(FuncName, iter + 1)\n",
    "    AccuracyPlot(FuncName, iter + 1)\n",
    "    Loss_And_Accuracy_Table(FuncName, iter + 1)\n",
    "    \n",
    "    return"
   ]
  },
  {
   "cell_type": "code",
   "execution_count": 153,
   "metadata": {
    "colab": {},
    "colab_type": "code",
    "id": "R9L49wWCNmib"
   },
   "outputs": [],
   "source": [
    "def LossPlot(FuncName, iteration):\n",
    "    x = range(iteration)\n",
    "    y1 = loss_value_arr[x]\n",
    "    y2 = t_loss_value_arr[x]\n",
    "\n",
    "    plt.plot(x, y1, color='b', label='$Train$')\n",
    "    plt.plot(x, y2, color='r', label='$Validation$')\n",
    "    plt.legend(loc=\"upper right\")\n",
    "    plt.title(FuncName + ' Training and Validation Loss')\n",
    "    plt.xlabel('Iteration')\n",
    "    plt.ylabel('Loss')\n",
    "    plt.show()"
   ]
  },
  {
   "cell_type": "code",
   "execution_count": 154,
   "metadata": {
    "colab": {},
    "colab_type": "code",
    "id": "7QmZsFkNNmid"
   },
   "outputs": [],
   "source": [
    "def AccuracyPlot(FuncName, iteration):\n",
    "    x = range(1, iteration)\n",
    "    y1 = (train_count - loss_arr[x]) / train_count\n",
    "    y2 = (validation_count - t_loss_arr[x]) / validation_count\n",
    "\n",
    "    plt.plot(x, y1, color='b', label='$Train$')\n",
    "    plt.plot(x, y2, color='r', label='$Validation$')\n",
    "    plt.legend(loc=\"upper left\")\n",
    "    plt.title(FuncName + ' Training and Validation Accuracy')\n",
    "    plt.xlabel('Iteration')\n",
    "    plt.ylabel('Accuracy percent')\n",
    "    plt.show()"
   ]
  },
  {
   "cell_type": "code",
   "execution_count": 155,
   "metadata": {
    "colab": {},
    "colab_type": "code",
    "id": "TVprb15sNmif"
   },
   "outputs": [],
   "source": [
    "def Loss_And_Accuracy_Table(FuncName, iteration):\n",
    "    #print(FuncName + ' Loss and Accuracy Table')\n",
    "    print()\n",
    "    idx1 = round(loss_value_arr[iteration - 1], 6)\n",
    "    idx2 = str(round((train_count - loss_arr[iteration - 1]) / train_count * 100, 10)) + ' %'\n",
    "    idx3 = round(t_loss_value_arr[iteration - 1], 6)\n",
    "    idx4 = str(round((validation_count - t_loss_arr[iteration - 1]) / validation_count * 100, 10)) + ' %'\n",
    "\n",
    "    df = pd.DataFrame(data=np.array([[idx1, idx2], [idx3, idx4]]), index= ['Training', 'Validation'], columns=['Loss', 'Accuracy'])\n",
    "    display(df)"
   ]
  },
  {
   "cell_type": "markdown",
   "metadata": {},
   "source": [
    "　"
   ]
  },
  {
   "cell_type": "markdown",
   "metadata": {},
   "source": [
    "$Variance\\ (large\\ \\lambda)\\ \\ \\ \\ \\lambda=10^{-2}\\ ({\\lambda \\over n})$"
   ]
  },
  {
   "cell_type": "code",
   "execution_count": 170,
   "metadata": {},
   "outputs": [
    {
     "data": {
      "image/png": "[encoded data removed]",
      "text/plain": [
       "<Figure size 432x288 with 1 Axes>"
      ]
     },
     "metadata": {
      "needs_background": "light"
     },
     "output_type": "display_data"
    },
    {
     "data": {
      "image/png": "[encoded data removed]",
      "text/plain": [
       "<Figure size 432x288 with 1 Axes>"
      ]
     },
     "metadata": {
      "needs_background": "light"
     },
     "output_type": "display_data"
    },
    {
     "name": "stdout",
     "output_type": "stream",
     "text": [
      "\n"
     ]
    },
    {
     "data": {
      "text/html": [
       "<div>\n",
       "<style scoped>\n",
       "    .dataframe tbody tr th:only-of-type {\n",
       "        vertical-align: middle;\n",
       "    }\n",
       "\n",
       "    .dataframe tbody tr th {\n",
       "        vertical-align: top;\n",
       "    }\n",
       "\n",
       "    .dataframe thead th {\n",
       "        text-align: right;\n",
       "    }\n",
       "</style>\n",
       "<table border=\"1\" class=\"dataframe\">\n",
       "  <thead>\n",
       "    <tr style=\"text-align: right;\">\n",
       "      <th></th>\n",
       "      <th>Loss</th>\n",
       "      <th>Accuracy</th>\n",
       "    </tr>\n",
       "  </thead>\n",
       "  <tbody>\n",
       "    <tr>\n",
       "      <th>Training</th>\n",
       "      <td>2129.047279</td>\n",
       "      <td>96.4946445959 %</td>\n",
       "    </tr>\n",
       "    <tr>\n",
       "      <th>Validation</th>\n",
       "      <td>2129.323501</td>\n",
       "      <td>84.765625 %</td>\n",
       "    </tr>\n",
       "  </tbody>\n",
       "</table>\n",
       "</div>"
      ],
      "text/plain": [
       "                   Loss         Accuracy\n",
       "Training    2129.047279  96.4946445959 %\n",
       "Validation  2129.323501      84.765625 %"
      ]
     },
     "metadata": {},
     "output_type": "display_data"
    }
   ],
   "source": [
    "np.random.seed(3)\n",
    "_lambda = 10**(-2)\n",
    "ThreeLayerNeuralNetwork('sigmoid', _lambda)"
   ]
  },
  {
   "cell_type": "markdown",
   "metadata": {
    "colab_type": "text",
    "id": "jyf90yOKNmik"
   },
   "source": [
    "MarkDown :"
   ]
  },
  {
   "cell_type": "markdown",
   "metadata": {
    "colab_type": "text",
    "id": "7AdFe8KSNmil"
   },
   "source": [
    "| Dataset | Loss | Accuracy |\n",
    "|:--------|:--------:|--------:|\n",
    "| Training | 0.444191 | 96.4946445959% |\n",
    "| Validation | 0.636015 | 84.7656250000% |"
   ]
  },
  {
   "cell_type": "markdown",
   "metadata": {},
   "source": [
    "　"
   ]
  },
  {
   "cell_type": "markdown",
   "metadata": {},
   "source": [
    "$Bias\\ (small\\ \\lambda)\\ \\ \\ \\ \\lambda=10^{-5}\\ ({\\lambda \\over n})$"
   ]
  },
  {
   "cell_type": "code",
   "execution_count": 145,
   "metadata": {},
   "outputs": [
    {
     "data": {
      "image/png": "[encoded data removed]",
      "text/plain": [
       "<Figure size 432x288 with 1 Axes>"
      ]
     },
     "metadata": {
      "needs_background": "light"
     },
     "output_type": "display_data"
    },
    {
     "data": {
      "image/png": "[encoded data removed]",
      "text/plain": [
       "<Figure size 432x288 with 1 Axes>"
      ]
     },
     "metadata": {
      "needs_background": "light"
     },
     "output_type": "display_data"
    },
    {
     "name": "stdout",
     "output_type": "stream",
     "text": [
      "\n"
     ]
    },
    {
     "data": {
      "text/html": [
       "<div>\n",
       "<style scoped>\n",
       "    .dataframe tbody tr th:only-of-type {\n",
       "        vertical-align: middle;\n",
       "    }\n",
       "\n",
       "    .dataframe tbody tr th {\n",
       "        vertical-align: top;\n",
       "    }\n",
       "\n",
       "    .dataframe thead th {\n",
       "        text-align: right;\n",
       "    }\n",
       "</style>\n",
       "<table border=\"1\" class=\"dataframe\">\n",
       "  <thead>\n",
       "    <tr style=\"text-align: right;\">\n",
       "      <th></th>\n",
       "      <th>Loss</th>\n",
       "      <th>Accuracy</th>\n",
       "    </tr>\n",
       "  </thead>\n",
       "  <tbody>\n",
       "    <tr>\n",
       "      <th>Training</th>\n",
       "      <td>2.659026</td>\n",
       "      <td>96.299902629 %</td>\n",
       "    </tr>\n",
       "    <tr>\n",
       "      <th>Validation</th>\n",
       "      <td>2.934327</td>\n",
       "      <td>83.203125 %</td>\n",
       "    </tr>\n",
       "  </tbody>\n",
       "</table>\n",
       "</div>"
      ],
      "text/plain": [
       "                Loss        Accuracy\n",
       "Training    2.659026  96.299902629 %\n",
       "Validation  2.934327     83.203125 %"
      ]
     },
     "metadata": {},
     "output_type": "display_data"
    }
   ],
   "source": [
    "np.random.seed(3)\n",
    "_lambda = 10**(-5) # lambda\n",
    "ThreeLayerNeuralNetwork('sigmoid', _lambda)"
   ]
  },
  {
   "cell_type": "markdown",
   "metadata": {
    "colab_type": "text",
    "id": "jyf90yOKNmik"
   },
   "source": [
    "MarkDown :"
   ]
  },
  {
   "cell_type": "markdown",
   "metadata": {
    "colab_type": "text",
    "id": "7AdFe8KSNmil"
   },
   "source": [
    "| Dataset | Loss | Accuracy |\n",
    "|:--------|:--------:|--------:|\n",
    "| Training | 2.659026 | 96.2999026290% |\n",
    "| Validation | 2.934327 | 83.2031250000% |"
   ]
  },
  {
   "cell_type": "markdown",
   "metadata": {},
   "source": [
    "　"
   ]
  },
  {
   "cell_type": "markdown",
   "metadata": {},
   "source": [
    "$Best\\ Generalization\\ (appropriate\\ \\lambda)\\ \\ \\ \\ \\lambda=10^{-3}$"
   ]
  },
  {
   "cell_type": "code",
   "execution_count": 122,
   "metadata": {},
   "outputs": [
    {
     "data": {
      "image/png": "[encoded data removed]",
      "text/plain": [
       "<Figure size 432x288 with 1 Axes>"
      ]
     },
     "metadata": {
      "needs_background": "light"
     },
     "output_type": "display_data"
    },
    {
     "data": {
      "image/png": "[encoded data removed]",
      "text/plain": [
       "<Figure size 432x288 with 1 Axes>"
      ]
     },
     "metadata": {
      "needs_background": "light"
     },
     "output_type": "display_data"
    },
    {
     "name": "stdout",
     "output_type": "stream",
     "text": [
      "\n"
     ]
    },
    {
     "data": {
      "text/html": [
       "<div>\n",
       "<style scoped>\n",
       "    .dataframe tbody tr th:only-of-type {\n",
       "        vertical-align: middle;\n",
       "    }\n",
       "\n",
       "    .dataframe tbody tr th {\n",
       "        vertical-align: top;\n",
       "    }\n",
       "\n",
       "    .dataframe thead th {\n",
       "        text-align: right;\n",
       "    }\n",
       "</style>\n",
       "<table border=\"1\" class=\"dataframe\">\n",
       "  <thead>\n",
       "    <tr style=\"text-align: right;\">\n",
       "      <th></th>\n",
       "      <th>Loss</th>\n",
       "      <th>Accuracy</th>\n",
       "    </tr>\n",
       "  </thead>\n",
       "  <tbody>\n",
       "    <tr>\n",
       "      <th>Training</th>\n",
       "      <td>247.500688</td>\n",
       "      <td>95.33 %</td>\n",
       "    </tr>\n",
       "    <tr>\n",
       "      <th>Validation</th>\n",
       "      <td>247.692399</td>\n",
       "      <td>85.16 %</td>\n",
       "    </tr>\n",
       "  </tbody>\n",
       "</table>\n",
       "</div>"
      ],
      "text/plain": [
       "                  Loss Accuracy\n",
       "Training    247.500688  95.33 %\n",
       "Validation  247.692399  85.16 %"
      ]
     },
     "metadata": {},
     "output_type": "display_data"
    }
   ],
   "source": [
    "np.random.seed(3)\n",
    "_lambda = 10**(-3) # lambda\n",
    "ThreeLayerNeuralNetwork('sigmoid', _lambda)"
   ]
  },
  {
   "cell_type": "markdown",
   "metadata": {
    "colab_type": "text",
    "id": "jyf90yOKNmik"
   },
   "source": [
    "MarkDown :"
   ]
  },
  {
   "cell_type": "markdown",
   "metadata": {
    "colab_type": "text",
    "id": "7AdFe8KSNmil"
   },
   "source": [
    "| Dataset | Loss | Accuracy |\n",
    "|:--------|:--------:|--------:|\n",
    "| Training | 247.500688 | 95.3300000000% |\n",
    "| Validation | 247.692399 | 85.1600000000% |"
   ]
  },
  {
   "cell_type": "markdown",
   "metadata": {
    "colab_type": "text",
    "id": "TT0ITGlwNmiu"
   },
   "source": [
    "　"
   ]
  }
 ],
 "metadata": {
  "accelerator": "GPU",
  "colab": {
   "collapsed_sections": [],
   "name": "Binary classification based on 3 layers neural network 2 final.ipynb",
   "provenance": []
  },
  "kernelspec": {
   "display_name": "Python 3",
   "language": "python",
   "name": "python3"
  },
  "language_info": {
   "codemirror_mode": {
    "name": "ipython",
    "version": 3
   },
   "file_extension": ".py",
   "mimetype": "text/x-python",
   "name": "python",
   "nbconvert_exporter": "python",
   "pygments_lexer": "ipython3",
   "version": "3.7.5"
  }
 },
 "nbformat": 4,
 "nbformat_minor": 1
}
