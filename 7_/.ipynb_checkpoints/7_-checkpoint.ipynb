{
 "cells": [
  {
   "cell_type": "markdown",
   "metadata": {
    "colab_type": "text",
    "id": "gtz7sUaBNmiH"
   },
   "source": [
    "　"
   ]
  },
  {
   "cell_type": "markdown",
   "metadata": {
    "colab_type": "text",
    "id": "Rz0E4T27NmiJ"
   },
   "source": [
    "　"
   ]
  },
  {
   "cell_type": "markdown",
   "metadata": {
    "colab_type": "text",
    "id": "yoKbDp5yNmiK"
   },
   "source": [
    "$$\\ \\ \\ \\ \\ \\ \\ \\ \\ \\ \\ \\ \\ \\ \\ \\ \\ \\ \\ \\ \\ \\ \\ \\ \\ \\ \\ \\ \\ \\ \\ \\ \\ \\ \\ \\ \\ \\ \\ \\ \\ \\ \\ \\ \\ \\ \\ \\ \\ \\ \\ \\ \\ \\ \\ \\ \\ \\ \\ \\ \\ \\ \\ \\ \\ \\ \\ \\ \\ \\ \\ \\ \\ \\ \\ \\ \\ \\ \\ \\ \\ \\ \\ \\ \\ \\ \\ \\ \\ \\ \\ \\ \\ \\ \\ \\ \\ \\ \\ \\ \\ \\ \\ \\ \\ \\ \\ \\ \\ \\ \\ \\ \\ \\ \\ \\ \\ \\ \\ \\ \\ 20165549\\ \\ JANG\\ \\ JAE\\ \\ YONG$$"
   ]
  },
  {
   "cell_type": "markdown",
   "metadata": {
    "colab_type": "text",
    "id": "4spZOuiYNmiM"
   },
   "source": [
    "　"
   ]
  },
  {
   "cell_type": "markdown",
   "metadata": {
    "colab_type": "text",
    "id": "fx568JtWNmiM"
   },
   "source": [
    "Build a binary classifier based on 3 layers neural network using the human versus horse dataset"
   ]
  },
  {
   "cell_type": "markdown",
   "metadata": {
    "colab_type": "text",
    "id": "4mwZhh5INmiN"
   },
   "source": [
    " "
   ]
  },
  {
   "cell_type": "code",
   "execution_count": 1,
   "metadata": {},
   "outputs": [],
   "source": [
    "import torch.nn as nn\n",
    "import torch.nn.functional as F\n",
    "import math\n",
    "\n",
    "import pandas as pd\n",
    "import seaborn as sns\n",
    "\n",
    "class Linear(nn.Module):\n",
    "\n",
    "    def __init__(self, num_classes=2):\n",
    "\n",
    "        super(Linear, self).__init__()\n",
    "\n",
    "        self.number_class   = num_classes\n",
    "\n",
    "        _size_image     = 100*100\n",
    "        _num1           = 50\n",
    "        _num2           = 20\n",
    "        \n",
    "        self.fc1        = nn.Linear(_size_image, _num1, bias=True)\n",
    "        self.fc2        = nn.Linear(_num1, _num2, bias=True)\n",
    "        self.fc3        = nn.Linear(_num2, num_classes, bias=True)\n",
    "\n",
    "        self.fc_layer1  = nn.Sequential(self.fc1, nn.ReLU(True))\n",
    "        self.fc_layer2  = nn.Sequential(self.fc2, nn.ReLU(True))\n",
    "        self.fc_layer3  = nn.Sequential(self.fc3, nn.Sigmoid())\n",
    "        \n",
    "        self.classifier = nn.Sequential(self.fc_layer1, self.fc_layer2, self.fc_layer3)\n",
    "        \n",
    "        self._initialize_weight()        \n",
    "        \n",
    "    def _initialize_weight(self):\n",
    "\n",
    "        for m in self.modules():\n",
    "            n1 = m.fc1.in_features\n",
    "            m.fc1.weight.data.uniform_(- 1.0 / math.sqrt(n1/2), 1.0 / math.sqrt(n1/2))\n",
    "            n2 = m.fc2.in_features\n",
    "            m.fc2.weight.data.uniform_(- 1.0 / math.sqrt(n2/2), 1.0 / math.sqrt(n2/2))\n",
    "            n3 = m.fc3.in_features\n",
    "            m.fc3.weight.data.uniform_(- 1.0 / math.sqrt(n3), 1.0 / math.sqrt(n3))\n",
    "            \n",
    "            if m.fc1.bias is not None:\n",
    "                m.fc1.bias.data.zero_()\n",
    "            if m.fc2.bias is not None:\n",
    "                m.fc2.bias.data.zero_()\n",
    "            if m.fc3.bias is not None:\n",
    "                m.fc3.bias.data.zero_()\n",
    "\n",
    "            break\n",
    "            \n",
    "#         for m in self.modules():\n",
    "#             n = m.in_features\n",
    "#             m.weight.data.uniform_(- 1.0 / math.sqrt(n), 1.0 / math.sqrt(n))\n",
    "\n",
    "#             if m.bias is not None:\n",
    "\n",
    "#                 m.bias.data.zero_()\n",
    "\n",
    "    def forward(self, x):\n",
    "\n",
    "        x = x.view(x.size(0), -1)\n",
    "        x = self.classifier(x)\n",
    "\n",
    "        return x\n"
   ]
  },
  {
   "cell_type": "code",
   "execution_count": 14,
   "metadata": {},
   "outputs": [
    {
     "name": "stdout",
     "output_type": "stream",
     "text": [
      "[epoch 0] loss: (training) 0.035778, (testing) 0.034997, accuracy: (training) 53.6514, (testing) 50.0\n",
      "[epoch 1] loss: (training) 0.035642, (testing) 0.034936, accuracy: (training) 51.4119, (testing) 50.0\n",
      "[epoch 2] loss: (training) 0.035509, (testing) 0.034846, accuracy: (training) 51.5093, (testing) 50.0\n",
      "[epoch 3] loss: (training) 0.035442, (testing) 0.034715, accuracy: (training) 51.6066, (testing) 50.0\n",
      "[epoch 4] loss: (training) 0.035276, (testing) 0.034638, accuracy: (training) 52.0935, (testing) 50.0\n",
      "[epoch 5] loss: (training) 0.035285, (testing) 0.034509, accuracy: (training) 52.3856, (testing) 50.0\n",
      "[epoch 6] loss: (training) 0.035221, (testing) 0.034356, accuracy: (training) 52.483, (testing) 50.0\n",
      "[epoch 7] loss: (training) 0.035094, (testing) 0.034239, accuracy: (training) 53.6514, (testing) 50.0\n",
      "[epoch 8] loss: (training) 0.035097, (testing) 0.034082, accuracy: (training) 54.0409, (testing) 50.390625\n",
      "[epoch 9] loss: (training) 0.03501, (testing) 0.033956, accuracy: (training) 55.0146, (testing) 50.78125\n",
      "[epoch 10] loss: (training) 0.034826, (testing) 0.033843, accuracy: (training) 55.3067, (testing) 50.78125\n",
      "[epoch 11] loss: (training) 0.034723, (testing) 0.033757, accuracy: (training) 55.9883, (testing) 50.78125\n",
      "[epoch 12] loss: (training) 0.03477, (testing) 0.033416, accuracy: (training) 56.0857, (testing) 57.8125\n",
      "[epoch 13] loss: (training) 0.034533, (testing) 0.033276, accuracy: (training) 58.8121, (testing) 56.640625\n",
      "[epoch 14] loss: (training) 0.034554, (testing) 0.033051, accuracy: (training) 59.0068, (testing) 62.5\n",
      "[epoch 15] loss: (training) 0.034374, (testing) 0.032842, accuracy: (training) 60.37, (testing) 69.140625\n",
      "[epoch 16] loss: (training) 0.034299, (testing) 0.032644, accuracy: (training) 61.149, (testing) 72.65625\n",
      "[epoch 17] loss: (training) 0.034243, (testing) 0.032439, accuracy: (training) 62.8043, (testing) 73.828125\n",
      "[epoch 18] loss: (training) 0.034036, (testing) 0.032169, accuracy: (training) 62.0253, (testing) 81.640625\n",
      "[epoch 19] loss: (training) 0.03392, (testing) 0.032012, accuracy: (training) 65.4333, (testing) 75.0\n",
      "[epoch 20] loss: (training) 0.03393, (testing) 0.031722, accuracy: (training) 66.1149, (testing) 81.640625\n",
      "[epoch 21] loss: (training) 0.033598, (testing) 0.031467, accuracy: (training) 66.407, (testing) 82.421875\n",
      "[epoch 22] loss: (training) 0.033559, (testing) 0.031184, accuracy: (training) 68.3544, (testing) 84.375\n",
      "[epoch 23] loss: (training) 0.033415, (testing) 0.030886, accuracy: (training) 68.2571, (testing) 86.328125\n",
      "[epoch 24] loss: (training) 0.033278, (testing) 0.03058, accuracy: (training) 69.4255, (testing) 87.109375\n",
      "[epoch 25] loss: (training) 0.033176, (testing) 0.030299, accuracy: (training) 72.1519, (testing) 86.328125\n",
      "[epoch 26] loss: (training) 0.032927, (testing) 0.030002, accuracy: (training) 71.0808, (testing) 88.28125\n",
      "[epoch 27] loss: (training) 0.032694, (testing) 0.029675, accuracy: (training) 72.8335, (testing) 85.9375\n",
      "[epoch 28] loss: (training) 0.032605, (testing) 0.029357, accuracy: (training) 72.7361, (testing) 87.5\n",
      "[epoch 29] loss: (training) 0.032357, (testing) 0.029049, accuracy: (training) 72.9309, (testing) 87.5\n",
      "[epoch 30] loss: (training) 0.032275, (testing) 0.028752, accuracy: (training) 72.444, (testing) 88.28125\n",
      "[epoch 31] loss: (training) 0.032175, (testing) 0.02882, accuracy: (training) 73.223, (testing) 85.9375\n",
      "[epoch 32] loss: (training) 0.031853, (testing) 0.028556, accuracy: (training) 74.0019, (testing) 85.9375\n",
      "[epoch 33] loss: (training) 0.032004, (testing) 0.02783, accuracy: (training) 74.0019, (testing) 88.28125\n",
      "[epoch 34] loss: (training) 0.031712, (testing) 0.027576, accuracy: (training) 74.1967, (testing) 88.28125\n",
      "[epoch 35] loss: (training) 0.031616, (testing) 0.027456, accuracy: (training) 74.6835, (testing) 86.71875\n",
      "[epoch 36] loss: (training) 0.031128, (testing) 0.027595, accuracy: (training) 74.0993, (testing) 86.328125\n",
      "[epoch 37] loss: (training) 0.030832, (testing) 0.026669, accuracy: (training) 75.073, (testing) 87.890625\n",
      "[epoch 38] loss: (training) 0.030804, (testing) 0.026585, accuracy: (training) 74.7809, (testing) 86.71875\n",
      "[epoch 39] loss: (training) 0.030543, (testing) 0.026314, accuracy: (training) 75.7546, (testing) 87.109375\n",
      "[epoch 40] loss: (training) 0.030341, (testing) 0.026979, accuracy: (training) 75.7546, (testing) 84.765625\n",
      "[epoch 41] loss: (training) 0.030293, (testing) 0.02611, accuracy: (training) 76.5336, (testing) 86.328125\n",
      "[epoch 42] loss: (training) 0.030191, (testing) 0.025907, accuracy: (training) 75.1704, (testing) 86.328125\n",
      "[epoch 43] loss: (training) 0.029875, (testing) 0.026631, accuracy: (training) 76.9231, (testing) 83.984375\n",
      "[epoch 44] loss: (training) 0.029935, (testing) 0.025098, accuracy: (training) 76.2415, (testing) 88.671875\n",
      "[epoch 45] loss: (training) 0.029729, (testing) 0.025938, accuracy: (training) 76.4362, (testing) 85.9375\n",
      "[epoch 46] loss: (training) 0.029965, (testing) 0.025719, accuracy: (training) 76.4362, (testing) 86.328125\n",
      "[epoch 47] loss: (training) 0.029598, (testing) 0.024654, accuracy: (training) 77.3126, (testing) 87.5\n",
      "[epoch 48] loss: (training) 0.029312, (testing) 0.025186, accuracy: (training) 77.4099, (testing) 86.328125\n",
      "[epoch 49] loss: (training) 0.029088, (testing) 0.024705, accuracy: (training) 77.9942, (testing) 87.109375\n",
      "[epoch 50] loss: (training) 0.029013, (testing) 0.024751, accuracy: (training) 77.4099, (testing) 86.328125\n",
      "[epoch 51] loss: (training) 0.029048, (testing) 0.024517, accuracy: (training) 77.4099, (testing) 87.109375\n",
      "[epoch 52] loss: (training) 0.029165, (testing) 0.024607, accuracy: (training) 78.2863, (testing) 86.328125\n",
      "[epoch 53] loss: (training) 0.028782, (testing) 0.024251, accuracy: (training) 77.9942, (testing) 86.328125\n",
      "[epoch 54] loss: (training) 0.028598, (testing) 0.025061, accuracy: (training) 78.0915, (testing) 86.328125\n",
      "[epoch 55] loss: (training) 0.028938, (testing) 0.024446, accuracy: (training) 77.8968, (testing) 86.328125\n",
      "[epoch 56] loss: (training) 0.028746, (testing) 0.024427, accuracy: (training) 78.5784, (testing) 86.328125\n",
      "[epoch 57] loss: (training) 0.028979, (testing) 0.024403, accuracy: (training) 78.6758, (testing) 86.71875\n",
      "[epoch 58] loss: (training) 0.029319, (testing) 0.024095, accuracy: (training) 78.481, (testing) 87.109375\n",
      "[epoch 59] loss: (training) 0.028598, (testing) 0.023981, accuracy: (training) 78.481, (testing) 86.328125\n",
      "[epoch 60] loss: (training) 0.028386, (testing) 0.023956, accuracy: (training) 78.481, (testing) 86.328125\n",
      "[epoch 61] loss: (training) 0.028558, (testing) 0.02432, accuracy: (training) 78.9679, (testing) 85.9375\n",
      "[epoch 62] loss: (training) 0.028298, (testing) 0.024268, accuracy: (training) 79.4547, (testing) 85.9375\n",
      "[epoch 63] loss: (training) 0.028539, (testing) 0.023787, accuracy: (training) 79.0652, (testing) 86.328125\n",
      "[epoch 64] loss: (training) 0.028468, (testing) 0.02402, accuracy: (training) 78.9679, (testing) 86.71875\n",
      "[epoch 65] loss: (training) 0.028437, (testing) 0.0242, accuracy: (training) 78.9679, (testing) 86.328125\n",
      "[epoch 66] loss: (training) 0.02819, (testing) 0.023867, accuracy: (training) 79.8442, (testing) 87.109375\n",
      "[epoch 67] loss: (training) 0.027966, (testing) 0.023504, accuracy: (training) 79.26, (testing) 87.5\n",
      "[epoch 68] loss: (training) 0.028131, (testing) 0.024649, accuracy: (training) 79.1626, (testing) 85.9375\n",
      "[epoch 69] loss: (training) 0.028144, (testing) 0.023661, accuracy: (training) 79.3574, (testing) 87.109375\n",
      "[epoch 70] loss: (training) 0.028158, (testing) 0.023842, accuracy: (training) 79.1626, (testing) 86.71875\n",
      "[epoch 71] loss: (training) 0.02809, (testing) 0.023434, accuracy: (training) 79.9416, (testing) 86.71875\n",
      "[epoch 72] loss: (training) 0.028018, (testing) 0.023684, accuracy: (training) 79.26, (testing) 87.109375\n",
      "[epoch 73] loss: (training) 0.028033, (testing) 0.023798, accuracy: (training) 79.6495, (testing) 87.109375\n",
      "[epoch 74] loss: (training) 0.027874, (testing) 0.023816, accuracy: (training) 80.2337, (testing) 87.109375\n",
      "[epoch 75] loss: (training) 0.028352, (testing) 0.023827, accuracy: (training) 79.6495, (testing) 86.71875\n",
      "[epoch 76] loss: (training) 0.028002, (testing) 0.023935, accuracy: (training) 79.7468, (testing) 86.71875\n"
     ]
    },
    {
     "name": "stdout",
     "output_type": "stream",
     "text": [
      "[epoch 77] loss: (training) 0.027729, (testing) 0.023635, accuracy: (training) 80.3311, (testing) 87.890625\n",
      "[epoch 78] loss: (training) 0.027671, (testing) 0.023368, accuracy: (training) 79.8442, (testing) 87.109375\n",
      "[epoch 79] loss: (training) 0.027627, (testing) 0.023482, accuracy: (training) 80.2337, (testing) 87.109375\n",
      "[epoch 80] loss: (training) 0.027888, (testing) 0.023692, accuracy: (training) 80.6232, (testing) 86.71875\n",
      "[epoch 81] loss: (training) 0.027656, (testing) 0.023455, accuracy: (training) 80.4284, (testing) 87.109375\n",
      "[epoch 82] loss: (training) 0.027384, (testing) 0.023773, accuracy: (training) 80.2337, (testing) 86.71875\n",
      "[epoch 83] loss: (training) 0.027278, (testing) 0.02373, accuracy: (training) 81.11, (testing) 86.71875\n",
      "[epoch 84] loss: (training) 0.027363, (testing) 0.022994, accuracy: (training) 81.3048, (testing) 87.109375\n",
      "[epoch 85] loss: (training) 0.027318, (testing) 0.023294, accuracy: (training) 80.9153, (testing) 87.109375\n",
      "[epoch 86] loss: (training) 0.027952, (testing) 0.023555, accuracy: (training) 81.5969, (testing) 87.5\n",
      "[epoch 87] loss: (training) 0.027197, (testing) 0.022934, accuracy: (training) 81.11, (testing) 87.109375\n",
      "[epoch 88] loss: (training) 0.027238, (testing) 0.02279, accuracy: (training) 80.7205, (testing) 87.5\n",
      "[epoch 89] loss: (training) 0.027112, (testing) 0.023685, accuracy: (training) 81.889, (testing) 86.71875\n",
      "[epoch 90] loss: (training) 0.027337, (testing) 0.023928, accuracy: (training) 80.8179, (testing) 86.328125\n",
      "[epoch 91] loss: (training) 0.027168, (testing) 0.023553, accuracy: (training) 81.3048, (testing) 86.71875\n",
      "[epoch 92] loss: (training) 0.02741, (testing) 0.023258, accuracy: (training) 81.7916, (testing) 87.890625\n",
      "[epoch 93] loss: (training) 0.027512, (testing) 0.023025, accuracy: (training) 81.4995, (testing) 87.109375\n",
      "[epoch 94] loss: (training) 0.026971, (testing) 0.022721, accuracy: (training) 81.6943, (testing) 87.5\n",
      "[epoch 95] loss: (training) 0.026775, (testing) 0.023937, accuracy: (training) 82.4732, (testing) 85.15625\n",
      "[epoch 96] loss: (training) 0.027019, (testing) 0.023084, accuracy: (training) 81.6943, (testing) 87.890625\n",
      "[epoch 97] loss: (training) 0.027131, (testing) 0.023696, accuracy: (training) 81.4995, (testing) 85.9375\n",
      "[epoch 98] loss: (training) 0.026944, (testing) 0.023076, accuracy: (training) 82.1811, (testing) 87.890625\n",
      "[epoch 99] loss: (training) 0.026908, (testing) 0.023214, accuracy: (training) 82.0837, (testing) 88.28125\n"
     ]
    }
   ],
   "source": [
    "# -----------------------------------------------------------------------------\n",
    "# import packages\n",
    "# -----------------------------------------------------------------------------\n",
    "from __future__ import print_function\n",
    "\n",
    "import torch\n",
    "import torch.nn as nn\n",
    "import torch.nn.functional as F\n",
    "import torch.optim as optim\n",
    "import torch.backends.cudnn as cudnn\n",
    "import argparse\n",
    "import sys\n",
    "import os\n",
    "import numpy as np\n",
    "import time\n",
    "import datetime \n",
    "import csv\n",
    "import configparser\n",
    "import argparse\n",
    "import platform\n",
    "\n",
    "from torchvision import datasets, transforms\n",
    "from torch.autograd import Variable\n",
    "from random import shuffle\n",
    "\n",
    "# -----------------------------------------------------------------------------\n",
    "# load dataset\n",
    "# -----------------------------------------------------------------------------\n",
    "\n",
    "import matplotlib.pyplot as plt\n",
    "from torch.utils.data import Dataset, DataLoader\n",
    "import torchvision.transforms as transforms\n",
    "import torchvision\n",
    "\n",
    "transform = transforms.Compose([#transforms.Resize((256,256)),  \n",
    "                                transforms.Grayscale(),\n",
    "    # the code transforms.Graysclae() is for changing the size [3,100,100] to [1, 100, 100]\n",
    "    # (notice : [channel, height, width] )\n",
    "                                transforms.ToTensor(),])\n",
    "\n",
    "#train_data_path = 'relative path of train data set'\n",
    "train_data_path = 'horse-or-human/horse-or-human/train'\n",
    "trainset = torchvision.datasets.ImageFolder(root=train_data_path, transform=transform)\n",
    "trainloader = torch.utils.data.DataLoader(trainset, batch_size=20, shuffle=True, num_workers=1)  \n",
    "\n",
    "#validation_data_path = 'relative path of validation data set'\n",
    "validation_data_path = 'horse-or-human/horse-or-human/validation'\n",
    "valset = torchvision.datasets.ImageFolder(root=validation_data_path, transform=transform)\n",
    "valloader = torch.utils.data.DataLoader(valset, batch_size=20, shuffle=False, num_workers=1)  \n",
    "\n",
    "set_train   = trainloader\n",
    "set_test    = valloader\n",
    "\n",
    "num_classes = 2\n",
    "learningRate = 0.003\n",
    "\n",
    "# -----------------------------------------------------------------------------\n",
    "# load neural network model\n",
    "# -----------------------------------------------------------------------------\n",
    "\n",
    "# from Linear import *\n",
    "model = Linear(num_classes=num_classes)\n",
    "\n",
    "# -----------------------------------------------------------------------------\n",
    "# Set the flag for using cuda\n",
    "# -----------------------------------------------------------------------------\n",
    "\n",
    "bCuda = 1\n",
    "\n",
    "if bCuda:\n",
    " \n",
    "    model.cuda()\n",
    "\n",
    "# -----------------------------------------------------------------------------\n",
    "# optimization algorithm\n",
    "# -----------------------------------------------------------------------------\n",
    "\n",
    "optimizer   = optim.SGD(model.parameters(), lr=learningRate, weight_decay = 4*1e-2)\n",
    "objective   = nn.CrossEntropyLoss()\n",
    "\n",
    "# -----------------------------------------------------------------------------\n",
    "# function for training the model\n",
    "# -----------------------------------------------------------------------------\n",
    "\n",
    "def train():\n",
    "\n",
    "    loader_train = set_train\n",
    "    # print('train the model at given epoch')\n",
    "\n",
    "    loss_train          = []\n",
    "    correct         = 0\n",
    "    model.train()\n",
    "   \n",
    "    for idx_batch, (data, target) in enumerate(loader_train):\n",
    "       \n",
    "        if bCuda:      \n",
    "            data, target    = data.cuda(), target.cuda()\n",
    "\n",
    "        data, target    = Variable(data), Variable(target)\n",
    "\n",
    "        optimizer.zero_grad()\n",
    "\n",
    "        output  = model(data)\n",
    "        loss    = objective(output, target)\n",
    "\n",
    "        loss.backward()\n",
    "        optimizer.step()\n",
    "\n",
    "        loss_train_batch    = loss.item() / len(data)\n",
    "        loss_train.append(loss_train_batch)\n",
    "        \n",
    "        pred = output.data.max(1)[1]\n",
    "        correct += pred.eq(target.data.view_as(pred)).cpu().sum()\n",
    "        \n",
    "    loss_train_mean     = np.mean(loss_train)\n",
    "    loss_train_std      = np.std(loss_train)\n",
    "    accuracy_train   = 100. * float(correct) / len(loader_train.dataset)\n",
    "\n",
    "    return {'loss_train_mean': loss_train_mean, 'loss_train_std': loss_train_std, 'accuracy_train' : accuracy_train}\n",
    "\n",
    "# -----------------------------------------------------------------------------\n",
    "# function for testing the model\n",
    "# -----------------------------------------------------------------------------\n",
    "\n",
    "def test():\n",
    "\n",
    "    loader_test = set_test\n",
    "    # print('test the model at given epoch')\n",
    "    \n",
    "    accuracy_test   = []\n",
    "    loss_test       = 0\n",
    "    correct         = 0\n",
    "\n",
    "    model.eval()\n",
    "\n",
    "    for idx_batch, (data, target) in enumerate(loader_test):\n",
    "\n",
    "        if bCuda:\n",
    "            data, target    = data.cuda(), target.cuda()\n",
    "\n",
    "        data, target    = Variable(data), Variable(target)\n",
    "\n",
    "        output  = model(data)\n",
    "        loss    = objective(output, target)\n",
    "\n",
    "        loss_test   += loss.item()\n",
    "        pred        = output.data.max(1)[1]\n",
    "        correct     += pred.eq(target.data.view_as(pred)).cpu().sum()\n",
    "\n",
    "    loss_test       = loss_test / len(loader_test.dataset)\n",
    "    accuracy_test   = 100. * float(correct) / len(loader_test.dataset)\n",
    "\n",
    "    return {'loss_test': loss_test, 'accuracy_test': accuracy_test}\n",
    "\n",
    "# -----------------------------------------------------------------------------\n",
    "#  Adjust learning rate\n",
    "# -----------------------------------------------------------------------------\n",
    "\n",
    "def adjust_lr(optimizer, epoch, learning_rate): \n",
    "    if epoch==50 :\n",
    "        learning_rate*=0.5\n",
    "        for param_group in optimizer.param_groups: \n",
    "            param_group['lr'] = learning_rate\n",
    "            \n",
    "# -----------------------------------------------------------------------------\n",
    "# iteration for the epoch\n",
    "# -----------------------------------------------------------------------------\n",
    "\n",
    "epoch = 100\n",
    "\n",
    "loss_train_mean = np.zeros(epoch, dtype=float)\n",
    "loss_train_std = np.zeros(epoch, dtype=float)\n",
    "loss_test = np.zeros(epoch, dtype=float)\n",
    "accuracy_train = np.zeros(epoch, dtype=float)\n",
    "accuracy_test = np.zeros(epoch, dtype=float)\n",
    "\n",
    "\n",
    "for e in range(epoch):\n",
    "    \n",
    "    adjust_lr(optimizer, e, learningRate)\n",
    "   \n",
    "    result_train    = train()\n",
    "    result_test     = test()\n",
    "\n",
    "    loss_train_mean[e]  = result_train['loss_train_mean']\n",
    "    loss_train_std[e]   = result_train['loss_train_std']\n",
    "    loss_test[e]        = result_test['loss_test']\n",
    "    \n",
    "    accuracy_train[e]   = result_train['accuracy_train']\n",
    "    accuracy_test[e]    = result_test['accuracy_test']\n",
    "    \n",
    "    print(\"[epoch {0}] loss: (training) {1}, (testing) {2}, accuracy: (training) {3}, (testing) {4}\"\\\n",
    "          .format(e, round(loss_train_mean[e], 6), round(loss_test[e], 6),\\\n",
    "                  round(accuracy_train[e], 4), round(accuracy_test[e], 10)))"
   ]
  },
  {
   "cell_type": "markdown",
   "metadata": {},
   "source": [
    "　"
   ]
  },
  {
   "cell_type": "markdown",
   "metadata": {},
   "source": [
    "Plot the average of the training loss within the mini-batch cross iterations"
   ]
  },
  {
   "cell_type": "code",
   "execution_count": 42,
   "metadata": {},
   "outputs": [
    {
     "data": {
      "image/png": "[encoded data removed]",
      "text/plain": [
       "<Figure size 432x288 with 1 Axes>"
      ]
     },
     "metadata": {},
     "output_type": "display_data"
    }
   ],
   "source": [
    "x = range(epoch)\n",
    "y = loss_train_mean[x]\n",
    "\n",
    "plt.plot(x, y, color='y')\n",
    "plt.title('Train Loss')\n",
    "plt.xlabel('Epoch')\n",
    "plt.ylabel('Loss')\n",
    "plt.show()"
   ]
  },
  {
   "cell_type": "markdown",
   "metadata": {},
   "source": [
    "Plot the standard deviation of the training loss withint the mini-batch cross iterations"
   ]
  },
  {
   "cell_type": "code",
   "execution_count": 48,
   "metadata": {},
   "outputs": [
    {
     "data": {
      "image/png": "[encoded data removed]",
      "text/plain": [
       "<Figure size 432x288 with 1 Axes>"
      ]
     },
     "metadata": {},
     "output_type": "display_data"
    }
   ],
   "source": [
    "x = range(epoch)\n",
    "y = sns.tsplot(data=loss_train_mean[x], err_style=\"unit_traces\", color='y')\n",
    "std  = loss_train_std\n",
    "y.errorbar(range(epoch), loss_train_mean[x], yerr=std, fmt='-o', color='y')\n",
    "plt.title('Standard drviation of the Training Loss')\n",
    "plt.xlabel('Epoch')\n",
    "plt.ylabel('Loss')\n",
    "plt.show()"
   ]
  },
  {
   "cell_type": "markdown",
   "metadata": {},
   "source": [
    "Plot the testing loss at each epoch"
   ]
  },
  {
   "cell_type": "code",
   "execution_count": 45,
   "metadata": {},
   "outputs": [
    {
     "data": {
      "image/png": "[encoded data removed]",
      "text/plain": [
       "<Figure size 432x288 with 1 Axes>"
      ]
     },
     "metadata": {},
     "output_type": "display_data"
    }
   ],
   "source": [
    "x = range(epoch)\n",
    "y = loss_test[x]\n",
    "\n",
    "plt.plot(x, y, color='c')\n",
    "plt.title('Testing Loss')\n",
    "plt.xlabel('Epoch')\n",
    "plt.ylabel('Loss')\n",
    "plt.show()"
   ]
  },
  {
   "cell_type": "markdown",
   "metadata": {},
   "source": [
    "Plot the training and testing accuracy at each epoch"
   ]
  },
  {
   "cell_type": "code",
   "execution_count": 49,
   "metadata": {},
   "outputs": [
    {
     "data": {
      "image/png": "[encoded data removed]",
      "text/plain": [
       "<Figure size 432x288 with 1 Axes>"
      ]
     },
     "metadata": {},
     "output_type": "display_data"
    }
   ],
   "source": [
    "x = range(epoch)\n",
    "y1 = accuracy_train[x]\n",
    "y2 = accuracy_test[x]\n",
    "plt.plot(x, y1, color='y', label='$Train$')\n",
    "plt.plot(x, y2, color='c', label='$Validation$')\n",
    "plt.legend(loc=\"lower right\")\n",
    "plt.title('Training and Testing Accuracy')\n",
    "plt.xlabel('Epoch')\n",
    "plt.ylabel('Accuracy')\n",
    "plt.show()"
   ]
  },
  {
   "cell_type": "code",
   "execution_count": null,
   "metadata": {},
   "outputs": [],
   "source": []
  }
 ],
 "metadata": {
  "accelerator": "GPU",
  "colab": {
   "collapsed_sections": [],
   "name": "Binary classification based on 3 layers neural network 2 final.ipynb",
   "provenance": []
  },
  "kernelspec": {
   "display_name": "Python 3",
   "language": "python",
   "name": "python3"
  },
  "language_info": {
   "codemirror_mode": {
    "name": "ipython",
    "version": 3
   },
   "file_extension": ".py",
   "mimetype": "text/x-python",
   "name": "python",
   "nbconvert_exporter": "python",
   "pygments_lexer": "ipython3",
   "version": "3.7.5"
  }
 },
 "nbformat": 4,
 "nbformat_minor": 1
}
