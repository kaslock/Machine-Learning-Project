{
 "cells": [
  {
   "cell_type": "markdown",
   "metadata": {
    "colab_type": "text",
    "id": "gtz7sUaBNmiH"
   },
   "source": [
    "　"
   ]
  },
  {
   "cell_type": "markdown",
   "metadata": {
    "colab_type": "text",
    "id": "Rz0E4T27NmiJ"
   },
   "source": [
    "　"
   ]
  },
  {
   "cell_type": "markdown",
   "metadata": {
    "colab_type": "text",
    "id": "yoKbDp5yNmiK"
   },
   "source": [
    "$$\\ \\ \\ \\ \\ \\ \\ \\ \\ \\ \\ \\ \\ \\ \\ \\ \\ \\ \\ \\ \\ \\ \\ \\ \\ \\ \\ \\ \\ \\ \\ \\ \\ \\ \\ \\ \\ \\ \\ \\ \\ \\ \\ \\ \\ \\ \\ \\ \\ \\ \\ \\ \\ \\ \\ \\ \\ \\ \\ \\ \\ \\ \\ \\ \\ \\ \\ \\ \\ \\ \\ \\ \\ \\ \\ \\ \\ \\ \\ \\ \\ \\ \\ \\ \\ \\ \\ \\ \\ \\ \\ \\ \\ \\ \\ \\ \\ \\ \\ \\ \\ \\ \\ \\ \\ \\ \\ \\ \\ \\ \\ \\ \\ \\ \\ \\ \\ \\ \\ \\ \\ 20165549\\ \\ JANG\\ \\ JAE\\ \\ YONG$$"
   ]
  },
  {
   "cell_type": "markdown",
   "metadata": {
    "colab_type": "text",
    "id": "4spZOuiYNmiM"
   },
   "source": [
    "　"
   ]
  },
  {
   "cell_type": "markdown",
   "metadata": {
    "colab_type": "text",
    "id": "fx568JtWNmiM"
   },
   "source": [
    "Build a binary classifier based on 3 layers neural network using the human versus horse dataset"
   ]
  },
  {
   "cell_type": "markdown",
   "metadata": {
    "colab_type": "text",
    "id": "4mwZhh5INmiN"
   },
   "source": [
    " "
   ]
  },
  {
   "cell_type": "code",
   "execution_count": 1,
   "metadata": {},
   "outputs": [],
   "source": [
    "import torch.nn as nn\n",
    "import torch.nn.functional as F\n",
    "import math\n",
    "\n",
    "import pandas as pd\n",
    "import seaborn as sns\n",
    "\n",
    "class Linear(nn.Module):\n",
    "\n",
    "    def __init__(self, num_classes=2):\n",
    "\n",
    "        super(Linear, self).__init__()\n",
    "\n",
    "        self.number_class   = num_classes\n",
    "\n",
    "        _size_image     = 100*100\n",
    "        _num1           = 50\n",
    "        _num2           = 20\n",
    "        \n",
    "        self.fc1        = nn.Linear(_size_image, _num1, bias=True)\n",
    "        self.fc2        = nn.Linear(_num1, _num2, bias=True)\n",
    "        self.fc3        = nn.Linear(_num2, num_classes, bias=True)\n",
    "\n",
    "        self.fc_layer1  = nn.Sequential(self.fc1, nn.ReLU(True))\n",
    "        self.fc_layer2  = nn.Sequential(self.fc2, nn.ReLU(True))\n",
    "        self.fc_layer3  = nn.Sequential(self.fc3, nn.Sigmoid())\n",
    "        \n",
    "        self.classifier = nn.Sequential(self.fc_layer1, self.fc_layer2, self.fc_layer3)\n",
    "        \n",
    "        self._initialize_weight()        \n",
    "        \n",
    "    def _initialize_weight(self):\n",
    "\n",
    "        for m in self.modules():\n",
    "            n1 = m.fc1.in_features\n",
    "            m.fc1.weight.data.uniform_(- 1.0 / math.sqrt(n1/2), 1.0 / math.sqrt(n1/2))\n",
    "            n2 = m.fc2.in_features\n",
    "            m.fc2.weight.data.uniform_(- 1.0 / math.sqrt(n2/2), 1.0 / math.sqrt(n2/2))\n",
    "            n3 = m.fc3.in_features\n",
    "            m.fc3.weight.data.uniform_(- 1.0 / math.sqrt(n3), 1.0 / math.sqrt(n3))\n",
    "            \n",
    "            if m.fc1.bias is not None:\n",
    "                m.fc1.bias.data.zero_()\n",
    "            if m.fc2.bias is not None:\n",
    "                m.fc2.bias.data.zero_()\n",
    "            if m.fc3.bias is not None:\n",
    "                m.fc3.bias.data.zero_()\n",
    "\n",
    "            break\n",
    "            \n",
    "#         for m in self.modules():\n",
    "#             n = m.in_features\n",
    "#             m.weight.data.uniform_(- 1.0 / math.sqrt(n), 1.0 / math.sqrt(n))\n",
    "\n",
    "#             if m.bias is not None:\n",
    "\n",
    "#                 m.bias.data.zero_()\n",
    "\n",
    "    def forward(self, x):\n",
    "\n",
    "        x = x.view(x.size(0), -1)\n",
    "        x = self.classifier(x)\n",
    "\n",
    "        return x\n"
   ]
  },
  {
   "cell_type": "code",
   "execution_count": 2,
   "metadata": {},
   "outputs": [
    {
     "name": "stdout",
     "output_type": "stream",
     "text": [
      "[epoch 0] loss: (training) 0.035697, (testing) 0.035004, accuracy: (training) 54.333, (testing) 50.0\n",
      "[epoch 1] loss: (training) 0.03549, (testing) 0.034857, accuracy: (training) 52.3856, (testing) 50.0\n",
      "[epoch 2] loss: (training) 0.035352, (testing) 0.03467, accuracy: (training) 52.3856, (testing) 50.0\n",
      "[epoch 3] loss: (training) 0.035254, (testing) 0.034522, accuracy: (training) 53.3593, (testing) 50.0\n",
      "[epoch 4] loss: (training) 0.035215, (testing) 0.034262, accuracy: (training) 54.333, (testing) 51.5625\n",
      "[epoch 5] loss: (training) 0.035062, (testing) 0.03404, accuracy: (training) 55.2093, (testing) 55.078125\n",
      "[epoch 6] loss: (training) 0.034868, (testing) 0.033862, accuracy: (training) 55.8909, (testing) 53.125\n",
      "[epoch 7] loss: (training) 0.034747, (testing) 0.033679, accuracy: (training) 56.3778, (testing) 53.515625\n",
      "[epoch 8] loss: (training) 0.034605, (testing) 0.033418, accuracy: (training) 56.3778, (testing) 58.203125\n",
      "[epoch 9] loss: (training) 0.034525, (testing) 0.033267, accuracy: (training) 57.8384, (testing) 54.6875\n",
      "[epoch 10] loss: (training) 0.034486, (testing) 0.03288, accuracy: (training) 58.3252, (testing) 71.484375\n",
      "[epoch 11] loss: (training) 0.034167, (testing) 0.032744, accuracy: (training) 62.9017, (testing) 59.765625\n",
      "[epoch 12] loss: (training) 0.034155, (testing) 0.032358, accuracy: (training) 60.8569, (testing) 73.4375\n",
      "[epoch 13] loss: (training) 0.034111, (testing) 0.032055, accuracy: (training) 62.999, (testing) 76.953125\n",
      "[epoch 14] loss: (training) 0.033916, (testing) 0.031738, accuracy: (training) 63.6806, (testing) 84.765625\n",
      "[epoch 15] loss: (training) 0.033551, (testing) 0.031641, accuracy: (training) 68.6465, (testing) 71.875\n",
      "[epoch 16] loss: (training) 0.033325, (testing) 0.031174, accuracy: (training) 67.186, (testing) 80.078125\n",
      "[epoch 17] loss: (training) 0.033503, (testing) 0.03079, accuracy: (training) 67.4781, (testing) 87.109375\n",
      "[epoch 18] loss: (training) 0.033153, (testing) 0.030477, accuracy: (training) 71.5677, (testing) 85.546875\n",
      "[epoch 19] loss: (training) 0.033084, (testing) 0.030132, accuracy: (training) 70.3019, (testing) 85.546875\n",
      "[epoch 20] loss: (training) 0.032829, (testing) 0.029747, accuracy: (training) 71.1782, (testing) 86.328125\n",
      "[epoch 21] loss: (training) 0.03251, (testing) 0.029696, accuracy: (training) 72.6388, (testing) 79.296875\n",
      "[epoch 22] loss: (training) 0.032155, (testing) 0.029048, accuracy: (training) 71.3729, (testing) 87.109375\n",
      "[epoch 23] loss: (training) 0.032, (testing) 0.028691, accuracy: (training) 73.6125, (testing) 87.5\n",
      "[epoch 24] loss: (training) 0.032042, (testing) 0.028352, accuracy: (training) 73.3204, (testing) 87.5\n",
      "[epoch 25] loss: (training) 0.031906, (testing) 0.028017, accuracy: (training) 73.6125, (testing) 87.109375\n",
      "[epoch 26] loss: (training) 0.031467, (testing) 0.027718, accuracy: (training) 74.4888, (testing) 87.890625\n",
      "[epoch 27] loss: (training) 0.031355, (testing) 0.027938, accuracy: (training) 73.0282, (testing) 86.71875\n",
      "[epoch 28] loss: (training) 0.031143, (testing) 0.02705, accuracy: (training) 74.8783, (testing) 87.5\n",
      "[epoch 29] loss: (training) 0.030803, (testing) 0.02674, accuracy: (training) 75.3651, (testing) 87.5\n",
      "[epoch 30] loss: (training) 0.030945, (testing) 0.026459, accuracy: (training) 75.9494, (testing) 87.5\n",
      "[epoch 31] loss: (training) 0.030613, (testing) 0.026743, accuracy: (training) 75.3651, (testing) 86.71875\n",
      "[epoch 32] loss: (training) 0.030377, (testing) 0.02711, accuracy: (training) 76.3389, (testing) 83.203125\n",
      "[epoch 33] loss: (training) 0.030355, (testing) 0.025741, accuracy: (training) 77.1178, (testing) 87.5\n",
      "[epoch 34] loss: (training) 0.029738, (testing) 0.026722, accuracy: (training) 75.9494, (testing) 83.203125\n",
      "[epoch 35] loss: (training) 0.029932, (testing) 0.025912, accuracy: (training) 77.7994, (testing) 87.109375\n",
      "[epoch 36] loss: (training) 0.029889, (testing) 0.025195, accuracy: (training) 77.9942, (testing) 86.328125\n",
      "[epoch 37] loss: (training) 0.029624, (testing) 0.025148, accuracy: (training) 77.5073, (testing) 86.328125\n",
      "[epoch 38] loss: (training) 0.029539, (testing) 0.025199, accuracy: (training) 78.0915, (testing) 85.9375\n",
      "[epoch 39] loss: (training) 0.029204, (testing) 0.025244, accuracy: (training) 77.7994, (testing) 87.5\n",
      "[epoch 40] loss: (training) 0.029239, (testing) 0.024352, accuracy: (training) 78.3836, (testing) 87.5\n",
      "[epoch 41] loss: (training) 0.029258, (testing) 0.024794, accuracy: (training) 77.9942, (testing) 86.71875\n",
      "[epoch 42] loss: (training) 0.028719, (testing) 0.024385, accuracy: (training) 77.7994, (testing) 86.71875\n",
      "[epoch 43] loss: (training) 0.028667, (testing) 0.024025, accuracy: (training) 78.481, (testing) 87.5\n",
      "[epoch 44] loss: (training) 0.028825, (testing) 0.023851, accuracy: (training) 78.0915, (testing) 87.5\n",
      "[epoch 45] loss: (training) 0.02866, (testing) 0.024109, accuracy: (training) 79.26, (testing) 87.109375\n",
      "[epoch 46] loss: (training) 0.028302, (testing) 0.023565, accuracy: (training) 79.3574, (testing) 87.5\n",
      "[epoch 47] loss: (training) 0.028455, (testing) 0.024045, accuracy: (training) 79.1626, (testing) 86.71875\n",
      "[epoch 48] loss: (training) 0.028063, (testing) 0.024742, accuracy: (training) 79.8442, (testing) 86.328125\n",
      "[epoch 49] loss: (training) 0.028253, (testing) 0.023345, accuracy: (training) 79.5521, (testing) 87.5\n",
      "[epoch 50] loss: (training) 0.027798, (testing) 0.023485, accuracy: (training) 79.8442, (testing) 86.328125\n",
      "[epoch 51] loss: (training) 0.028191, (testing) 0.02385, accuracy: (training) 79.9416, (testing) 87.109375\n",
      "[epoch 52] loss: (training) 0.027782, (testing) 0.023508, accuracy: (training) 80.2337, (testing) 86.328125\n",
      "[epoch 53] loss: (training) 0.02803, (testing) 0.023724, accuracy: (training) 80.2337, (testing) 87.109375\n",
      "[epoch 54] loss: (training) 0.028127, (testing) 0.023327, accuracy: (training) 80.4284, (testing) 86.71875\n",
      "[epoch 55] loss: (training) 0.027956, (testing) 0.023639, accuracy: (training) 80.5258, (testing) 87.109375\n",
      "[epoch 56] loss: (training) 0.02754, (testing) 0.023313, accuracy: (training) 80.6232, (testing) 86.328125\n",
      "[epoch 57] loss: (training) 0.027756, (testing) 0.023472, accuracy: (training) 81.0127, (testing) 87.5\n",
      "[epoch 58] loss: (training) 0.027607, (testing) 0.023335, accuracy: (training) 81.0127, (testing) 87.5\n",
      "[epoch 59] loss: (training) 0.027598, (testing) 0.023503, accuracy: (training) 80.7205, (testing) 87.890625\n",
      "[epoch 60] loss: (training) 0.027695, (testing) 0.023395, accuracy: (training) 81.2074, (testing) 87.890625\n",
      "[epoch 61] loss: (training) 0.027531, (testing) 0.023749, accuracy: (training) 80.7205, (testing) 87.109375\n",
      "[epoch 62] loss: (training) 0.027551, (testing) 0.023398, accuracy: (training) 81.0127, (testing) 87.890625\n",
      "[epoch 63] loss: (training) 0.027664, (testing) 0.023101, accuracy: (training) 81.5969, (testing) 86.71875\n",
      "[epoch 64] loss: (training) 0.02757, (testing) 0.023646, accuracy: (training) 81.3048, (testing) 87.109375\n",
      "[epoch 65] loss: (training) 0.027573, (testing) 0.023364, accuracy: (training) 81.4995, (testing) 87.890625\n",
      "[epoch 66] loss: (training) 0.027239, (testing) 0.023391, accuracy: (training) 81.5969, (testing) 87.5\n",
      "[epoch 67] loss: (training) 0.027624, (testing) 0.024238, accuracy: (training) 81.6943, (testing) 85.15625\n",
      "[epoch 68] loss: (training) 0.027234, (testing) 0.023565, accuracy: (training) 81.5969, (testing) 87.109375\n",
      "[epoch 69] loss: (training) 0.02722, (testing) 0.022875, accuracy: (training) 81.889, (testing) 87.5\n",
      "[epoch 70] loss: (training) 0.027318, (testing) 0.023513, accuracy: (training) 81.6943, (testing) 87.109375\n",
      "[epoch 71] loss: (training) 0.027272, (testing) 0.0229, accuracy: (training) 81.9864, (testing) 87.109375\n",
      "[epoch 72] loss: (training) 0.026998, (testing) 0.022804, accuracy: (training) 81.9864, (testing) 87.5\n",
      "[epoch 73] loss: (training) 0.027225, (testing) 0.023205, accuracy: (training) 81.7916, (testing) 87.890625\n",
      "[epoch 74] loss: (training) 0.027248, (testing) 0.024142, accuracy: (training) 81.889, (testing) 84.765625\n",
      "[epoch 75] loss: (training) 0.027069, (testing) 0.022883, accuracy: (training) 81.4995, (testing) 87.890625\n",
      "[epoch 76] loss: (training) 0.026828, (testing) 0.02311, accuracy: (training) 82.3759, (testing) 87.890625\n"
     ]
    },
    {
     "name": "stdout",
     "output_type": "stream",
     "text": [
      "[epoch 77] loss: (training) 0.026994, (testing) 0.023697, accuracy: (training) 82.668, (testing) 85.546875\n",
      "[epoch 78] loss: (training) 0.027331, (testing) 0.023369, accuracy: (training) 81.9864, (testing) 87.109375\n",
      "[epoch 79] loss: (training) 0.026898, (testing) 0.023319, accuracy: (training) 82.5706, (testing) 87.5\n",
      "[epoch 80] loss: (training) 0.026695, (testing) 0.0229, accuracy: (training) 82.4732, (testing) 87.890625\n",
      "[epoch 81] loss: (training) 0.026645, (testing) 0.023015, accuracy: (training) 82.9601, (testing) 87.890625\n",
      "[epoch 82] loss: (training) 0.026842, (testing) 0.023011, accuracy: (training) 82.668, (testing) 87.890625\n",
      "[epoch 83] loss: (training) 0.026865, (testing) 0.023217, accuracy: (training) 83.0574, (testing) 87.5\n",
      "[epoch 84] loss: (training) 0.02662, (testing) 0.023549, accuracy: (training) 82.8627, (testing) 86.328125\n",
      "[epoch 85] loss: (training) 0.026622, (testing) 0.023188, accuracy: (training) 83.1548, (testing) 87.5\n",
      "[epoch 86] loss: (training) 0.026603, (testing) 0.022946, accuracy: (training) 83.1548, (testing) 87.890625\n",
      "[epoch 87] loss: (training) 0.026522, (testing) 0.023257, accuracy: (training) 82.7653, (testing) 87.109375\n",
      "[epoch 88] loss: (training) 0.026795, (testing) 0.023948, accuracy: (training) 83.0574, (testing) 84.765625\n",
      "[epoch 89] loss: (training) 0.026453, (testing) 0.022962, accuracy: (training) 82.9601, (testing) 87.890625\n",
      "[epoch 90] loss: (training) 0.026903, (testing) 0.022684, accuracy: (training) 82.9601, (testing) 87.890625\n",
      "[epoch 91] loss: (training) 0.026466, (testing) 0.022846, accuracy: (training) 82.9601, (testing) 87.890625\n",
      "[epoch 92] loss: (training) 0.026282, (testing) 0.022695, accuracy: (training) 82.7653, (testing) 87.890625\n",
      "[epoch 93] loss: (training) 0.026505, (testing) 0.022523, accuracy: (training) 83.3496, (testing) 88.28125\n",
      "[epoch 94] loss: (training) 0.026624, (testing) 0.022762, accuracy: (training) 83.0574, (testing) 87.890625\n",
      "[epoch 95] loss: (training) 0.026748, (testing) 0.022973, accuracy: (training) 83.2522, (testing) 88.28125\n",
      "[epoch 96] loss: (training) 0.026535, (testing) 0.022533, accuracy: (training) 83.5443, (testing) 88.671875\n",
      "[epoch 97] loss: (training) 0.026376, (testing) 0.023249, accuracy: (training) 83.6417, (testing) 86.328125\n",
      "[epoch 98] loss: (training) 0.026224, (testing) 0.023235, accuracy: (training) 83.1548, (testing) 86.328125\n",
      "[epoch 99] loss: (training) 0.026283, (testing) 0.022919, accuracy: (training) 83.2522, (testing) 88.28125\n"
     ]
    }
   ],
   "source": [
    "# -----------------------------------------------------------------------------\n",
    "# import packages\n",
    "# -----------------------------------------------------------------------------\n",
    "from __future__ import print_function\n",
    "\n",
    "import torch\n",
    "import torch.nn as nn\n",
    "import torch.nn.functional as F\n",
    "import torch.optim as optim\n",
    "import torch.backends.cudnn as cudnn\n",
    "import argparse\n",
    "import sys\n",
    "import os\n",
    "import numpy as np\n",
    "import time\n",
    "import datetime \n",
    "import csv\n",
    "import configparser\n",
    "import argparse\n",
    "import platform\n",
    "\n",
    "from torchvision import datasets, transforms\n",
    "from torch.autograd import Variable\n",
    "from random import shuffle\n",
    "\n",
    "# -----------------------------------------------------------------------------\n",
    "# load dataset\n",
    "# -----------------------------------------------------------------------------\n",
    "\n",
    "import matplotlib.pyplot as plt\n",
    "from torch.utils.data import Dataset, DataLoader\n",
    "import torchvision.transforms as transforms\n",
    "import torchvision\n",
    "\n",
    "transform = transforms.Compose([#transforms.Resize((256,256)),  \n",
    "                                transforms.Grayscale(),\n",
    "    # the code transforms.Graysclae() is for changing the size [3,100,100] to [1, 100, 100]\n",
    "    # (notice : [channel, height, width] )\n",
    "                                transforms.ToTensor(),])\n",
    "\n",
    "#train_data_path = 'relative path of train data set'\n",
    "train_data_path = 'horse-or-human/horse-or-human/train'\n",
    "trainset = torchvision.datasets.ImageFolder(root=train_data_path, transform=transform)\n",
    "trainloader = torch.utils.data.DataLoader(trainset, batch_size=20, shuffle=True, num_workers=1)  \n",
    "\n",
    "#validation_data_path = 'relative path of validation data set'\n",
    "validation_data_path = 'horse-or-human/horse-or-human/validation'\n",
    "valset = torchvision.datasets.ImageFolder(root=validation_data_path, transform=transform)\n",
    "valloader = torch.utils.data.DataLoader(valset, batch_size=20, shuffle=False, num_workers=1)  \n",
    "\n",
    "set_train   = trainloader\n",
    "set_test    = valloader\n",
    "\n",
    "num_classes = 2\n",
    "learningRate = 0.003\n",
    "\n",
    "# -----------------------------------------------------------------------------\n",
    "# load neural network model\n",
    "# -----------------------------------------------------------------------------\n",
    "\n",
    "# from Linear import *\n",
    "model = Linear(num_classes=num_classes)\n",
    "\n",
    "# -----------------------------------------------------------------------------\n",
    "# Set the flag for using cuda\n",
    "# -----------------------------------------------------------------------------\n",
    "\n",
    "bCuda = 1\n",
    "\n",
    "if bCuda:\n",
    " \n",
    "    model.cuda()\n",
    "\n",
    "# -----------------------------------------------------------------------------\n",
    "# optimization algorithm\n",
    "# -----------------------------------------------------------------------------\n",
    "\n",
    "optimizer   = optim.SGD(model.parameters(), lr=learningRate, weight_decay = 4*1e-2)\n",
    "objective   = nn.CrossEntropyLoss()\n",
    "\n",
    "# -----------------------------------------------------------------------------\n",
    "# function for training the model\n",
    "# -----------------------------------------------------------------------------\n",
    "\n",
    "def train():\n",
    "\n",
    "    loader_train = set_train\n",
    "    # print('train the model at given epoch')\n",
    "\n",
    "    loss_train          = []\n",
    "    correct         = 0\n",
    "    model.train()\n",
    "   \n",
    "    for idx_batch, (data, target) in enumerate(loader_train):\n",
    "       \n",
    "        if bCuda:      \n",
    "            data, target    = data.cuda(), target.cuda()\n",
    "\n",
    "        data, target    = Variable(data), Variable(target)\n",
    "\n",
    "        optimizer.zero_grad()\n",
    "\n",
    "        output  = model(data)\n",
    "        loss    = objective(output, target)\n",
    "\n",
    "        loss.backward()\n",
    "        optimizer.step()\n",
    "\n",
    "        loss_train_batch    = loss.item() / len(data)\n",
    "        loss_train.append(loss_train_batch)\n",
    "        \n",
    "        pred = output.data.max(1)[1]\n",
    "        correct += pred.eq(target.data.view_as(pred)).cpu().sum()\n",
    "        \n",
    "    loss_train_mean     = np.mean(loss_train)\n",
    "    loss_train_std      = np.std(loss_train)\n",
    "    accuracy_train   = 100. * float(correct) / len(loader_train.dataset)\n",
    "\n",
    "    return {'loss_train_mean': loss_train_mean, 'loss_train_std': loss_train_std, 'accuracy_train' : accuracy_train}\n",
    "\n",
    "# -----------------------------------------------------------------------------\n",
    "# function for testing the model\n",
    "# -----------------------------------------------------------------------------\n",
    "\n",
    "def test():\n",
    "\n",
    "    loader_test = set_test\n",
    "    # print('test the model at given epoch')\n",
    "    \n",
    "    accuracy_test   = []\n",
    "    loss_test       = 0\n",
    "    correct         = 0\n",
    "\n",
    "    model.eval()\n",
    "\n",
    "    for idx_batch, (data, target) in enumerate(loader_test):\n",
    "\n",
    "        if bCuda:\n",
    "            data, target    = data.cuda(), target.cuda()\n",
    "\n",
    "        data, target    = Variable(data), Variable(target)\n",
    "\n",
    "        output  = model(data)\n",
    "        loss    = objective(output, target)\n",
    "\n",
    "        loss_test   += loss.item()\n",
    "        pred        = output.data.max(1)[1]\n",
    "        correct     += pred.eq(target.data.view_as(pred)).cpu().sum()\n",
    "\n",
    "    loss_test       = loss_test / len(loader_test.dataset)\n",
    "    accuracy_test   = 100. * float(correct) / len(loader_test.dataset)\n",
    "\n",
    "    return {'loss_test': loss_test, 'accuracy_test': accuracy_test}\n",
    "\n",
    "# -----------------------------------------------------------------------------\n",
    "#  Adjust learning rate\n",
    "# -----------------------------------------------------------------------------\n",
    "\n",
    "def adjust_lr(optimizer, epoch, learning_rate): \n",
    "    if epoch==50 :\n",
    "        learning_rate*= (0.1 ** (epoch // 30))\n",
    "        for param_group in optimizer.param_groups: \n",
    "            param_group['lr'] = learning_rate\n",
    "            \n",
    "# -----------------------------------------------------------------------------\n",
    "# iteration for the epoch\n",
    "# -----------------------------------------------------------------------------\n",
    "\n",
    "epoch = 100\n",
    "\n",
    "loss_train_mean = np.zeros(epoch, dtype=float)\n",
    "loss_train_std = np.zeros(epoch, dtype=float)\n",
    "loss_test = np.zeros(epoch, dtype=float)\n",
    "accuracy_train = np.zeros(epoch, dtype=float)\n",
    "accuracy_test = np.zeros(epoch, dtype=float)\n",
    "\n",
    "\n",
    "for e in range(epoch):\n",
    "    \n",
    "    adjust_lr(optimizer, e, learningRate)\n",
    "   \n",
    "    result_train    = train()\n",
    "    result_test     = test()\n",
    "\n",
    "    loss_train_mean[e]  = result_train['loss_train_mean']\n",
    "    loss_train_std[e]   = result_train['loss_train_std']\n",
    "    loss_test[e]        = result_test['loss_test']\n",
    "    \n",
    "    accuracy_train[e]   = result_train['accuracy_train']\n",
    "    accuracy_test[e]    = result_test['accuracy_test']\n",
    "    \n",
    "    print(\"[epoch {0}] loss: (training) {1}, (testing) {2}, accuracy: (training) {3}, (testing) {4}\"\\\n",
    "          .format(e, round(loss_train_mean[e], 6), round(loss_test[e], 6),\\\n",
    "                  round(accuracy_train[e], 4), round(accuracy_test[e], 10)))"
   ]
  },
  {
   "cell_type": "markdown",
   "metadata": {},
   "source": [
    "　"
   ]
  },
  {
   "cell_type": "markdown",
   "metadata": {},
   "source": [
    "Plot the average of the training loss within the mini-batch cross iterations"
   ]
  },
  {
   "cell_type": "code",
   "execution_count": 4,
   "metadata": {},
   "outputs": [
    {
     "data": {
      "image/png": "[encoded data removed]",
      "text/plain": [
       "<Figure size 432x288 with 1 Axes>"
      ]
     },
     "metadata": {
      "needs_background": "light"
     },
     "output_type": "display_data"
    }
   ],
   "source": [
    "x = range(epoch)\n",
    "y = loss_train_mean[x]\n",
    "\n",
    "plt.plot(x, y, color='y')\n",
    "plt.title('Train Loss')\n",
    "plt.xlabel('Epoch')\n",
    "plt.ylabel('Loss')\n",
    "plt.show()"
   ]
  },
  {
   "cell_type": "markdown",
   "metadata": {},
   "source": [
    "Plot the standard deviation of the training loss withint the mini-batch cross iterations"
   ]
  },
  {
   "cell_type": "code",
   "execution_count": 6,
   "metadata": {},
   "outputs": [
    {
     "data": {
      "image/png": "[encoded data removed]",
      "text/plain": [
       "<Figure size 432x288 with 1 Axes>"
      ]
     },
     "metadata": {
      "needs_background": "light"
     },
     "output_type": "display_data"
    }
   ],
   "source": [
    "x = range(epoch)\n",
    "y = sns.tsplot(data=loss_train_mean[x], err_style=\"unit_traces\", color='y')\n",
    "std  = loss_train_std\n",
    "y.errorbar(range(epoch), loss_train_mean[x], yerr=std, fmt='-o', color='y')\n",
    "plt.title('Standard drviation of the Training Loss')\n",
    "plt.xlabel('Epoch')\n",
    "plt.ylabel('Loss')\n",
    "plt.show()"
   ]
  },
  {
   "cell_type": "markdown",
   "metadata": {},
   "source": [
    "Plot the testing loss at each epoch"
   ]
  },
  {
   "cell_type": "code",
   "execution_count": 7,
   "metadata": {},
   "outputs": [
    {
     "data": {
      "image/png": "[encoded data removed]",
      "text/plain": [
       "<Figure size 432x288 with 1 Axes>"
      ]
     },
     "metadata": {
      "needs_background": "light"
     },
     "output_type": "display_data"
    }
   ],
   "source": [
    "x = range(epoch)\n",
    "y = loss_test[x]\n",
    "\n",
    "plt.plot(x, y, color='c')\n",
    "plt.title('Testing Loss')\n",
    "plt.xlabel('Epoch')\n",
    "plt.ylabel('Loss')\n",
    "plt.show()"
   ]
  },
  {
   "cell_type": "markdown",
   "metadata": {},
   "source": [
    "Plot the training and testing accuracy at each epoch"
   ]
  },
  {
   "cell_type": "code",
   "execution_count": 8,
   "metadata": {},
   "outputs": [
    {
     "data": {
      "image/png": "[encoded data removed]",
      "text/plain": [
       "<Figure size 432x288 with 1 Axes>"
      ]
     },
     "metadata": {
      "needs_background": "light"
     },
     "output_type": "display_data"
    }
   ],
   "source": [
    "x = range(epoch)\n",
    "y1 = accuracy_train[x]\n",
    "y2 = accuracy_test[x]\n",
    "plt.plot(x, y1, color='y', label='$Train$')\n",
    "plt.plot(x, y2, color='c', label='$Validation$')\n",
    "plt.legend(loc=\"lower right\")\n",
    "plt.title('Training and Testing Accuracy')\n",
    "plt.xlabel('Epoch')\n",
    "plt.ylabel('Accuracy')\n",
    "plt.show()"
   ]
  },
  {
   "cell_type": "code",
   "execution_count": 9,
   "metadata": {},
   "outputs": [
    {
     "name": "stdout",
     "output_type": "stream",
     "text": [
      "\n"
     ]
    },
    {
     "data": {
      "text/html": [
       "<div>\n",
       "<style scoped>\n",
       "    .dataframe tbody tr th:only-of-type {\n",
       "        vertical-align: middle;\n",
       "    }\n",
       "\n",
       "    .dataframe tbody tr th {\n",
       "        vertical-align: top;\n",
       "    }\n",
       "\n",
       "    .dataframe thead th {\n",
       "        text-align: right;\n",
       "    }\n",
       "</style>\n",
       "<table border=\"1\" class=\"dataframe\">\n",
       "  <thead>\n",
       "    <tr style=\"text-align: right;\">\n",
       "      <th></th>\n",
       "      <th>Loss</th>\n",
       "      <th>Accuracy</th>\n",
       "    </tr>\n",
       "  </thead>\n",
       "  <tbody>\n",
       "    <tr>\n",
       "      <th>Training</th>\n",
       "      <td>0.026283</td>\n",
       "      <td>83.2521908471 %</td>\n",
       "    </tr>\n",
       "    <tr>\n",
       "      <th>Validation</th>\n",
       "      <td>0.022919</td>\n",
       "      <td>88.28125 %</td>\n",
       "    </tr>\n",
       "  </tbody>\n",
       "</table>\n",
       "</div>"
      ],
      "text/plain": [
       "                Loss         Accuracy\n",
       "Training    0.026283  83.2521908471 %\n",
       "Validation  0.022919       88.28125 %"
      ]
     },
     "metadata": {},
     "output_type": "display_data"
    }
   ],
   "source": [
    "print()\n",
    "idx1 = round(loss_train_mean[epoch - 1], 6)\n",
    "idx2 = str(round(accuracy_train[epoch - 1], 10)) + ' %'\n",
    "idx3 = round(loss_test[epoch - 1], 6)\n",
    "idx4 = str(round(accuracy_test[epoch - 1], 10)) + ' %'\n",
    "\n",
    "df = pd.DataFrame(data=np.array([[idx1, idx2], [idx3, idx4]]), index= ['Training', 'Validation'], columns=['Loss', 'Accuracy'])\n",
    "display(df)"
   ]
  },
  {
   "cell_type": "markdown",
   "metadata": {},
   "source": [
    "Markdown:"
   ]
  },
  {
   "cell_type": "markdown",
   "metadata": {},
   "source": [
    "| Dataset | Loss | Accuracy |\n",
    "|:--------|:--------:|--------:|\n",
    "| Training | 247.500688 | 95.3300000000% |\n",
    "| Validation | 247.692399 | 85.1600000000% |"
   ]
  },
  {
   "cell_type": "code",
   "execution_count": null,
   "metadata": {},
   "outputs": [],
   "source": []
  }
 ],
 "metadata": {
  "accelerator": "GPU",
  "colab": {
   "collapsed_sections": [],
   "name": "Binary classification based on 3 layers neural network 2 final.ipynb",
   "provenance": []
  },
  "kernelspec": {
   "display_name": "Python 3",
   "language": "python",
   "name": "python3"
  },
  "language_info": {
   "codemirror_mode": {
    "name": "ipython",
    "version": 3
   },
   "file_extension": ".py",
   "mimetype": "text/x-python",
   "name": "python",
   "nbconvert_exporter": "python",
   "pygments_lexer": "ipython3",
   "version": "3.7.5"
  }
 },
 "nbformat": 4,
 "nbformat_minor": 1
}
