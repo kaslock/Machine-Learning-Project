{
 "cells": [
  {
   "cell_type": "markdown",
   "metadata": {},
   "source": [
    "　"
   ]
  },
  {
   "cell_type": "markdown",
   "metadata": {},
   "source": [
    "$$\\ \\ \\ \\ \\ \\ \\ \\ \\ \\ \\ \\ \\ \\ \\ \\ \\ \\ \\ \\ \\ \\ \\ \\ \\ \\ \\ \\ \\ \\ \\ \\ \\ \\ \\ \\ \\ \\ \\ \\ \\ \\ \\ \\ \\ \\ \\ \\ \\ \\ \\ \\ \\ \\ \\ \\ \\ \\ \\ \\ \\ \\ \\ \\ \\ \\ \\ \\ \\ \\ \\ \\ \\ \\ \\ \\ \\ \\ \\ \\ \\ \\ \\ \\ \\ \\ \\ \\ \\ \\ \\ \\ \\ \\ \\ \\ \\ \\ \\ \\ \\ \\ \\ \\ \\ \\ \\ \\ \\ \\ \\ \\ \\ \\ \\ \\ \\ \\ \\ \\ \\ 20165549\\ \\ JANG\\ \\ JAE\\ \\ YONG$$"
   ]
  },
  {
   "cell_type": "markdown",
   "metadata": {},
   "source": [
    "　"
   ]
  },
  {
   "cell_type": "markdown",
   "metadata": {},
   "source": [
    "Build a binary classifier for human versus horse based on logistic regression using the dataset that consists of human and horse images"
   ]
  },
  {
   "cell_type": "markdown",
   "metadata": {},
   "source": [
    "　"
   ]
  },
  {
   "cell_type": "markdown",
   "metadata": {},
   "source": [
    " "
   ]
  },
  {
   "cell_type": "code",
   "execution_count": 117,
   "metadata": {},
   "outputs": [],
   "source": [
    "import matplotlib.pyplot as plt\n",
    "import numpy as np\n",
    "\n",
    "import torch\n",
    "from torch.utils.data import Dataset, DataLoader\n",
    "import torchvision.transforms as transforms\n",
    "import torchvision\n",
    "import os\n",
    "\n",
    "transform = transforms.Compose([#transforms.Resize((256,256)),  \n",
    "                                transforms.Grayscale(),\n",
    "    # the code transforms.Graysclae() is for changing the size [3,100,100] to [1, 100, 100] (notice : [channel, height, width] )\n",
    "                                transforms.ToTensor(),])\n",
    "\n",
    "#train_data_path = 'relative path of training data set'\n",
    "train_data_path = 'horse-or-human/horse-or-human/train'\n",
    "trainset = torchvision.datasets.ImageFolder(root=train_data_path, transform=transform)\n",
    "# change the valuse of batch_size, num_workers for your program\n",
    "# if shuffle=True, the data reshuffled at every epoch \n",
    "trainloader = torch.utils.data.DataLoader(trainset, batch_size=1, shuffle=False, num_workers=1)  \n",
    "\n",
    "validation_data_path = 'horse-or-human/horse-or-human/validation'\n",
    "valset = torchvision.datasets.ImageFolder(root=validation_data_path, transform=transform)\n",
    "# change the valuse of batch_size, num_workers for your program\n",
    "valloader = torch.utils.data.DataLoader(valset, batch_size=1, shuffle=False, num_workers=1)  \n",
    "\n",
    "NUM_EPOCH = range(1) # my code\n",
    "\n",
    "#\n",
    "# Image size and number of data\n",
    "#\n",
    "image_size = 10000\n",
    "train_count = 1027\n",
    "validation_count = 256\n",
    "\n",
    "train_label = np.empty(train_count, dtype=float)\n",
    "train_data = np.ones((train_count, image_size + 1), dtype=float)\n",
    "\n",
    "validation_label = np.empty(validation_count, dtype=float)\n",
    "validation_data = np.ones((validation_count, image_size + 1), dtype=float)\n",
    "\n",
    "for epoch in (NUM_EPOCH):\n",
    "    # load training images of the batch size for every iteration\n",
    "    for i, data in enumerate(trainloader):\n",
    "\n",
    "        # inputs is the image\n",
    "        # labels is the class of the image\n",
    "        inputs, labels = data\n",
    "\n",
    "        # if you don't change the image size, it will be [batch_size, 1, 100, 100]\n",
    "        #print(inputs.shape)\n",
    "\n",
    "        # if labels is horse it returns tensor[0,0,0] else it returns tensor[1,1,1]\n",
    "        #print(labels)\n",
    "        \n",
    "        train_label[i] = int(labels)\n",
    "        train_tmp = np.asfarray(inputs)\n",
    "        train_data[i, :10000] = train_tmp[0, 0, :, :].reshape(10000)\n",
    "        \n",
    "    # load validation images of the batch size for every iteration\n",
    "    for i, data in enumerate(valloader):\n",
    "        \n",
    "        # inputs is the image\n",
    "        # labels is the class of the image\n",
    "        inputs, labels = data\n",
    "\n",
    "        # if you don't change the image size, it will be [batch_size, 1, 100, 100]\n",
    "        #print(inputs.shape)\n",
    "\n",
    "        # if labels is horse it returns tensor[0,0,0] else it returns tensor[1,1,1]\n",
    "        #print(labels)\n",
    "        \n",
    "        validation_label[i] = int(labels)\n",
    "        validation_tmp = np.asfarray(inputs)\n",
    "        validation_data[i, :10000] = validation_tmp[0, 0, :, :].reshape(10000)"
   ]
  },
  {
   "cell_type": "code",
   "execution_count": 118,
   "metadata": {},
   "outputs": [],
   "source": [
    "np.random.seed(1)\n",
    "\n",
    "learningRate = 10**(-5)\n",
    "delta = 10**(-9)\n",
    "\n",
    "def sigmoid(x):\n",
    "    return 1/(1 + np.exp(-x))\n",
    "\n",
    "def loss_function(t, y):\n",
    "    return -np.sum(t*np.log(y+delta) + (1-t)*np.log(1-y+delta)) \n",
    "\n",
    "iteration = 5000\n",
    "\n",
    "#d = np.empty(train_count, dtype=float)\n",
    "\n",
    "u = np.empty((image_size + 1, 100), dtype=float)\n",
    "v = np.empty((100, 100), dtype=float)\n",
    "w = np.empty(1, dtype=float)\n",
    "\n",
    "a = np.empty((train_count, 100), dtype=float)\n",
    "b = np.empty((train_count, 100), dtype=float)\n",
    "c = np.empty(train_count, dtype=float)\n",
    "h = np.empty(train_count, dtype=float)\n",
    "\n",
    "t_a = np.empty((train_count, 1), dtype=float)\n",
    "t_b = np.empty((train_count, 1), dtype=float)\n",
    "t_c = np.empty(train_count, dtype=float)\n",
    "t_h = np.empty(train_count, dtype=float)\n",
    "\n",
    "loss_arr = np.zeros(iteration, dtype=float)\n",
    "t_loss_arr = np.zeros(iteration, dtype=float)\n",
    "loss_value_arr = np.zeros(iteration, dtype=float)\n",
    "t_loss_value_arr = np.zeros(iteration, dtype=float)\n",
    "\n",
    "for i in range(image_size + 1):\n",
    "    for j in range(100):\n",
    "        u[i, j] = np.random.rand(1)\n",
    "\n",
    "for i in range(100):\n",
    "    for j in range(100):\n",
    "        v[i, j] = np.random.rand(1)\n",
    "\n",
    "for i in range(100):\n",
    "    w[i] = np.random.rand(1)\n"
   ]
  },
  {
   "cell_type": "code",
   "execution_count": 149,
   "metadata": {},
   "outputs": [
    {
     "name": "stdout",
     "output_type": "stream",
     "text": [
      "iter = 0\n",
      "train loss count = 500\n",
      "train loss value = 10.089223873365171\n",
      "validation loss count = 128\n",
      "validation loss value = 10.361632917973196\n",
      "iter = 200\n",
      "train loss count = 447\n",
      "train loss value = 7.195869957636423\n",
      "validation loss count = 120\n",
      "validation loss value = 7.433517115851054\n",
      "iter = 400\n",
      "train loss count = 277\n",
      "train loss value = 1.7863099079727733\n",
      "validation loss count = 98\n",
      "validation loss value = 2.663051885634853\n",
      "iter = 600\n",
      "train loss count = 211\n",
      "train loss value = 0.7545228303506877\n",
      "validation loss count = 52\n",
      "validation loss value = 0.8571300714454198\n",
      "iter = 800\n",
      "train loss count = 180\n",
      "train loss value = 0.5332049832863697\n",
      "validation loss count = 54\n",
      "validation loss value = 0.9215650953797833\n",
      "iter = 1000\n",
      "train loss count = 163\n",
      "train loss value = 0.43567181887495976\n",
      "validation loss count = 55\n",
      "validation loss value = 0.9828712530247964\n",
      "iter = 1200\n",
      "train loss count = 147\n",
      "train loss value = 0.3736234625371987\n",
      "validation loss count = 57\n",
      "validation loss value = 1.0281688056977245\n",
      "iter = 1400\n",
      "train loss count = 134\n",
      "train loss value = 0.32863085371258194\n",
      "validation loss count = 63\n",
      "validation loss value = 1.056103185888672\n"
     ]
    }
   ],
   "source": [
    "d_lc = np.empty(train_count, dtype=float)\n",
    "d_cb = np.empty(train_count, dtype=float)\n",
    "d_ba = np.empty(train_count, dtype=float)\n",
    "\n",
    "for iter in range(iteration):\n",
    "    \n",
    "    for i in range(train_count):\n",
    "        for j in range(100):\n",
    "            a[i, j] = u[:, j].dot(train_data[i, :])\n",
    "    \n",
    "    for i in range(validation_count):\n",
    "        for j in range(100):\n",
    "            t_a[i, j] = u[:, j].dot(validation_data[i, :])\n",
    "    \n",
    "    for i in range(train_count):\n",
    "        for j in range(100):\n",
    "            b[i, j] = v[:, j].dot(sigmoid(a[i, :]))\n",
    "    \n",
    "    for i in range(validation_count):\n",
    "        for j in range(100):\n",
    "            t_b[i, j] = v[:, j].dot(sigmoid(t_a[i, :]))\n",
    "    \n",
    "    for i in range(train_count):\n",
    "        c[i] = w[:].dot(sigmoid(b[i ,:]))\n",
    "    \n",
    "    for i in range(validation_count):\n",
    "        t_c[i] = w[:].dot(sigmoid(t_b[i ,:]))\n",
    "\n",
    "    for i in range(train_count):\n",
    "        h[i] = sigmoid(c[i])\n",
    "    \n",
    "    for i in range(validation_count):\n",
    "        t_h[i] = sigmoid(t_c[i])\n",
    "    \n",
    "    for i in range(train_count):\n",
    "        d_lc[i] = (h[i] - train_label[i])\n",
    "        d_cb[i] = w[:].dot(sigmoid(b[i, :] * (1 - sigmoid(b[i, :]))))\n",
    "        d_ba[i] = 0\n",
    "        \n",
    "        for j in range(1):\n",
    "            d_ba[i] += v[:, j].dot(sigmoid(a[i, :] * (1 - sigmoid(a[i, :]))))\n",
    "        d_ba[i] /= 100\n",
    "        \n",
    "    for i in range(image_size):\n",
    "        for j in range(100):\n",
    "            u[i, j] = u[i, j] - learningRate * np.sum(d_lc[:] * d_cb[:] * d_ba[:] * train_data[:, i])\n",
    "        \n",
    "    for i in range(100):\n",
    "        for j in range(100):\n",
    "            v[i, j] = v[i, j] - learningRate * np.sum(d_lc[:] * d_cb[:] * sigmoid(a[:, i]))\n",
    "    \n",
    "    for i in range(100):\n",
    "        w[i] = w[i] - learningRate * np.sum(d_lc[:] * sigmoid(b[:, i]))\n",
    "    \n",
    "    loss_value = 0\n",
    "    t_loss_value = 0\n",
    "    training_loss = 0\n",
    "    testing_loss = 0\n",
    "    \n",
    "    for i in range(train_count):\n",
    "        loss_value += loss_function(train_label[i], h[i])\n",
    "\n",
    "        if train_label[i] == 1:\n",
    "            if h[i] <= 0.5: # loss count\n",
    "                training_loss += 1\n",
    "\n",
    "        else:\n",
    "            if h[i] > 0.5: # loss count\n",
    "                training_loss += 1\n",
    "\n",
    "    for i in range(validation_count):\n",
    "        t_loss_value += loss_function(validation_label[i], t_h[i])\n",
    "        if validation_label[i] == 1:\n",
    "            if t_h[i] <= 0.5: # loss count\n",
    "                testing_loss += 1\n",
    "\n",
    "        else:\n",
    "            if t_h[i] > 0.5: # loss count\n",
    "                testing_loss += 1\n",
    "\n",
    "    if iter % 200 == 0:\n",
    "        print(\"iter =\", iter)\n",
    "        print(\"train loss count =\", training_loss)\n",
    "        print(\"train loss value =\", loss_value / train_count)\n",
    "        print(\"validation loss count =\", testing_loss)\n",
    "        print(\"validation loss value =\", t_loss_value / validation_count)\n",
    "        \n",
    "    loss_value_arr[iter] = loss_value\n",
    "    t_loss_value_arr[iter] = t_loss_value\n",
    "    loss_arr[iter] = training_loss\n",
    "    t_loss_arr[iter] = testing_loss"
   ]
  },
  {
   "cell_type": "markdown",
   "metadata": {},
   "source": [
    "　"
   ]
  },
  {
   "cell_type": "markdown",
   "metadata": {},
   "source": [
    "Plot training Loss and Accuracy"
   ]
  },
  {
   "cell_type": "code",
   "execution_count": 150,
   "metadata": {},
   "outputs": [
    {
     "data": {
      "image/png": "[encoded data removed]",
      "text/plain": [
       "<Figure size 432x288 with 1 Axes>"
      ]
     },
     "metadata": {
      "needs_background": "light"
     },
     "output_type": "display_data"
    }
   ],
   "source": [
    "x = range(iteration)\n",
    "y = loss_value_arr[x] / train_count\n",
    "\n",
    "plt.plot(x, y, \"BLUE\")\n",
    "plt.title('Training Loss')\n",
    "plt.xlabel('Iteration')\n",
    "plt.ylabel('Loss')\n",
    "plt.show()"
   ]
  },
  {
   "cell_type": "code",
   "execution_count": 151,
   "metadata": {},
   "outputs": [
    {
     "data": {
      "image/png": "[encoded data removed]",
      "text/plain": [
       "<Figure size 432x288 with 1 Axes>"
      ]
     },
     "metadata": {
      "needs_background": "light"
     },
     "output_type": "display_data"
    }
   ],
   "source": [
    "x = range(iteration)\n",
    "y = (train_count - loss_arr[x]) / train_count\n",
    "\n",
    "plt.plot(x, y, \"BLUE\")\n",
    "plt.title('Training Accuracy')\n",
    "plt.xlabel('Iteration')\n",
    "plt.ylabel('Accuracy percent')\n",
    "plt.show()"
   ]
  },
  {
   "cell_type": "markdown",
   "metadata": {},
   "source": [
    "　"
   ]
  },
  {
   "cell_type": "markdown",
   "metadata": {},
   "source": [
    "Plot Validation Loss and Accuracy"
   ]
  },
  {
   "cell_type": "code",
   "execution_count": 152,
   "metadata": {},
   "outputs": [
    {
     "data": {
      "image/png": "[encoded data removed]",
      "text/plain": [
       "<Figure size 432x288 with 1 Axes>"
      ]
     },
     "metadata": {
      "needs_background": "light"
     },
     "output_type": "display_data"
    }
   ],
   "source": [
    "x = range(iteration)\n",
    "y = t_loss_value_arr[x] / validation_count\n",
    "\n",
    "plt.plot(x, y, \"RED\")\n",
    "plt.title('Validation Loss')\n",
    "plt.xlabel('Iteration')\n",
    "plt.ylabel('Loss')\n",
    "plt.show()"
   ]
  },
  {
   "cell_type": "code",
   "execution_count": 153,
   "metadata": {},
   "outputs": [
    {
     "data": {
      "image/png": "[encoded data removed]",
      "text/plain": [
       "<Figure size 432x288 with 1 Axes>"
      ]
     },
     "metadata": {
      "needs_background": "light"
     },
     "output_type": "display_data"
    }
   ],
   "source": [
    "x = range(iteration)\n",
    "y = (validation_count - t_loss_arr[x]) / validation_count\n",
    "\n",
    "plt.plot(x, y, \"RED\")\n",
    "plt.title('Validation Accuracy')\n",
    "plt.xlabel('Iteration')\n",
    "plt.ylabel('Accuracy percent')\n",
    "plt.show()"
   ]
  },
  {
   "cell_type": "markdown",
   "metadata": {},
   "source": [
    "　"
   ]
  },
  {
   "cell_type": "markdown",
   "metadata": {},
   "source": [
    "Plot Training and Validation at every iteration"
   ]
  },
  {
   "cell_type": "code",
   "execution_count": 154,
   "metadata": {},
   "outputs": [
    {
     "data": {
      "image/png": "[encoded data removed]",
      "text/plain": [
       "<Figure size 432x288 with 1 Axes>"
      ]
     },
     "metadata": {
      "needs_background": "light"
     },
     "output_type": "display_data"
    }
   ],
   "source": [
    "x = range(iteration)\n",
    "y1 = loss_value_arr[x] / train_count\n",
    "y2 = t_loss_value_arr[x] / validation_count\n",
    "\n",
    "plt.plot(x, y1, \"BLUE\")\n",
    "plt.plot(x, y2, \"RED\")\n",
    "plt.title('Training and Validation Loss')\n",
    "plt.xlabel('Iteration')\n",
    "plt.ylabel('Loss')\n",
    "plt.show()"
   ]
  },
  {
   "cell_type": "code",
   "execution_count": 155,
   "metadata": {},
   "outputs": [
    {
     "data": {
      "image/png": "[encoded data removed]",
      "text/plain": [
       "<Figure size 432x288 with 1 Axes>"
      ]
     },
     "metadata": {
      "needs_background": "light"
     },
     "output_type": "display_data"
    }
   ],
   "source": [
    "x = range(iteration)\n",
    "y1 = (train_count - loss_arr[x]) / train_count\n",
    "y2 = (validation_count - t_loss_arr[x]) / validation_count\n",
    "\n",
    "plt.plot(x, y1, \"BLUE\")\n",
    "plt.plot(x, y2, \"RED\")\n",
    "plt.title('Training and Validation Accuracy')\n",
    "plt.xlabel('Iteration')\n",
    "plt.ylabel('Accuracy percent')\n",
    "plt.show()"
   ]
  },
  {
   "cell_type": "markdown",
   "metadata": {},
   "source": [
    "　"
   ]
  },
  {
   "cell_type": "markdown",
   "metadata": {},
   "source": [
    "　"
   ]
  },
  {
   "cell_type": "markdown",
   "metadata": {},
   "source": [
    "Present the table for the final accuracy and loss with training and validation datasets as below:"
   ]
  },
  {
   "cell_type": "code",
   "execution_count": 156,
   "metadata": {},
   "outputs": [
    {
     "name": "stdout",
     "output_type": "stream",
     "text": [
      "Final Training Loss = 0.31013416190346643\n",
      "Final Training Accuracy = 87.34177215189874 %\n",
      "Final Validation Loss = 1.064814328940255\n",
      "Final Validation Accuracy = 75.0 %\n"
     ]
    }
   ],
   "source": [
    "print ('Final Training Loss =', loss_value_arr[iteration - 1] / train_count)\n",
    "print ('Final Training Accuracy =', (train_count - loss_arr[iteration - 1]) / train_count * 100, '%')\n",
    "print ('Final Validation Loss =', t_loss_value_arr[iteration - 1] / validation_count)\n",
    "print ('Final Validation Accuracy =', (validation_count - t_loss_arr[iteration - 1]) / validation_count * 100, '%')"
   ]
  },
  {
   "cell_type": "code",
   "execution_count": 157,
   "metadata": {},
   "outputs": [
    {
     "data": {
      "text/html": [
       "<div>\n",
       "<style scoped>\n",
       "    .dataframe tbody tr th:only-of-type {\n",
       "        vertical-align: middle;\n",
       "    }\n",
       "\n",
       "    .dataframe tbody tr th {\n",
       "        vertical-align: top;\n",
       "    }\n",
       "\n",
       "    .dataframe thead th {\n",
       "        text-align: right;\n",
       "    }\n",
       "</style>\n",
       "<table border=\"1\" class=\"dataframe\">\n",
       "  <thead>\n",
       "    <tr style=\"text-align: right;\">\n",
       "      <th></th>\n",
       "      <th>Loss</th>\n",
       "      <th>Accuracy</th>\n",
       "    </tr>\n",
       "  </thead>\n",
       "  <tbody>\n",
       "    <tr>\n",
       "      <th>Training</th>\n",
       "      <td>0.310134</td>\n",
       "      <td>87.34 %</td>\n",
       "    </tr>\n",
       "    <tr>\n",
       "      <th>Validation</th>\n",
       "      <td>1.064814</td>\n",
       "      <td>75.0 %</td>\n",
       "    </tr>\n",
       "  </tbody>\n",
       "</table>\n",
       "</div>"
      ],
      "text/plain": [
       "                Loss Accuracy\n",
       "Training    0.310134  87.34 %\n",
       "Validation  1.064814   75.0 %"
      ]
     },
     "metadata": {},
     "output_type": "display_data"
    }
   ],
   "source": [
    "import pandas as pd\n",
    "\n",
    "idx1 = round(loss_value_arr[iteration - 1] / train_count, 6)\n",
    "idx2 = str(round((train_count - loss_arr[iteration - 1]) / train_count * 100, 2)) + ' %'\n",
    "idx3 = round(t_loss_value_arr[iteration - 1] / validation_count, 6)\n",
    "idx4 = str(round((validation_count - t_loss_arr[iteration - 1]) / validation_count * 100, 2)) + ' %'\n",
    "\n",
    "df = pd.DataFrame(data=np.array([[idx1, idx2], [idx3, idx4]]), index= ['Training', 'Validation'], columns=['Loss', 'Accuracy'])\n",
    "display(df)"
   ]
  },
  {
   "cell_type": "markdown",
   "metadata": {},
   "source": [
    "MarkDown :"
   ]
  },
  {
   "cell_type": "markdown",
   "metadata": {},
   "source": [
    "| Dataset | Loss | Accuracy |\n",
    "|:--------|:--------:|--------:|\n",
    "| Training | 0.310134 | 87.34% |\n",
    "| Validation | 1.064814 | 75.0% |"
   ]
  },
  {
   "cell_type": "markdown",
   "metadata": {},
   "source": [
    "　"
   ]
  },
  {
   "cell_type": "markdown",
   "metadata": {},
   "source": [
    "　"
   ]
  }
 ],
 "metadata": {
  "kernelspec": {
   "display_name": "Python 3",
   "language": "python",
   "name": "python3"
  },
  "language_info": {
   "codemirror_mode": {
    "name": "ipython",
    "version": 3
   },
   "file_extension": ".py",
   "mimetype": "text/x-python",
   "name": "python",
   "nbconvert_exporter": "python",
   "pygments_lexer": "ipython3",
   "version": "3.7.1"
  }
 },
 "nbformat": 4,
 "nbformat_minor": 2
}
